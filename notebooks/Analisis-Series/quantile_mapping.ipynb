{
 "cells": [
  {
   "cell_type": "markdown",
   "metadata": {},
   "source": [
    "__Dudas__:\n",
    "*  ¿Se debe aplicar la función a las series con o sin ceros?"
   ]
  },
  {
   "cell_type": "code",
   "execution_count": 1,
   "metadata": {},
   "outputs": [],
   "source": [
    "import numpy as np\n",
    "from datetime import datetime, timedelta\n",
    "from statsmodels.distributions.empirical_distribution import ECDF"
   ]
  },
  {
   "cell_type": "code",
   "execution_count": 2,
   "metadata": {},
   "outputs": [],
   "source": [
    "import pandas as pd\n",
    "import matplotlib.pyplot as plt\n",
    "plt.style.use('seaborn-whitegrid')\n",
    "%matplotlib inline"
   ]
  },
  {
   "cell_type": "code",
   "execution_count": null,
   "metadata": {},
   "outputs": [],
   "source": [
    "def empirical_quantile_mapping(obs, modHist, modRaw, frec_adaptation=True, new_extremes=True, neg=False):\n",
    "    \"\"\"\n",
    "    corr = ecdf - 1_obs(qRaw(modRaw))\n",
    "    \n",
    "    Fang, G.H., Yang, J., Chen, Y.N., Zammit, C.Comparing bias correction methods in\n",
    "    downscaling meteorological variables for a hydrologic impact study in an arid area\n",
    "    in China(2015) Hydrology and Earth System Sciences, 19 (6), pp. 2547-2559.\n",
    "    \n",
    "    Parámetros:\n",
    "    -----------\n",
    "    obs:             array. Datos observadosobservado\n",
    "    modHist:         array. Datos del modelo climático en el periodo histórico\n",
    "    modRaw:          array. Datos del modelo climático en el escenario futuroajustar los días con lluvia\n",
    "    frec_adaptation: boolean.\n",
    "    new_extremes:    boolean.\n",
    "    neg:             boolean. Si la variable puede tomar valores negativos ('True') o no ('False')\n",
    "    \n",
    "    Salidas:\n",
    "    --------\n",
    "    corr:            array. Serie corregida  \n",
    "    \"\"\"\n",
    "    \n",
    "    # colapsar las series en 'array' 1D\n",
    "    obs = obs.flatten().astype(float)\n",
    "    modHist = modHist.flatten().astype(float)\n",
    "    modRaw = modRaw.flatten().astype(float)\n",
    "    \n",
    "    # ajustar la función de distribución empírica (ECDF) de los datos del modelo\n",
    "    ecdfHist = ECDF(modHist)#>=0\n",
    "    # calcular cuantiles de 'modRaw' en la ECDF ajustada a 'modHist'\n",
    "    qRaw = ecdfHist(modRaw)#>=0\n",
    "    \n",
    "    if new_extremes:\n",
    "        # Calibro el máximo valor de mi serie observada para generar nuevos extremos\n",
    "        delta_max = np.max(modRaw) / np.max(modHist)\n",
    "#         delta_min = np.min(modRaw) / np.min(modHist)\n",
    "        if delta_max > 1:\n",
    "            # corregir el máximo de la serie observada para que sea igual al histórico del modelo\n",
    "            posi_max = np.argmax(obs)\n",
    "            obs[posi_max] *= delta_max\n",
    "    \n",
    "    if frec_adaptation: # ajustar los días con precipitación\n",
    "        # se generan prob. aleatorias entre 0 y el menor cuantil de 'qRaw'\n",
    "        n_min = np.sum(qRaw == qRaw.min())\n",
    "        n_min_rand = np.random.uniform(low=0, high=qRaw.min(), size=n_min)\n",
    "        # corregir los mínimos de 'qRaw' con 'n_min_rand'\n",
    "        qRaw[qRaw == qRaw.min()] = n_min_rand\n",
    "        # generar serie corregida\n",
    "        if neg:\n",
    "            corr = np.percentile(obs, 100 * qRaw)\n",
    "        else:\n",
    "            corr = np.percentile(obs[obs >= 0], 100 * qRaw)\n",
    "        # Los mínimos de 'corr' se convierten en 0\n",
    "        corr[corr == np.min(corr)] = 0\n",
    "    else:\n",
    "        # generar serie corregida\n",
    "        if neg:\n",
    "            corr = np.percentile(obs, 100 * qRaw)\n",
    "        else:\n",
    "            corr = np.percentile(obs[obs >= 0], 100 * qRaw)\n",
    "        \n",
    "    return corr"
   ]
  },
  {
   "cell_type": "code",
   "execution_count": 36,
   "metadata": {},
   "outputs": [],
   "source": [
    "# cargar serie de datos brutos\n",
    "raw = pd.read_csv('Serie_raw.csv', parse_dates=True, index_col=0)\n",
    "modRaw = raw.iloc[:,0].values\n",
    "# cargar series de datos observados y del modelo en el periodo observado\n",
    "obs_mod = pd.read_csv('Serie_obs_mod.csv', parse_dates=True, index_col=0)\n",
    "obs = obs_mod.Rain.values\n",
    "modHist = obs_mod.iloc[:, 0].values\n",
    "\n",
    "new_extremes = True\n",
    "rec_adaptation =True"
   ]
  },
  {
   "cell_type": "markdown",
   "metadata": {},
   "source": [
    "probar con series con nan"
   ]
  },
  {
   "cell_type": "code",
   "execution_count": 47,
   "metadata": {},
   "outputs": [],
   "source": [
    "obs[10] = np.nan"
   ]
  },
  {
   "cell_type": "code",
   "execution_count": 50,
   "metadata": {},
   "outputs": [
    {
     "data": {
      "text/plain": [
       "36006"
      ]
     },
     "execution_count": 50,
     "metadata": {},
     "output_type": "execute_result"
    }
   ],
   "source": [
    "len(obs)"
   ]
  },
  {
   "cell_type": "code",
   "execution_count": 51,
   "metadata": {},
   "outputs": [
    {
     "data": {
      "text/plain": [
       "36005"
      ]
     },
     "execution_count": 51,
     "metadata": {},
     "output_type": "execute_result"
    }
   ],
   "source": [
    "obs = obs[~np.isnan(obs)]\n",
    "len(obs)"
   ]
  },
  {
   "cell_type": "code",
   "execution_count": 58,
   "metadata": {},
   "outputs": [],
   "source": [
    "def empirical_quantile_mapping(obs, modHist, modRaw, frec_adaptation=True,\n",
    "                               new_extremes=True, neg=False):\n",
    "    \"\"\"\n",
    "    corr = ecdf - 1_obs(qRaw(modRaw))\n",
    "    \n",
    "    Fang, G.H., Yang, J., Chen, Y.N., Zammit, C.Comparing bias correction methods in\n",
    "    downscaling meteorological variables for a hydrologic impact study in an arid area\n",
    "    in China(2015) Hydrology and Earth System Sciences, 19 (6), pp. 2547-2559.\n",
    "    \n",
    "    Parámetros:\n",
    "    -----------\n",
    "    obs:             array. Datos observadosobservado\n",
    "    modHist:         array. Datos del modelo climático en el periodo histórico\n",
    "    modRaw:          array. Datos del modelo climático en el escenario futuroajustar los días con lluvia\n",
    "    frec_adaptation: boolean.\n",
    "    new_extremes:    boolean.\n",
    "    neg:             boolean. Si la variable puede tomar valores negativos ('True') o no ('False')\n",
    "    \n",
    "    Salidas:\n",
    "    --------\n",
    "    corr:            array. Serie corregida  \n",
    "    \"\"\"\n",
    "    \n",
    "    \n",
    "    # colapsar las series en 'array' 1D  y eliminar Nan      \n",
    "    obs = obs.flatten().astype(float)\n",
    "    obs = obs[~np.isnan(obs)]\n",
    "    modHist = modHist.flatten().astype(float)\n",
    "    modHist = modHist[~np.isnan(modHist)]\n",
    "    modRaw = modRaw.flatten().astype(float)\n",
    "    modRaw = modRaw[~np.isnan(modRaw)]\n",
    "    \n",
    "    # ajustar la función de distribución empírica (ECDF) de los datos del modelo\n",
    "    ecdfHist = ECDF(modHist)#>=0\n",
    "    # calcular cuantiles de 'modRaw' en la ECDF ajustada a 'modHist'\n",
    "    qRaw = ecdfHist(modRaw)#>=0\n",
    "    \n",
    "    if new_extremes:\n",
    "        # 'delta' (sesgo) entre los máximos del modelo entre los periodos 'Raw' e 'Hist'\n",
    "        delta_max = np.max(modRaw) / np.max(modHist)\n",
    "#         delta_min = np.min(modRaw) / np.min(modHist)\n",
    "        if delta_max > 1:\n",
    "            # corregir el máximo de la serie observada según el 'delta'\n",
    "            posi_max = np.argmax(obs)\n",
    "            obs[posi_max] *= delta_max\n",
    "            \n",
    "    if frec_adaptation: # ajustar los días con precipitación\n",
    "        # se generan prob. aleatorias entre 0 y el menor cuantil de 'qRaw'\n",
    "        n_min = np.sum(qRaw == qRaw.min())\n",
    "        qRand = np.random.uniform(low=0, high=qRaw.min(), size=n_min)\n",
    "        # corregir los mínimos de 'qRaw' con 'qRand'\n",
    "        qRaw[qRaw == qRaw.min()] = qRand\n",
    "        \n",
    "    # generar serie corregida\n",
    "    if neg:\n",
    "        corr = np.percentile(obs, 100 * qRaw)\n",
    "    else:\n",
    "        corr = np.percentile(obs[obs >= 0], 100 * qRaw)\n",
    "    if frec_adaptation:\n",
    "        # Los mínimos de 'corr' se convierten en 0\n",
    "        corr[corr == np.min(corr)] = 0\n",
    "        \n",
    "    return corr, qRaw, delta_max"
   ]
  },
  {
   "cell_type": "code",
   "execution_count": 59,
   "metadata": {},
   "outputs": [],
   "source": [
    "corr, qRaw, delta_max = empirical_quantile_mapping(obs, modHist, modRaw, frec_adaptation=True,\n",
    "                                  new_extremes=True, neg=False)"
   ]
  },
  {
   "cell_type": "code",
   "execution_count": 73,
   "metadata": {},
   "outputs": [
    {
     "data": {
      "image/png": "[encoded data removed]",
      "text/plain": [
       "<Figure size 360x360 with 1 Axes>"
      ]
     },
     "metadata": {
      "needs_background": "light"
     },
     "output_type": "display_data"
    }
   ],
   "source": [
    "Data = {'obs': obs, 'modHist': modHist, 'modRaw': modRaw, 'modHist': modHist, 'corr': corr}\n",
    "\n",
    "fig, ax = plt.subplots(figsize=(5, 5), sharey=True)\n",
    "\n",
    "for z, key in enumerate(Data):\n",
    "    data = np.sort(Data[key])\n",
    "    # ajustar la función de distribución empírica (ECDF) de los datos del modelo\n",
    "    ecdf = ECDF(data)#>=0\n",
    "    ax.plot(data, ecdf(data), label=key, zorder=3-z)\n",
    "    # plt.scatter(modRaw, qRaw, s=.5)\n",
    "    ax.set(xlim=(0, 5), ylim=(.7, .8), ylabel=('ecdf'))\n",
    "    \n",
    "ax.legend(loc=4, fontsize=12);"
   ]
  },
  {
   "cell_type": "code",
   "execution_count": 41,
   "metadata": {},
   "outputs": [
    {
     "data": {
      "text/plain": [
       "0.0"
      ]
     },
     "execution_count": 41,
     "metadata": {},
     "output_type": "execute_result"
    }
   ],
   "source": [
    "qRaw.min()"
   ]
  },
  {
   "cell_type": "code",
   "execution_count": 65,
   "metadata": {},
   "outputs": [
    {
     "data": {
      "text/plain": [
       "(728294.0, 730120.0)"
      ]
     },
     "execution_count": 65,
     "metadata": {},
     "output_type": "execute_result"
    },
    {
     "data": {
      "image/png": "[encoded data removed]",
      "text/plain": [
       "<Figure size 1080x288 with 1 Axes>"
      ]
     },
     "metadata": {
      "needs_background": "light"
     },
     "output_type": "display_data"
    }
   ],
   "source": [
    "corr = pd.Series(corr, raw.index)\n",
    "\n",
    "plt.figure(figsize=(15, 4))\n",
    "plt.plot(corr)\n",
    "plt.xlim('1995', '2000')"
   ]
  },
  {
   "cell_type": "code",
   "execution_count": 60,
   "metadata": {},
   "outputs": [
    {
     "data": {
      "text/plain": [
       "62.6575937946127"
      ]
     },
     "execution_count": 60,
     "metadata": {},
     "output_type": "execute_result"
    }
   ],
   "source": [
    "obs.max() * delta_max"
   ]
  },
  {
   "cell_type": "code",
   "execution_count": null,
   "metadata": {},
   "outputs": [],
   "source": []
  }
 ],
 "metadata": {
  "kernelspec": {
   "display_name": "Python 3",
   "language": "python",
   "name": "python3"
  },
  "language_info": {
   "codemirror_mode": {
    "name": "ipython",
    "version": 3
   },
   "file_extension": ".py",
   "mimetype": "text/x-python",
   "name": "python",
   "nbconvert_exporter": "python",
   "pygments_lexer": "ipython3",
   "version": "3.7.3"
  }
 },
 "nbformat": 4,
 "nbformat_minor": 4
}
