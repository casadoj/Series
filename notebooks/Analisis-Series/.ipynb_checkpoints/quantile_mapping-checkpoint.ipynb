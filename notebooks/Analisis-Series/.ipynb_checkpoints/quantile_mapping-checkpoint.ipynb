{
 "cells": [
  {
   "cell_type": "code",
   "execution_count": 89,
   "metadata": {},
   "outputs": [],
   "source": [
    "import numpy as np\n",
    "from datetime import datetime, timedelta\n",
    "from statsmodels.distributions.empirical_distribution import ECDF"
   ]
  },
  {
   "cell_type": "code",
   "execution_count": 122,
   "metadata": {},
   "outputs": [],
   "source": [
    "import pandas as pd\n",
    "import matplotlib.pyplot as plt\n",
    "plt.style.use('seaborn-whitegrid')\n",
    "%matplotlib inline"
   ]
  },
  {
   "cell_type": "code",
   "execution_count": 100,
   "metadata": {},
   "outputs": [],
   "source": [
    "def empirical_quantile_mapping(obs, modHist, modRaw, frec_adaptation=True, new_extremes=True, neg=False):\n",
    "    \"\"\"\n",
    "    corr = ecdf - 1_obs(qRaw(modRaw))\n",
    "    \n",
    "    Fang, G.H., Yang, J., Chen, Y.N., Zammit, C.Comparing bias correction methods in\n",
    "    downscaling meteorological variables for a hydrologic impact study in an arid area\n",
    "    in China(2015) Hydrology and Earth System Sciences, 19 (6), pp. 2547-2559.\n",
    "    \n",
    "    Parámetros:\n",
    "    -----------\n",
    "    obs:             array. Datos observadosobservado\n",
    "    modHist:         array. Datos del modelo climático en el periodo histórico\n",
    "    modRaw:          array. Datos del modelo climático en el escenario futuroajustar los días con lluvia\n",
    "    frec_adaptation: boolean.\n",
    "    new_extremes:    boolean.\n",
    "    neg:             boolean. Si la variable puede tomar valores negativos ('True') o no ('False')\n",
    "    \n",
    "    Salidas:\n",
    "    --------\n",
    "    corr:            array. Serie corregida  \n",
    "    \"\"\"\n",
    "    \n",
    "    # colapsar las series en 'array' 1D\n",
    "    obs = obs.flatten().astype(float)\n",
    "    modHist = modHist.flatten().astype(float)\n",
    "    modRaw = modRaw.flatten().astype(float)\n",
    "    \n",
    "    # ajustar la función de distribución empírica (ECDF) de los datos del modelo\n",
    "    ecdfHist = ECDF(modHist)#>=0\n",
    "    # calcular cuantiles de 'modRaw' en la ECDF ajustada a 'modHist'\n",
    "    qRaw = ecdfHist(modRaw)#>=0\n",
    "    \n",
    "    if new_extremes:\n",
    "        # Calibro el máximo valor de mi serie observada para generar nuevos extremos\n",
    "        delta_max = np.max(modRaw) / np.max(modHist)\n",
    "#         delta_min = np.min(modRaw) / np.min(modHist)\n",
    "        if delta_max > 1:\n",
    "            # corregir el máximo de la serie observada para que sea igual al histórico del modelo\n",
    "            posi_max = np.argmax(obs)\n",
    "            obs[posi_max] *= delta_max\n",
    "    \n",
    "    if frec_adaptation: # ajustar los días con precipitación\n",
    "        # se generan prob. aleatorias entre 0 y el menor cuantil de 'qRaw'\n",
    "        n_min = np.sum(qRaw == qRaw.min())\n",
    "        n_min_rand = np.random.uniform(low=0, high=qRaw.min(), size=n_min)\n",
    "        # corregir los mínimos de 'qRaw' con 'n_min_rand'\n",
    "        qRaw[qRaw == qRaw.min()] = n_min_rand\n",
    "        # generar serie corregida\n",
    "        if neg:\n",
    "            corr = np.percentile(obs, 100 * qRaw)\n",
    "        else:\n",
    "            corr = np.percentile(obs[obs >= 0], 100 * qRaw)\n",
    "        # Los mínimos de 'corr' se convierten en 0\n",
    "        corr[corr == np.min(corr)] = 0\n",
    "    else:\n",
    "        # generar serie corregida\n",
    "        if neg:\n",
    "            corr = np.percentile(obs, 100 * qRaw)\n",
    "        else:\n",
    "            corr = np.percentile(obs[obs >= 0], 100 * qRaw)\n",
    "        \n",
    "    return corr"
   ]
  },
  {
   "cell_type": "code",
   "execution_count": 162,
   "metadata": {},
   "outputs": [
    {
     "data": {
      "text/html": [
       "<div>\n",
       "<style scoped>\n",
       "    .dataframe tbody tr th:only-of-type {\n",
       "        vertical-align: middle;\n",
       "    }\n",
       "\n",
       "    .dataframe tbody tr th {\n",
       "        vertical-align: top;\n",
       "    }\n",
       "\n",
       "    .dataframe thead th {\n",
       "        text-align: right;\n",
       "    }\n",
       "</style>\n",
       "<table border=\"1\" class=\"dataframe\">\n",
       "  <thead>\n",
       "    <tr style=\"text-align: right;\">\n",
       "      <th></th>\n",
       "      <th>Prec ERA-5</th>\n",
       "      <th>Rain</th>\n",
       "    </tr>\n",
       "  </thead>\n",
       "  <tbody>\n",
       "    <tr>\n",
       "      <th>2015-05-28 20:00:00</th>\n",
       "      <td>0.007555</td>\n",
       "      <td>0.0</td>\n",
       "    </tr>\n",
       "    <tr>\n",
       "      <th>2015-05-29 08:00:00</th>\n",
       "      <td>0.001468</td>\n",
       "      <td>0.0</td>\n",
       "    </tr>\n",
       "    <tr>\n",
       "      <th>2015-07-09 14:00:00</th>\n",
       "      <td>0.124920</td>\n",
       "      <td>0.7</td>\n",
       "    </tr>\n",
       "    <tr>\n",
       "      <th>2015-07-16 18:00:00</th>\n",
       "      <td>2.211962</td>\n",
       "      <td>0.0</td>\n",
       "    </tr>\n",
       "    <tr>\n",
       "      <th>2015-07-16 19:00:00</th>\n",
       "      <td>2.494533</td>\n",
       "      <td>0.8</td>\n",
       "    </tr>\n",
       "  </tbody>\n",
       "</table>\n",
       "</div>"
      ],
      "text/plain": [
       "                     Prec ERA-5  Rain\n",
       "2015-05-28 20:00:00    0.007555   0.0\n",
       "2015-05-29 08:00:00    0.001468   0.0\n",
       "2015-07-09 14:00:00    0.124920   0.7\n",
       "2015-07-16 18:00:00    2.211962   0.0\n",
       "2015-07-16 19:00:00    2.494533   0.8"
      ]
     },
     "execution_count": 162,
     "metadata": {},
     "output_type": "execute_result"
    }
   ],
   "source": [
    "obs_mod.head()"
   ]
  },
  {
   "cell_type": "code",
   "execution_count": 163,
   "metadata": {},
   "outputs": [],
   "source": [
    "# cargar serie de datos brutos\n",
    "raw = pd.read_csv('Serie_raw.csv', parse_dates=True, index_col=0)\n",
    "modRaw = raw.iloc[:,0].values\n",
    "# cargar series de datos observados y del modelo en el periodo observado\n",
    "obs_mod = pd.read_csv('Serie_obs_mod.csv', parse_dates=True, index_col=0)\n",
    "obs = obs_mod.Rain.values\n",
    "modHist = obs_mod.iloc[:, 0].values\n",
    "\n",
    "new_extremes = True\n",
    "rec_adaptation =True"
   ]
  },
  {
   "cell_type": "markdown",
   "metadata": {},
   "source": [
    "probar con series con nan"
   ]
  },
  {
   "cell_type": "code",
   "execution_count": 107,
   "metadata": {},
   "outputs": [],
   "source": [
    "def empirical_quantile_mapping(obs, modHist, modRaw, frec_adaptation=True,\n",
    "                               new_extremes=True, neg=False):\n",
    "    \"\"\"\n",
    "    corr = ecdf - 1_obs(qRaw(modRaw))\n",
    "    \n",
    "    Fang, G.H., Yang, J., Chen, Y.N., Zammit, C.Comparing bias correction methods in\n",
    "    downscaling meteorological variables for a hydrologic impact study in an arid area\n",
    "    in China(2015) Hydrology and Earth System Sciences, 19 (6), pp. 2547-2559.\n",
    "    \n",
    "    Parámetros:\n",
    "    -----------\n",
    "    obs:             array. Datos observadosobservado\n",
    "    modHist:         array. Datos del modelo climático en el periodo histórico\n",
    "    modRaw:          array. Datos del modelo climático en el escenario futuroajustar los días con lluvia\n",
    "    frec_adaptation: boolean.\n",
    "    new_extremes:    boolean.\n",
    "    neg:             boolean. Si la variable puede tomar valores negativos ('True') o no ('False')\n",
    "    \n",
    "    Salidas:\n",
    "    --------\n",
    "    corr:            array. Serie corregida  \n",
    "    \"\"\"\n",
    "    \n",
    "    # colapsar las series en 'array' 1D\n",
    "    obs = obs.flatten().astype(float)\n",
    "    modHist = modHist.flatten().astype(float)\n",
    "    modRaw = modRaw.flatten().astype(float)\n",
    "    \n",
    "    # ajustar la función de distribución empírica (ECDF) de los datos del modelo\n",
    "    ecdfHist = ECDF(modHist)#>=0\n",
    "    # calcular cuantiles de 'modRaw' en la ECDF ajustada a 'modHist'\n",
    "    qRaw = ecdfHist(modRaw)#>=0\n",
    "    \n",
    "    if new_extremes:\n",
    "        # 'delta' (sesgo) entre los máximos del modelo entre los periodos 'Raw' e 'Hist'\n",
    "        delta_max = np.max(modRaw) / np.max(modHist)\n",
    "#         delta_min = np.min(modRaw) / np.min(modHist)\n",
    "        if delta_max > 1:\n",
    "            # corregir el máximo de la serie observada según el 'delta'\n",
    "            posi_max = np.argmax(obs)\n",
    "            obs[posi_max] *= delta_max\n",
    "            \n",
    "    if frec_adaptation: # ajustar los días con precipitación\n",
    "        # se generan prob. aleatorias entre 0 y el menor cuantil de 'qRaw'\n",
    "        n_min = np.sum(qRaw == qRaw.min())\n",
    "        qRand = np.random.uniform(low=0, high=qRaw.min(), size=n_min)\n",
    "        # corregir los mínimos de 'qRaw' con 'qRand'\n",
    "        qRaw[qRaw == qRaw.min()] = qRand\n",
    "        \n",
    "    # generar serie corregida\n",
    "    if neg:\n",
    "        corr = np.percentile(obs, 100 * qRaw)\n",
    "    else:\n",
    "        corr = np.percentile(obs[obs >= 0], 100 * qRaw)\n",
    "    if frec_adaptation:\n",
    "        # Los mínimos de 'corr' se convierten en 0\n",
    "        corr[corr == np.min(corr)] = 0\n",
    "        \n",
    "    return corr"
   ]
  },
  {
   "cell_type": "code",
   "execution_count": 108,
   "metadata": {},
   "outputs": [
    {
     "data": {
      "text/plain": [
       "((36006,), (36006,), (341112,))"
      ]
     },
     "execution_count": 108,
     "metadata": {},
     "output_type": "execute_result"
    }
   ],
   "source": [
    "obs.shape, modHist.shape, modRaw.shape"
   ]
  },
  {
   "cell_type": "code",
   "execution_count": 129,
   "metadata": {},
   "outputs": [
    {
     "data": {
      "text/plain": [
       "<matplotlib.collections.PathCollection at 0x19cd319b240>"
      ]
     },
     "execution_count": 129,
     "metadata": {},
     "output_type": "execute_result"
    },
    {
     "data": {
      "image/png": "[encoded data removed]",
      "text/plain": [
       "<Figure size 432x288 with 1 Axes>"
      ]
     },
     "metadata": {
      "needs_background": "light"
     },
     "output_type": "display_data"
    }
   ],
   "source": [
    "plt.scatter(range(modHist.shape[0]), np.sort(modHist), s=1)\n",
    "plt.scatter(range(obs.shape[0]), np.sort(obs), s=1)\n",
    "# plt.scatter(range(modRaw.shape[0]), np.sort(modRaw), s=1)"
   ]
  },
  {
   "cell_type": "code",
   "execution_count": 109,
   "metadata": {},
   "outputs": [],
   "source": [
    "    # ajustar la función de distribución empírica (ECDF) de los datos del modelo\n",
    "    ecdfHist = ECDF(modHist)#>=0\n",
    "    # calcular cuantiles de 'modRaw' en la ECDF ajustada a 'modHist'\n",
    "    qRaw = ecdfHist(modRaw)#>=0"
   ]
  },
  {
   "cell_type": "code",
   "execution_count": 126,
   "metadata": {},
   "outputs": [
    {
     "data": {
      "text/plain": [
       "(341112,)"
      ]
     },
     "execution_count": 126,
     "metadata": {},
     "output_type": "execute_result"
    }
   ],
   "source": [
    "qRaw.shape"
   ]
  },
  {
   "cell_type": "code",
   "execution_count": 188,
   "metadata": {},
   "outputs": [],
   "source": [
    "Data = {'obs': obs, 'modHist': modHist, 'modRaw': modRaw, 'modHist': modHist}"
   ]
  },
  {
   "cell_type": "code",
   "execution_count": 190,
   "metadata": {},
   "outputs": [
    {
     "data": {
      "image/png": "[encoded data removed]",
      "text/plain": [
       "<Figure size 360x360 with 1 Axes>"
      ]
     },
     "metadata": {
      "needs_background": "light"
     },
     "output_type": "display_data"
    }
   ],
   "source": [
    "fig, ax = plt.subplots(figsize=(5, 5), sharey=True)\n",
    "\n",
    "for z, key in enumerate(Data):\n",
    "    data = np.sort(Data[key])\n",
    "    # ajustar la función de distribución empírica (ECDF) de los datos del modelo\n",
    "    ecdf = ECDF(data)#>=0\n",
    "    ax.plot(data, ecdf(data), label=key, zorder=3-z)\n",
    "    # plt.scatter(modRaw, qRaw, s=.5)\n",
    "    ax.set(ylim=(-.005, 1.005), ylabel=('ecdf'))\n",
    "    \n",
    "ax.legend(fontsize=13);"
   ]
  },
  {
   "cell_type": "code",
   "execution_count": 173,
   "metadata": {},
   "outputs": [
    {
     "data": {
      "image/png": "[encoded data removed]",
      "text/plain": [
       "<Figure size 720x360 with 2 Axes>"
      ]
     },
     "metadata": {
      "needs_background": "light"
     },
     "output_type": "display_data"
    }
   ],
   "source": [
    "fig, axes = plt.subplots(ncols=2, figsize=(10, 5), sharey=True)\n",
    "\n",
    "for ax, data in zip(axes, (obs, modHist)):\n",
    "    # ajustar la función de distribución empírica (ECDF) de los datos del modelo\n",
    "    ecdf = ECDF(data)#>=0\n",
    "    ax.plot(data, ecdf(data))\n",
    "    # plt.scatter(modRaw, qRaw, s=.5)\n",
    "    ax.set(ylim=(-.005, 1.005), ylabel=('ecdf'))"
   ]
  },
  {
   "cell_type": "code",
   "execution_count": 152,
   "metadata": {},
   "outputs": [],
   "source": [
    "    if new_extremes:\n",
    "        # 'delta' (sesgo) entre los máximos del modelo entre los periodos 'Raw' e 'Hist'\n",
    "        delta_max = np.max(modRaw) / np.max(modHist)\n",
    "#         delta_min = np.min(modRaw) / np.min(modHist)\n",
    "        if delta_max > 1:\n",
    "            # corregir el máximo de la serie observada según el 'delta'\n",
    "            posi_max = np.argmax(obs)\n",
    "            obs[posi_max] *= delta_max"
   ]
  },
  {
   "cell_type": "code",
   "execution_count": 153,
   "metadata": {},
   "outputs": [
    {
     "data": {
      "image/png": "[encoded data removed]",
      "text/plain": [
       "<Figure size 720x360 with 2 Axes>"
      ]
     },
     "metadata": {
      "needs_background": "light"
     },
     "output_type": "display_data"
    }
   ],
   "source": [
    "fig, axes = plt.subplots(ncols=2, figsize=(10, 5), sharey=True)\n",
    "\n",
    "for ax, data in zip(axes, (obs, modHist)):\n",
    "    # ajustar la función de distribución empírica (ECDF) de los datos del modelo\n",
    "    ecdf = ECDF(data)#>=0\n",
    "    ax.scatter(data, ecdf(data), s=.5)\n",
    "    # plt.scatter(modRaw, qRaw, s=.5)\n",
    "    ax.set(ylim=(-.005, 1.005), ylabel=('ecdf'))"
   ]
  },
  {
   "cell_type": "code",
   "execution_count": 155,
   "metadata": {},
   "outputs": [],
   "source": [
    "    if frec_adaptation: # ajustar los días con precipitación\n",
    "        # se generan prob. aleatorias entre 0 y el menor cuantil de 'qRaw'\n",
    "        n_min = np.sum(qRaw == qRaw.min())\n",
    "        qRand = np.random.uniform(low=0, high=qRaw.min(), size=n_min)\n",
    "        # corregir los mínimos de 'qRaw' con 'qRand'\n",
    "        qRaw[qRaw == qRaw.min()] = qRand"
   ]
  },
  {
   "cell_type": "code",
   "execution_count": 155,
   "metadata": {},
   "outputs": [],
   "source": [
    "    # generar serie corregida\n",
    "    if neg:\n",
    "        corr = np.percentile(obs, 100 * qRaw)\n",
    "    else:\n",
    "        corr = np.percentile(obs[obs >= 0], 100 * qRaw)\n",
    "    if frec_adaptation:\n",
    "        # Los mínimos de 'corr' se convierten en 0\n",
    "        corr[corr == np.min(corr)] = 0"
   ]
  },
  {
   "cell_type": "code",
   "execution_count": 171,
   "metadata": {},
   "outputs": [
    {
     "data": {
      "text/plain": [
       "0"
      ]
     },
     "execution_count": 171,
     "metadata": {},
     "output_type": "execute_result"
    }
   ],
   "source": [
    "np.argmin(corr)"
   ]
  },
  {
   "cell_type": "code",
   "execution_count": 158,
   "metadata": {},
   "outputs": [
    {
     "data": {
      "text/plain": [
       "((36006,), (341112,))"
      ]
     },
     "execution_count": 158,
     "metadata": {},
     "output_type": "execute_result"
    }
   ],
   "source": [
    "obs.shape, corr.shape"
   ]
  },
  {
   "cell_type": "code",
   "execution_count": 157,
   "metadata": {},
   "outputs": [
    {
     "data": {
      "image/png": "[encoded data removed]",
      "text/plain": [
       "<Figure size 720x360 with 2 Axes>"
      ]
     },
     "metadata": {
      "needs_background": "light"
     },
     "output_type": "display_data"
    }
   ],
   "source": [
    "fig, axes = plt.subplots(ncols=2, figsize=(10, 5), sharey=True)\n",
    "\n",
    "for ax, data in zip(axes, (obs, corr)):\n",
    "    # ajustar la función de distribución empírica (ECDF) de los datos del modelo\n",
    "    ecdf = ECDF(data)#>=0\n",
    "    ax.scatter(data, ecdf(data), s=.5)\n",
    "    # plt.scatter(modRaw, qRaw, s=.5)\n",
    "    ax.set(ylim=(-.005, 1.005), ylabel=('ecdf'))"
   ]
  },
  {
   "cell_type": "code",
   "execution_count": 168,
   "metadata": {},
   "outputs": [
    {
     "data": {
      "text/plain": [
       "array([0.32797312, 0.32797312, 0.32797312, ..., 0.96392268, 0.964006  ,\n",
       "       0.96397823])"
      ]
     },
     "execution_count": 168,
     "metadata": {},
     "output_type": "execute_result"
    }
   ],
   "source": [
    "qRaw"
   ]
  },
  {
   "cell_type": "code",
   "execution_count": 169,
   "metadata": {},
   "outputs": [
    {
     "data": {
      "text/plain": [
       "0.0"
      ]
     },
     "execution_count": 169,
     "metadata": {},
     "output_type": "execute_result"
    }
   ],
   "source": [
    "np.percentile(obs, 0.32797312)"
   ]
  },
  {
   "cell_type": "code",
   "execution_count": 160,
   "metadata": {},
   "outputs": [
    {
     "data": {
      "text/plain": [
       "0.0"
      ]
     },
     "execution_count": 160,
     "metadata": {},
     "output_type": "execute_result"
    }
   ],
   "source": [
    "np.median(obs)"
   ]
  },
  {
   "cell_type": "code",
   "execution_count": 164,
   "metadata": {},
   "outputs": [
    {
     "data": {
      "text/plain": [
       "[<matplotlib.lines.Line2D at 0x19cd3438208>]"
      ]
     },
     "execution_count": 164,
     "metadata": {},
     "output_type": "execute_result"
    },
    {
     "data": {
      "image/png": "[encoded data removed]",
      "text/plain": [
       "<Figure size 432x288 with 1 Axes>"
      ]
     },
     "metadata": {
      "needs_background": "light"
     },
     "output_type": "display_data"
    }
   ],
   "source": [
    "plt.plot(obs)"
   ]
  },
  {
   "cell_type": "code",
   "execution_count": null,
   "metadata": {},
   "outputs": [],
   "source": []
  }
 ],
 "metadata": {
  "kernelspec": {
   "display_name": "Python 3",
   "language": "python",
   "name": "python3"
  },
  "language_info": {
   "codemirror_mode": {
    "name": "ipython",
    "version": 3
   },
   "file_extension": ".py",
   "mimetype": "text/x-python",
   "name": "python",
   "nbconvert_exporter": "python",
   "pygments_lexer": "ipython3",
   "version": "3.7.3"
  }
 },
 "nbformat": 4,
 "nbformat_minor": 4
}
