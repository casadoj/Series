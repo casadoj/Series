{
 "cells": [
  {
   "cell_type": "markdown",
   "metadata": {},
   "source": [
    "# Descargar CORDEX-EUR-11 desde _G:_ - caso de ejemplo\n",
    "***\n",
    "\n",
    "_Autor:_    __Salvador Navas__ <br> _Revisión:_ __27/02/2020__ <br>\n",
    "\n",
    "\n",
    "__Descripción__:<br>\n",
    "Datashare:\n",
    "> https://www.euro-cordex.net/060378/index.php.en\n",
    "\n",
    "__Cosas a corregir__ <br>\n",
    "\n"
   ]
  },
  {
   "cell_type": "code",
   "execution_count": null,
   "metadata": {},
   "outputs": [],
   "source": [
    "%run funciones_CORDEX_EUR-11.ipynb"
   ]
  },
  {
   "cell_type": "markdown",
   "metadata": {},
   "source": [
    "***\n",
    "## Descarga de un caso"
   ]
  },
  {
   "cell_type": "code",
   "execution_count": null,
   "metadata": {},
   "outputs": [],
   "source": [
    "lon_min_area=-5.25\n",
    "lon_max_area=-2.75\n",
    "lat_min_area=42.5\n",
    "lat_max_area=43.7"
   ]
  },
  {
   "cell_type": "code",
   "execution_count": null,
   "metadata": {},
   "outputs": [],
   "source": [
    "path_output='/Users/salvadornavasfernandez/Desktop/Cantabria_CC/'"
   ]
  },
  {
   "cell_type": "code",
   "execution_count": null,
   "metadata": {},
   "outputs": [],
   "source": [
    "extract_CORDEX_EUR11(path_output=path_output,area=True,\n",
    "                     lon_min_area=lon_min_area,lat_min_area=lat_min_area,\n",
    "                     lon_max_area=lon_max_area,lat_max_area=lat_max_area,\n",
    "                     point=False,lon_point=None,\n",
    "                     lat_point=None,name_point=None,\n",
    "                     path_G='/Volumes/clima/02_HYDRO-CLIMATE/CORDEX/')"
   ]
  },
  {
   "cell_type": "code",
   "execution_count": null,
   "metadata": {},
   "outputs": [],
   "source": []
  }
 ],
 "metadata": {
  "kernelspec": {
   "display_name": "Python 3",
   "language": "python",
   "name": "python3"
  },
  "language_info": {
   "codemirror_mode": {
    "name": "ipython",
    "version": 3
   },
   "file_extension": ".py",
   "mimetype": "text/x-python",
   "name": "python",
   "nbconvert_exporter": "python",
   "pygments_lexer": "ipython3",
   "version": "3.7.6"
  }
 },
 "nbformat": 4,
 "nbformat_minor": 4
}
