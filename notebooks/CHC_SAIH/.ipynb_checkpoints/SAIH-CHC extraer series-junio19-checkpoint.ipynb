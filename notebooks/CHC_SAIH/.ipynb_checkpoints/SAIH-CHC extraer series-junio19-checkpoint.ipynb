{
 "cells": [
  {
   "cell_type": "markdown",
   "metadata": {},
   "source": [
    "_Autor:_    __Jesús Casado__ <br> _Revisión:_ __27/08/2019__ <br>\n",
    "\n",
    "\n",
    "__Descripción__:<br>\n",
    "Se unen las series del SAIH Cantábrico obtenidas de tres peticiones distintas: junio de 2015, junio de 2018 y junio de 2019.\n",
    "\n",
    "Se unen las series para que tengan un formato único y se agregan a resolución diaria (resolución original cincominutal).\n",
    "\n",
    "Se crea una tabla con las estaciones con datos, las variables que se miden en cada una de ellas, y el inicio y fin de la serie.\n",
    "\n",
    "Se comprueba la disponibilidad de datos en cada periodo.\n",
    "\n",
    "__Cosas a corregir__ <br>\n",
    "\n",
    "\n",
    "__Índice__<br>"
   ]
  },
  {
   "cell_type": "code",
   "execution_count": 1,
   "metadata": {},
   "outputs": [],
   "source": [
    "import numpy as np\n",
    "import pandas as pd\n",
    "import matplotlib.pyplot as plt\n",
    "plt.style.use('seaborn-dark')\n",
    "%matplotlib inline\n",
    "from simpledbf import Dbf5\n",
    "import os\n",
    "from datetime import datetime, timedelta\n",
    "from shutil import copyfile"
   ]
  },
  {
   "cell_type": "code",
   "execution_count": 2,
   "metadata": {},
   "outputs": [],
   "source": [
    "%run funciones_seriesCHC.ipynb"
   ]
  },
  {
   "cell_type": "markdown",
   "metadata": {},
   "source": [
    "### Configuración\n",
    "#### Cargar datos"
   ]
  },
  {
   "cell_type": "code",
   "execution_count": 3,
   "metadata": {},
   "outputs": [],
   "source": [
    "rutaSAIH = 'F:/OneDrive - Universidad de Cantabria/Series/CHC/SAI/'"
   ]
  },
  {
   "cell_type": "code",
   "execution_count": 4,
   "metadata": {},
   "outputs": [
    {
     "name": "stdout",
     "output_type": "stream",
     "text": [
      "nº de estaciones: 84\n"
     ]
    }
   ],
   "source": [
    "# Cargar datos de las estaciones\n",
    "stn_coord = pd.read_excel(rutaSAIH + 'GIS/Coordenadas estaciones_CHC-IHCantabria_2019.xls')\n",
    "stns = stn_coord['COD_SAIH'].tolist()\n",
    "stns = stns + ['A607', 'A060']\n",
    "stns.sort()\n",
    "\n",
    "print('nº de estaciones:', len(stns))"
   ]
  },
  {
   "cell_type": "markdown",
   "metadata": {},
   "source": [
    "#### Reordenar archivos"
   ]
  },
  {
   "cell_type": "code",
   "execution_count": 5,
   "metadata": {},
   "outputs": [],
   "source": [
    "move = False\n",
    "\n",
    "if move == True:\n",
    "    # mover archivos a la carpeta adecuada\n",
    "    rutaOrig = rutaSAIH + 'originales/2018.06-2019.05/'\n",
    "    rutaCopy = rutaSAIH + 'originales/Desde julio de 2015/'\n",
    "\n",
    "    # seleccionar mes\n",
    "    for mes in os.listdir(rutaOrig):\n",
    "        ruta1 = rutaOrig + mes + '/Cincominutales/'\n",
    "        file = os.listdir(ruta1)\n",
    "        # encontrar archivos csv\n",
    "        for file in os.listdir(ruta1):\n",
    "            stn = file[8:12]\n",
    "            ruta2 = rutaCopy + stn + '/'\n",
    "            if not os.path.exists(ruta2):\n",
    "                os.makedirs(ruta2)\n",
    "            copyfile(ruta1 + file, ruta2 + file)"
   ]
  },
  {
   "cell_type": "markdown",
   "metadata": {},
   "source": [
    "### Unir series"
   ]
  },
  {
   "cell_type": "code",
   "execution_count": 6,
   "metadata": {},
   "outputs": [],
   "source": [
    "# ruta de las series ya tratadas\n",
    "rutaOrig = rutaSAIH + 'originales/'\n",
    "# ruta de las nuevas series originales\n",
    "rutaExp = rutaSAIH + 'tratadas/'"
   ]
  },
  {
   "cell_type": "code",
   "execution_count": 11,
   "metadata": {
    "scrolled": false
   },
   "outputs": [
    {
     "name": "stdout",
     "output_type": "stream",
     "text": [
      "estación A080\t(1 de 1)\n",
      "nº de días de las serie:\t 3370\n",
      "variables:\t ['caudal_m³/s', 'nivel_m']\n",
      "\n"
     ]
    }
   ],
   "source": [
    "Input = newstns#['A624', 611', 'A617', 'Q106']\n",
    "for i, stn in enumerate(Input):\n",
    "    print('estación ', str(stn), '\\t(', i+1, ' de ', len(Input), ')',\n",
    "          sep='')\n",
    "    SAIH_CHC(stn, rutaOrig, freq='1D', export_orig=True, rutaexp=rutaExp)\n",
    "    print()"
   ]
  },
  {
   "cell_type": "markdown",
   "metadata": {},
   "source": [
    "### Estaciones y variables disponibles"
   ]
  },
  {
   "cell_type": "code",
   "execution_count": null,
   "metadata": {},
   "outputs": [],
   "source": [
    "# Variables disponibles y periodo de obervación en cada estación\n",
    "# --------------------------------------------------------------\n",
    "\n",
    "# crear la tabla\n",
    "variables = ['precipitacion', 'caudal', 'nivel', 'temperatura',\n",
    "             'amonio', 'conductividad', 'oxigeno', 'pH',\n",
    "             'temperaturaAgua', 'turbidez']# , 'piezometro', 'limnimetro'\n",
    "res = pd.DataFrame(index=stns, columns=variables + ['inicio', 'fin'])\n",
    "res.index.name = 'COD_SAIH'\n",
    "res.loc[:,:] = 0\n",
    "\n",
    "# completar la tabla\n",
    "ruta = rutaExp + '5min/'\n",
    "for stn in stns:\n",
    "    aux = pd.read_csv(ruta + stn + '.csv', encoding='latin1', parse_dates=True,\n",
    "                      index_col=0)\n",
    "    for col in aux.columns:\n",
    "        res.loc[stn, col.split('_')[0]] = 1\n",
    "    res.loc[stn, 'inicio'] = datetime.strftime(aux.index[0], format='%d-%m-%Y')\n",
    "    res.loc[stn, 'fin'] = datetime.strftime(aux.index[-1], format='%d-%m-%Y')\n",
    "\n",
    "res.columns = ['precip', 'caudal', 'nivel', 'Taire', 'amonio', 'conduct',\n",
    "               'oxigeno', 'pH', 'Tagua', 'turbidez', 'inicio', 'fin']\n",
    "               #, 'piezo', 'limni'\n",
    "\n",
    "# exportar\n",
    "res.to_csv(rutaSAIH + 'GIS/estaciones y variables.csv', header=True)\n",
    "\n",
    "res.head()"
   ]
  },
  {
   "cell_type": "code",
   "execution_count": null,
   "metadata": {},
   "outputs": [],
   "source": [
    "res.sum()"
   ]
  },
  {
   "cell_type": "markdown",
   "metadata": {},
   "source": [
    "### Comparación de datos en los 3 periodos\n",
    "#### En cada periodo por separado"
   ]
  },
  {
   "cell_type": "code",
   "execution_count": null,
   "metadata": {},
   "outputs": [],
   "source": [
    "Orig = pd.DataFrame()#index=stns, columns=cols)\n",
    "\n",
    "# Estaciones disponibles en los periodos 1 y 2 separadas en Cantabria y fuera\n",
    "for i, loc in enumerate(['Cantabria', 'noCantabria']):\n",
    "    for j, time in enumerate(['Hasta junio de 2015', 'Desde julio de 2015']):\n",
    "        stn_aux = [folder[:4] for folder in os.listdir(rutaOrig + loc + '/' + time + '/')]\n",
    "        aux = pd.Series(data=1, index=stn_aux)\n",
    "        Orig = pd.concat((Orig, aux), axis=1)\n",
    "        del aux, stn_aux\n",
    "Orig.columns = ['Cant1', 'Cant2', 'noCant1', 'noCant2']\n",
    "\n",
    "# Estaciones disponibles en los periodos 1 y 2 en toda el área\n",
    "Orig['todo1'] = np.nan\n",
    "Orig['todo2'] = np.nan\n",
    "for stn in Orig.index:\n",
    "    if (Orig.loc[stn, 'Cant1'] == 1) | (Orig.loc[stn, 'noCant1'] == 1):\n",
    "        Orig.loc[stn, 'todo1'] = 1\n",
    "        if (Orig.loc[stn, 'Cant1'] == 1) & (Orig.loc[stn, 'noCant1'] == 1):\n",
    "            print(stn)\n",
    "    if (Orig.loc[stn, 'Cant2'] == 1) | (Orig.loc[stn, 'noCant2'] == 1):\n",
    "        Orig.loc[stn, 'todo2'] = 1\n",
    "\n",
    "# Estaciones disponibles en el periodo 3 en toda el área\n",
    "ruta = rutaOrig + '2018.06-2019.05/'\n",
    "stn_aux = []\n",
    "# seleccionar mes\n",
    "for mes in os.listdir(ruta):\n",
    "    ruta1 = ruta + mes + '/Cincominutales/'\n",
    "    file = os.listdir(ruta1)\n",
    "    # encontrar archivos csv\n",
    "    for file in os.listdir(ruta1):\n",
    "        stn_aux.append(file[8:12])\n",
    "        stn_aux = list(set(stn_aux))\n",
    "stn_aux.sort()\n",
    "aux = pd.Series(data=1, index=stn_aux)\n",
    "Orig = pd.concat((Orig, aux), axis=1)\n",
    "\n",
    "Orig.columns = list(Orig.columns)[:-1] + ['todo3']\n",
    "\n",
    "Orig.shape"
   ]
  },
  {
   "cell_type": "code",
   "execution_count": null,
   "metadata": {},
   "outputs": [],
   "source": [
    "Orig.sum()"
   ]
  },
  {
   "cell_type": "markdown",
   "metadata": {},
   "source": [
    "Las estaciones totales disponibles en cada periodo no coinciden. \n",
    "*  El primer periodo cuenta con 2 estaciones que no aparecen en los dos posteriores; según la fecha de fin, dichas estaciones dejaron de funcionar.\n",
    "*  En el periodo 2 aparecen 7 nuevas estaciones que se mantienen en el periodo 3.\n",
    "*  En el periodo 3 aperecen 3 nuevas estaciones. Tengo dudas de que la estación A602 no existiera antes del 31 de mayo de 2018."
   ]
  },
  {
   "cell_type": "markdown",
   "metadata": {},
   "source": [
    "##### Estaciones disponibles en cada uno de los tres periodos"
   ]
  },
  {
   "cell_type": "code",
   "execution_count": null,
   "metadata": {},
   "outputs": [],
   "source": [
    "stns1 = Orig[Orig['todo1'] == 1].index\n",
    "stns2 = Orig[Orig['todo2'] == 1].index\n",
    "stns3 = Orig[Orig['todo3'] == 1].index"
   ]
  },
  {
   "cell_type": "code",
   "execution_count": null,
   "metadata": {},
   "outputs": [],
   "source": [
    "fallo1 = set(stns1) - set(stns2)\n",
    "print('estaciones disponibles en el 1º periodo y no en el 2º:', len(fallo))\n",
    "print(fallo1)\n",
    "print()\n",
    "fallo2 = set(stns1) - set(stns3)\n",
    "print('estaciones disponibles en el 1º periodo y no en el 3º:', len(fallo))\n",
    "print(fallo2)\n",
    "\n",
    "res.loc[fallo2, ['inicio', 'fin']]"
   ]
  },
  {
   "cell_type": "code",
   "execution_count": null,
   "metadata": {},
   "outputs": [],
   "source": [
    "fallo1 = set(stns2) - set(stns1)\n",
    "print('estaciones disponibles en el 2º periodo y no en el 1º:', len(fallo))\n",
    "print(fallo1)\n",
    "print()\n",
    "fallo2 = set(stns2) - set(stns2)\n",
    "print('estaciones disponibles en el 2º periodo y no en el 3º:', len(fallo))\n",
    "print(fallo2)\n",
    "\n",
    "res.loc[fallo1, ['inicio', 'fin']]"
   ]
  },
  {
   "cell_type": "code",
   "execution_count": null,
   "metadata": {},
   "outputs": [],
   "source": [
    "fallo1 = set(stns3) - set(stns1)\n",
    "print('estaciones disponibles en el 3er periodo y no en el 1º:', len(fallo))\n",
    "print(fallo1)\n",
    "print()\n",
    "fallo2 = set(stns3) - set(stns2)\n",
    "print('estaciones disponibles en el 3er periodo y no en el 2º:', len(fallo))\n",
    "print(fallo2)\n",
    "\n",
    "res.loc[fallo2, ['inicio', 'fin']]"
   ]
  },
  {
   "cell_type": "markdown",
   "metadata": {},
   "source": [
    "#### Periodos combinados"
   ]
  },
  {
   "cell_type": "code",
   "execution_count": null,
   "metadata": {},
   "outputs": [],
   "source": [
    "Orig2 = pd.DataFrame()#index=stns, columns=cols)\n",
    "\n",
    "for j, time in enumerate(['Hasta junio de 2015', 'Desde julio de 2015']):\n",
    "    stn_aux = [folder[:4] for folder in os.listdir(rutaOrig + time + '/')]\n",
    "    aux = pd.Series(data=1, index=stn_aux)\n",
    "    Orig2 = pd.concat((Orig2, aux), axis=1)\n",
    "    del aux\n",
    "Orig2.columns = ['todo1', 'todo2+3']\n",
    "\n",
    "Orig2.shape"
   ]
  },
  {
   "cell_type": "code",
   "execution_count": null,
   "metadata": {},
   "outputs": [],
   "source": [
    "Orig2.sum()"
   ]
  },
  {
   "cell_type": "markdown",
   "metadata": {},
   "source": [
    "El número de estaciones en _todo1_ y _todo3_ coincide en ambas carpetas, por lo que no hay errores en la reorganización de los datos."
   ]
  },
  {
   "cell_type": "code",
   "execution_count": null,
   "metadata": {},
   "outputs": [],
   "source": []
  }
 ],
 "metadata": {
  "kernelspec": {
   "display_name": "Python 3",
   "language": "python",
   "name": "python3"
  },
  "language_info": {
   "codemirror_mode": {
    "name": "ipython",
    "version": 3
   },
   "file_extension": ".py",
   "mimetype": "text/x-python",
   "name": "python",
   "nbconvert_exporter": "python",
   "pygments_lexer": "ipython3",
   "version": "3.6.3"
  }
 },
 "nbformat": 4,
 "nbformat_minor": 2
}
