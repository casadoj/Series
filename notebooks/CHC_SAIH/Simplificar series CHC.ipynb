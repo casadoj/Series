{
 "cells": [
  {
   "cell_type": "markdown",
   "metadata": {},
   "source": [
    "__Autor__: Jesús Casado<br>\n",
    "__Fecha__: 01-07-2020<br>\n",
    "\n",
    "__Introducción__<br>\n",
    "Código para cambiar el formato de las series del SAIH-CHC para reducir su peso. Se elimina la columna de fechas y se introduce un encabezado de tres líneas con la fecha y hora inicial, el paso temporal y el número de datos.\n",
    "\n",
    "__Errores__<br>\n",
    "¿Cómo exportar el símbolo de micro?"
   ]
  },
  {
   "cell_type": "code",
   "execution_count": 4,
   "metadata": {},
   "outputs": [],
   "source": [
    "import numpy as np\n",
    "import pandas as pd\n",
    "import os"
   ]
  },
  {
   "cell_type": "code",
   "execution_count": 5,
   "metadata": {},
   "outputs": [],
   "source": [
    "rutaOut = 'K:/Series/SAIH-CHC/5min/new/'\n",
    "rutaIn = 'C:/Users/jcasado4/OneDrive - UNICAN/Series/CHC/SAI/SAI-CHC/Series/5min/'"
   ]
  },
  {
   "cell_type": "code",
   "execution_count": 6,
   "metadata": {},
   "outputs": [],
   "source": [
    "stns = [file.split('.')[0] for file in os.listdir(rutaIn)]"
   ]
  },
  {
   "cell_type": "code",
   "execution_count": 23,
   "metadata": {},
   "outputs": [
    {
     "name": "stdout",
     "output_type": "stream",
     "text": [
      "Q119\r"
     ]
    }
   ],
   "source": [
    "for stn in stns:\n",
    "    print(stn, end='\\r')\n",
    "#     if stn + '.csv' in os.listdir(rutaOut):\n",
    "#         continue\n",
    "    # importar archivo antiguo\n",
    "    data = pd.read_csv(rutaIn + stn + '.csv', parse_dates=True, index_col='Fecha', encoding='latin-1')\n",
    "    data.columns = ['conductividad_microS/cm' if col == 'conductividad_?S/cm' else col for col in data.columns]\n",
    "    if 'temperatura_ºC' in data.columns:\n",
    "        data['temperatura_ºC'] = data['temperatura_ºC'].round(1)\n",
    "    if 'limnimetro_m' in data.columns:\n",
    "        data.limnimetro_m = data.limnimetro_m.round(3)\n",
    "    # generar encabezado\n",
    "    header = ['inicio\\t{0}\\n'.format(data.index[0])]\n",
    "    header.append('At\\t\\t5min\\n')\n",
    "    header.append('n\\t\\t{0}\\n\\n'.format(data.shape[0]))\n",
    "    # escribir archivo nuevo\n",
    "    with open(rutaOut + stn + '.csv', 'w') as f:\n",
    "        for line in header:\n",
    "            f.write(line)\n",
    "        data.to_csv(f, index=False, line_terminator='\\n')"
   ]
  },
  {
   "cell_type": "code",
   "execution_count": null,
   "metadata": {},
   "outputs": [],
   "source": []
  }
 ],
 "metadata": {
  "kernelspec": {
   "display_name": "Python 3",
   "language": "python",
   "name": "python3"
  },
  "language_info": {
   "codemirror_mode": {
    "name": "ipython",
    "version": 3
   },
   "file_extension": ".py",
   "mimetype": "text/x-python",
   "name": "python",
   "nbconvert_exporter": "python",
   "pygments_lexer": "ipython3",
   "version": "3.7.6"
  }
 },
 "nbformat": 4,
 "nbformat_minor": 4
}
