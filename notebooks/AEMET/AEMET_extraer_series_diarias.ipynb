{
 "cells": [
  {
   "cell_type": "markdown",
   "metadata": {},
   "source": [
    "# AEMET diario-extraer series\n",
    "***\n",
    "\n",
    "_Autor:_    __Jesús Casado__ <br> _Revisión:_ __16/04/2020__ <br>\n",
    "\n",
    "__Introducción__<br>\n",
    "Funciones para generar series a partir de los datos brutos diarios de AEMET.\n",
    "\n",
    "__Cosas a corregir__ <br>"
   ]
  },
  {
   "cell_type": "code",
   "execution_count": 8,
   "metadata": {},
   "outputs": [],
   "source": [
    "import numpy as np\n",
    "import pandas as pd\n",
    "from pandas.plotting import register_matplotlib_converters\n",
    "register_matplotlib_converters()\n",
    "import matplotlib.pyplot as plt\n",
    "import seaborn as sns\n",
    "sns.set(context='notebook')\n",
    "from calendar import monthrange"
   ]
  },
  {
   "cell_type": "markdown",
   "metadata": {},
   "source": [
    "### Precipitación"
   ]
  },
  {
   "cell_type": "code",
   "execution_count": 9,
   "metadata": {},
   "outputs": [],
   "source": [
    "def AEMET_Pdiaria(estacion, provincia):\n",
    "    \"\"\"Extrae la serie diaria de precipitación de la AEMET.\n",
    "    \n",
    "    Parámetros:\n",
    "    -----------\n",
    "    estacion:  string. Código de la estación\n",
    "    provinvia: string. Provincia a la que pertenece la estación. Define el archivo csv donde acceder a los datos, por lo que debe replicar \n",
    "                       el nombre del archivo, es decir, primera letra en mayúsucula y sin ninguna tilde.\n",
    "                       \n",
    "    Salidas:\n",
    "    --------\n",
    "    serie:     pd.Series. Serie diaria de precipitación en mm\n",
    "    atributos: pd.Series. Atributos de la estación: coordenadas, altitud...\n",
    "    \"\"\"\n",
    "\n",
    "    # cargar datos burtos de la provincia\n",
    "    ruta = 'G:/CLIMA/02_HYDRO-CLIMATE/AEMET/precipitacion/diario/'\n",
    "    raw = pd.read_csv(ruta + provincia + '.csv', sep=';', encoding='latin1')\n",
    "    # extraer datos de la estación\n",
    "    data = raw.loc[raw.INDICATIVO == estacion,:]\n",
    "    \n",
    "    # ATRIBUTOS\n",
    "    # .........\n",
    "    atributos = data[['NOMBRE', 'ALTITUD', 'NOM_PROV', 'LONGITUD', 'LATITUD', 'DATUM']].iloc[0]\n",
    "    \n",
    "    # SERIE DIARIA\n",
    "    # ...........\n",
    "    # fechas de la serie\n",
    "    start = pd.datetime(data.AÑO.iloc[0], data.MES.iloc[0], 1).date()\n",
    "    year, month = data.AÑO.iloc[-1], data.MES.iloc[-1]\n",
    "    end = pd.datetime(year, month, monthrange(year, month)[1]).date()\n",
    "    fechas = pd.date_range(start, end)\n",
    "    # ordenar datos en una serie\n",
    "    serie = pd.Series(index=fechas)\n",
    "    cols = ['P' + str(i) for i in np.arange(1, 32)]\n",
    "    for idx in data.index:\n",
    "        year, month = data.loc[idx, ['AÑO', 'MES']]\n",
    "        days = monthrange(year, month)[1]\n",
    "        d = pd.date_range(pd.datetime(year, month, 1), pd.datetime(year, month, days))\n",
    "        serie[d] = data.loc[idx, cols[:days]]\n",
    "    # corregir serie\n",
    "    serie[serie == -3] = 0\n",
    "    serie[serie == -4] = np.nan\n",
    "    serie /= 10\n",
    "        \n",
    "    return serie, atributos"
   ]
  },
  {
   "cell_type": "markdown",
   "metadata": {},
   "source": [
    "### Temperatura"
   ]
  },
  {
   "cell_type": "markdown",
   "metadata": {},
   "source": [
    "Código para dividir algunos de los archivos de la AEMET en los que vienen varias provincias.\n",
    "\n",
    "```Python\n",
    "ruta = 'G:/CLIMA/02_HYDRO-CLIMATE/AEMET/temperatura/'\n",
    "aux = pd.read_csv(ruta + 'Zamora,Teruel,Toledo,Valencia,Valladolid,Zaragoza.csv', sep=';', encoding='latin1', index_col='INDICATIVO')\n",
    "\n",
    "provincias = aux.NOM_PROV.unique()\n",
    "\n",
    "for provincia in provincias:\n",
    "    aux_ = aux.loc[aux.NOM_PROV == provincia,:]\n",
    "    palabras = provincia.split()\n",
    "    filename = ' '.join([palabra[0] + palabra[1:].lower() for palabra in palabras]) + '.csv'\n",
    "    aux_.to_csv(ruta + filename, sep=';', float_format='%.0f')\n",
    "```"
   ]
  },
  {
   "cell_type": "code",
   "execution_count": 189,
   "metadata": {},
   "outputs": [],
   "source": [
    "def AEMET_Tdiaria(estacion, provincia):\n",
    "    \"\"\"Extrae las series diarias de temperatura (máxima y mínima) de la AEMET.\n",
    "    \n",
    "    Parámetros:\n",
    "    -----------\n",
    "    estacion:  string. Código de la estación\n",
    "    provinvia: string. Provincia a la que pertenece la estación. Define el archivo csv donde acceder a los datos, por lo que debe replicar \n",
    "                       el nombre del archivo, es decir, primera letra en mayúsucula y sin ninguna tilde.\n",
    "                       \n",
    "    Salidas:\n",
    "    --------\n",
    "    Tmax:      pd.Series. Serie diaria de temperatura máxima (ºC)\n",
    "    Tmin:      pd.Series. Serie diaria de temperatura mínima (ºC)\n",
    "    atributos: pd.Series. Atributos de la estación: coordenadas, altitud...\n",
    "    \"\"\"\n",
    "    \n",
    "    # cargar datos\n",
    "    data = pd.read_csv('G:/CLIMA/02_HYDRO-CLIMATE/AEMET/temperatura/' + provincia + '.csv', sep=';', index_col=0)\n",
    "    data = data.loc[estacion, :]\n",
    "    \n",
    "    # atributos\n",
    "    atributos = data[['NOMBRE', 'ALTITUD', 'NOM_PROV', 'LONGITUD', 'LATITUD', 'DATUM']].iloc[0]\n",
    "    \n",
    "    # series vacias de Tmin y Tmax\n",
    "    start = pd.datetime(data.AÑO.iloc[0], data.MES.iloc[0], 1).date()\n",
    "    añof, mesf = data.AÑO.iloc[-1], data.MES.iloc[-1]\n",
    "    end = pd.datetime(añof, mesf, monthrange(añof, mesf)[1]).date()\n",
    "    Tmin = pd.Series(index=pd.date_range(start, end))\n",
    "    Tmax = pd.Series(index=pd.date_range(start, end))\n",
    "    \n",
    "    # completar las series\n",
    "    for i in range(data.shape[0] - 1):\n",
    "        año, mes = data.AÑO.iloc[i], data.MES.iloc[i]\n",
    "        dias = monthrange(año, mes)[1]\n",
    "        fechas = pd.date_range(pd.datetime(año, mes, 1).date(), pd.datetime(año, mes, dias))\n",
    "        colMax = ['TMAX' + str(n) for n in range(1, dias + 1)]\n",
    "        colMin = ['TMIN' + str(n) for n in range(1, dias + 1)]\n",
    "        Tmax[fechas] = data.iloc[i][colMax]\n",
    "        Tmin[fechas] = data.iloc[i][colMin]\n",
    "    \n",
    "    # convertir décimas de grado en grado\n",
    "    Tmax /= 10\n",
    "    Tmin /= 10\n",
    "    \n",
    "    return Tmax, Tmin, atributos"
   ]
  },
  {
   "cell_type": "code",
   "execution_count": null,
   "metadata": {},
   "outputs": [],
   "source": []
  }
 ],
 "metadata": {
  "kernelspec": {
   "display_name": "Python 3",
   "language": "python",
   "name": "python3"
  },
  "language_info": {
   "codemirror_mode": {
    "name": "ipython",
    "version": 3
   },
   "file_extension": ".py",
   "mimetype": "text/x-python",
   "name": "python",
   "nbconvert_exporter": "python",
   "pygments_lexer": "ipython3",
   "version": "3.7.6"
  }
 },
 "nbformat": 4,
 "nbformat_minor": 4
}
