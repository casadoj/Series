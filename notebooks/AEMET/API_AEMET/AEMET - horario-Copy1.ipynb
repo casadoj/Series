{
 "cells": [
  {
   "cell_type": "markdown",
   "metadata": {},
   "source": [
    "# Observaciones convencionales horarias"
   ]
  },
  {
   "cell_type": "markdown",
   "metadata": {},
   "source": [
    "Se extraen los datos climáticos horarios de las estaciones automáticas de la AEMET generados en las 24 h últimas. Se pueden descargar todas las estaciones o de las estaciones determinadas.\n",
    "\n",
    "Si se hiciera recurrentemente se "
   ]
  },
  {
   "cell_type": "code",
   "execution_count": 1,
   "metadata": {},
   "outputs": [],
   "source": [
    "import os\n",
    "base_path = os.getcwd().replace('\\\\', '/') +'/'"
   ]
  },
  {
   "cell_type": "code",
   "execution_count": 150,
   "metadata": {},
   "outputs": [],
   "source": [
    "# cargar funciones de la API de la AEMET\n",
    "%run funciones_opendata_AEMET.ipynb"
   ]
  },
  {
   "cell_type": "code",
   "execution_count": 2,
   "metadata": {},
   "outputs": [],
   "source": [
    "import requests\n",
    "\n",
    "from requests.packages.urllib3.exceptions import InsecureRequestWarning\n",
    "requests.packages.urllib3.disable_warnings(InsecureRequestWarning)\n",
    "\n",
    "import pandas as pd\n",
    "import numpy as np\n",
    "import datetime\n",
    "import time\n",
    "\n",
    "from pathlib import Path"
   ]
  },
  {
   "cell_type": "code",
   "execution_count": 3,
   "metadata": {},
   "outputs": [],
   "source": [
    "# Archivo donde está guardada la API key\n",
    "API_path = base_path + 'apikey_AEMET.txt'\n",
    "# Carpeta en la que se guardarán las series\n",
    "series_path = 'F:/Series/AEMET/Clima/Horario/'\n",
    "series_path = base_path + 'Horario/'\n",
    "if os.path.exists(series_path) is False:\n",
    "    os.makedirs(series_path)\n",
    "# Estaciones a importar: todas o una lista de las que se quiera\n",
    "codigos = ['todas']\n",
    "# Archivo con los datos de las estaciones automáticas de la AEMET\n",
    "ruta_estaciones = base_path + 'Estaciones_Automaticas.csv'"
   ]
  },
  {
   "cell_type": "markdown",
   "metadata": {},
   "source": [
    "## 1. Estaciones automáticas\n",
    "\n",
    "Se importa el listado de las estaciones automáticas de la AEMET en toda España. Estas estaciones son las susceptibles de aportar datos por este medio."
   ]
  },
  {
   "cell_type": "code",
   "execution_count": 111,
   "metadata": {},
   "outputs": [
    {
     "name": "stdout",
     "output_type": "stream",
     "text": [
      "Nº de estaciones automáticas de la AEMET:  852\n"
     ]
    }
   ],
   "source": [
    "estaciones = pd.read_csv(ruta_estaciones)\n",
    "estaciones.drop(['FID'], axis=1, inplace=True)\n",
    "estaciones.columns = ['idema', 'ubi', 'PROVINCIA', 'alt', 'COORD_X', 'COORD_Y', 'VAR_OBSERV', 'DATUM', 'TIPO']\n",
    "estaciones.sort_values('idema', inplace=True)\n",
    "estaciones.set_index('idema', drop=False, inplace=True)\n",
    "\n",
    "# Corregir caracteres conflictivos en el nombre de las estaciones\n",
    "for i in estaciones.index:\n",
    "    estaciones.loc[i, 'ubi'] = estaciones.loc[i, 'ubi'].replace('/', '-')\n",
    "    estaciones.loc[i, 'ubi'] = estaciones.loc[i, 'ubi'].replace('\"', '')\n",
    "    estaciones.loc[i, 'ubi'] = estaciones.loc[i, 'ubi'].replace('Á', 'A')\n",
    "    estaciones.loc[i, 'ubi'] = estaciones.loc[i, 'ubi'].replace('É', 'E')\n",
    "    estaciones.loc[i, 'ubi'] = estaciones.loc[i, 'ubi'].replace('Í', 'I')\n",
    "    estaciones.loc[i, 'ubi'] = estaciones.loc[i, 'ubi'].replace('Ó', 'O')\n",
    "    estaciones.loc[i, 'ubi'] = estaciones.loc[i, 'ubi'].replace('Ú', 'U')\n",
    "    estaciones.loc[i, 'ubi'] = estaciones.loc[i, 'ubi'].replace('À', 'A')\n",
    "    estaciones.loc[i, 'ubi'] = estaciones.loc[i, 'ubi'].replace('È', 'E')\n",
    "    estaciones.loc[i, 'ubi'] = estaciones.loc[i, 'ubi'].replace('Ç', 'C')\n",
    "    estaciones.loc[i, 'ubi'] = estaciones.loc[i, 'ubi'].replace('Ñ', 'N')\n",
    "\n",
    "print('Nº de estaciones automáticas de la AEMET: ', estaciones.shape[0])"
   ]
  },
  {
   "cell_type": "code",
   "execution_count": 114,
   "metadata": {},
   "outputs": [
    {
     "data": {
      "text/html": [
       "<div>\n",
       "<style scoped>\n",
       "    .dataframe tbody tr th:only-of-type {\n",
       "        vertical-align: middle;\n",
       "    }\n",
       "\n",
       "    .dataframe tbody tr th {\n",
       "        vertical-align: top;\n",
       "    }\n",
       "\n",
       "    .dataframe thead th {\n",
       "        text-align: right;\n",
       "    }\n",
       "</style>\n",
       "<table border=\"1\" class=\"dataframe\">\n",
       "  <thead>\n",
       "    <tr style=\"text-align: right;\">\n",
       "      <th></th>\n",
       "      <th>idema</th>\n",
       "      <th>ubi</th>\n",
       "      <th>PROVINCIA</th>\n",
       "      <th>alt</th>\n",
       "      <th>COORD_X</th>\n",
       "      <th>COORD_Y</th>\n",
       "      <th>VAR_OBSERV</th>\n",
       "      <th>DATUM</th>\n",
       "      <th>TIPO</th>\n",
       "    </tr>\n",
       "    <tr>\n",
       "      <th>idema</th>\n",
       "      <th></th>\n",
       "      <th></th>\n",
       "      <th></th>\n",
       "      <th></th>\n",
       "      <th></th>\n",
       "      <th></th>\n",
       "      <th></th>\n",
       "      <th></th>\n",
       "      <th></th>\n",
       "    </tr>\n",
       "  </thead>\n",
       "  <tbody>\n",
       "    <tr>\n",
       "      <th>0002I</th>\n",
       "      <td>0002I</td>\n",
       "      <td>VANDELLOS</td>\n",
       "      <td>TARRAGONA</td>\n",
       "      <td>32.0</td>\n",
       "      <td>825831.0</td>\n",
       "      <td>4541326.0</td>\n",
       "      <td>hreNvIHBVmtTMpP</td>\n",
       "      <td>ETRS89</td>\n",
       "      <td>AUTOMATICAS</td>\n",
       "    </tr>\n",
       "    <tr>\n",
       "      <th>0009X</th>\n",
       "      <td>0009X</td>\n",
       "      <td>ALFORJA</td>\n",
       "      <td>TARRAGONA</td>\n",
       "      <td>406.0</td>\n",
       "      <td>832278.0</td>\n",
       "      <td>4570083.0</td>\n",
       "      <td>hHVmtTMpP</td>\n",
       "      <td>ETRS89</td>\n",
       "      <td>AUTOMATICAS</td>\n",
       "    </tr>\n",
       "  </tbody>\n",
       "</table>\n",
       "</div>"
      ],
      "text/plain": [
       "       idema        ubi  PROVINCIA    alt   COORD_X    COORD_Y  \\\n",
       "idema                                                            \n",
       "0002I  0002I  VANDELLOS  TARRAGONA   32.0  825831.0  4541326.0   \n",
       "0009X  0009X    ALFORJA  TARRAGONA  406.0  832278.0  4570083.0   \n",
       "\n",
       "            VAR_OBSERV   DATUM         TIPO  \n",
       "idema                                        \n",
       "0002I  hreNvIHBVmtTMpP  ETRS89  AUTOMATICAS  \n",
       "0009X        hHVmtTMpP  ETRS89  AUTOMATICAS  "
      ]
     },
     "execution_count": 114,
     "metadata": {},
     "output_type": "execute_result"
    }
   ],
   "source": [
    "estaciones.head(2)"
   ]
  },
  {
   "cell_type": "markdown",
   "metadata": {},
   "source": [
    "## 1. Extraer todas las estaciones\n",
    "\n",
    "Se extraen los datos climáticos horarios disponibles de las últimas 24 h.\n"
   ]
  },
  {
   "cell_type": "markdown",
   "metadata": {},
   "source": [
    "### 1.2 Extraer datos"
   ]
  },
  {
   "cell_type": "code",
   "execution_count": 151,
   "metadata": {},
   "outputs": [
    {
     "name": "stdout",
     "output_type": "stream",
     "text": [
      "{'descripcion': 'exito', 'estado': 200, 'datos': 'https://opendata.aemet.es/opendata/sh/9c512188', 'metadatos': 'https://opendata.aemet.es/opendata/sh/55c2971b'}\n",
      "Estación 0106X\r"
     ]
    }
   ],
   "source": [
    "extract_hourly_all(API_path, series_path)"
   ]
  },
  {
   "cell_type": "markdown",
   "metadata": {},
   "source": [
    "## 2. Extraer una única estación\n",
    "\n",
    "### 2.1 Funciones"
   ]
  },
  {
   "cell_type": "markdown",
   "metadata": {},
   "source": [
    "### 2.2 Aplicarlo a todas las estaciones en bucle"
   ]
  },
  {
   "cell_type": "code",
   "execution_count": null,
   "metadata": {
    "scrolled": true
   },
   "outputs": [],
   "source": [
    "if codigos[0] != 'todas':\n",
    "    for stn in codigos:\n",
    "        # Nombre de la estación\n",
    "        nombre = estaciones.loc[stn, ubi]\n",
    "        # Extraer datos\n",
    "        data_stn = extract_data_stn(stn, nombre, API_path)\n",
    "        # Generar la serie\n",
    "        generate_serie_stn(stn, nombre, data_stn, series_path)"
   ]
  },
  {
   "cell_type": "code",
   "execution_count": null,
   "metadata": {},
   "outputs": [],
   "source": [
    "import schedule"
   ]
  },
  {
   "cell_type": "code",
   "execution_count": null,
   "metadata": {},
   "outputs": [],
   "source": []
  }
 ],
 "metadata": {
  "kernelspec": {
   "display_name": "Python 3",
   "language": "python",
   "name": "python3"
  },
  "language_info": {
   "codemirror_mode": {
    "name": "ipython",
    "version": 3
   },
   "file_extension": ".py",
   "mimetype": "text/x-python",
   "name": "python",
   "nbconvert_exporter": "python",
   "pygments_lexer": "ipython3",
   "version": "3.7.7"
  }
 },
 "nbformat": 4,
 "nbformat_minor": 4
}
