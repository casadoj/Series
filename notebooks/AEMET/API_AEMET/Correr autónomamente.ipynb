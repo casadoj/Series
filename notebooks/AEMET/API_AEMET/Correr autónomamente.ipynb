{
 "cells": [
  {
   "cell_type": "markdown",
   "metadata": {},
   "source": [
    "[stackoverflow](https://stackoverflow.com/questions/15088037/python-script-to-do-something-at-the-same-time-every-day)"
   ]
  },
  {
   "cell_type": "code",
   "execution_count": null,
   "metadata": {},
   "outputs": [],
   "source": [
    "from datetime import datetime, timedelta\n",
    "from threading import Timer\n",
    "\n",
    "x=datetime.today()\n",
    "y = x.replace(day=x.day, hour=1, minute=0, second=0, microsecond=0) + timedelta(days=1)\n",
    "delta_t=y-x\n",
    "\n",
    "secs=delta_t.total_seconds()\n",
    "\n",
    "def hello_world():\n",
    "    print \"hello world\"\n",
    "    #...\n",
    "\n",
    "t = Timer(secs, hello_world)\n",
    "t.start()"
   ]
  }
 ],
 "metadata": {
  "kernelspec": {
   "display_name": "Python 3",
   "language": "python",
   "name": "python3"
  },
  "language_info": {
   "codemirror_mode": {
    "name": "ipython",
    "version": 3
   },
   "file_extension": ".py",
   "mimetype": "text/x-python",
   "name": "python",
   "nbconvert_exporter": "python",
   "pygments_lexer": "ipython3",
   "version": "3.7.7"
  }
 },
 "nbformat": 4,
 "nbformat_minor": 4
}
