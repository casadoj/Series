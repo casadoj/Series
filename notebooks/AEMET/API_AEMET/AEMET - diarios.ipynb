{
 "cells": [
  {
   "cell_type": "markdown",
   "metadata": {},
   "source": [
    "# Datos climáticos diarios"
   ]
  },
  {
   "cell_type": "markdown",
   "metadata": {},
   "source": [
    "Se generan las series climáticas diarias de las estaciones principales de la AEMET. Se pueden descargar todas las disponibles o por provincias. La duración de la serie también es definible"
   ]
  },
  {
   "cell_type": "code",
   "execution_count": 4,
   "metadata": {
    "tags": []
   },
   "outputs": [],
   "source": [
    "import os\n",
    "import requests\n",
    "\n",
    "from requests.packages.urllib3.exceptions import InsecureRequestWarning\n",
    "requests.packages.urllib3.disable_warnings(InsecureRequestWarning)\n",
    "\n",
    "import pandas as pd\n",
    "import numpy as np\n",
    "import datetime\n",
    "import time"
   ]
  },
  {
   "cell_type": "code",
   "execution_count": 15,
   "metadata": {
    "tags": []
   },
   "outputs": [],
   "source": [
    "# Ruta en la que está guardada la API key\n",
    "ruta_API = \"apikey_AEMET.txt\"\n",
    "# Ruta donde se guardarán las series\n",
    "ruta_series = '../series/'\n",
    "\n",
    "# Definir el inicio y fin de la serie, y la duración de cada periodo\n",
    "start_date = datetime.datetime(2020, 8, 1, 0, 0, 0)\n",
    "final_date = datetime.datetime(2020, 9, 30, 23, 59, 59)\n",
    "\n",
    "# Definir las estaciones: 'todas' o la lista de con los códigos\n",
    "estaciones = 'todas' #['5270', '5270B', '5514', '6205X', '6277B', '6293X', '6297', '6302A', '6325O']#, '5047E', '5051X', '5530E', '5582A', '6268X']"
   ]
  },
  {
   "cell_type": "markdown",
   "metadata": {},
   "source": [
    "#### Funciones"
   ]
  },
  {
   "cell_type": "code",
   "execution_count": 16,
   "metadata": {
    "tags": []
   },
   "outputs": [],
   "source": [
    "def dms2dd(degrees, minutes, seconds, direction):\n",
    "    \"\"\"It converts a latitude or longitude value given in degrees, minutes, seconds and direction to decimal degrees\n",
    "    \"\"\"\n",
    "    dd = float(degrees) + float(minutes)/60 + float(seconds)/(3600);\n",
    "    if direction == 'W' or direction == 'S':\n",
    "        dd *= -1\n",
    "    return dd"
   ]
  },
  {
   "cell_type": "markdown",
   "metadata": {},
   "source": [
    "## 1. Estaciones"
   ]
  },
  {
   "cell_type": "code",
   "execution_count": 17,
   "metadata": {
    "tags": []
   },
   "outputs": [],
   "source": [
    "# Carga la api key \n",
    "api_key = open(ruta_API).read().rstrip()\n",
    "querystring = {\"api_key\": api_key}\n",
    "\n",
    "# Obtenemos información de todas las estaciones disponibles\n",
    "url = \"https://opendata.aemet.es/opendata/api/valores/climatologicos/inventarioestaciones/todasestaciones\""
   ]
  },
  {
   "cell_type": "code",
   "execution_count": 18,
   "metadata": {
    "tags": []
   },
   "outputs": [],
   "source": [
    "# Realizamos la request\n",
    "r = requests.get(url, params=querystring, verify=False)"
   ]
  },
  {
   "cell_type": "code",
   "execution_count": 19,
   "metadata": {
    "tags": []
   },
   "outputs": [],
   "source": [
    "# Obtenemos el link del que descargaremos los datos\n",
    "data_url = r.json()['datos']\n",
    "r_data = requests.get(data_url, params=querystring, verify=False)"
   ]
  },
  {
   "cell_type": "code",
   "execution_count": 23,
   "metadata": {
    "tags": []
   },
   "outputs": [],
   "source": [
    "# Vemos el contenido\n",
    "stations = r_data.json()"
   ]
  },
  {
   "cell_type": "code",
   "execution_count": 21,
   "metadata": {},
   "outputs": [],
   "source": [
    "# Crea un data frame con las estaciones meteorológicas y sus características\n",
    "n = len(stations)\n",
    "\n",
    "columnas = []\n",
    "for key in stations[0].keys():\n",
    "    columnas.append(key)\n",
    "\n",
    "stn_AEMET = pd.DataFrame(index=np.arange(n), columns=columnas)\n",
    "stn_AEMET = stn_AEMET.loc[:, ['indicativo', 'nombre', 'provincia', 'indsinop',\n",
    "                              'latitud', 'longitud', 'altitud']]\n",
    "\n",
    "i = 0\n",
    "for stn in stations:\n",
    "    stn_AEMET.indicativo[i] = stn['indicativo']\n",
    "    stn_AEMET.nombre[i] = stn['nombre']\n",
    "    stn_AEMET.provincia[i] = stn['provincia']\n",
    "    stn_AEMET.indsinop[i] = stn['indsinop']\n",
    "    stn_AEMET.latitud[i] = dms2dd(stn['latitud'][:2], stn['latitud'][2:4], stn['latitud'][4:6], stn['latitud'][6])\n",
    "    stn_AEMET.longitud[i] = dms2dd(stn['longitud'][:2], stn['longitud'][2:4], stn['longitud'][4:6], stn['longitud'][6])\n",
    "    stn_AEMET.altitud[i] = int(stn['altitud'])\n",
    "    i += 1\n",
    "stn_AEMET.sort_values('indicativo', inplace=True)\n",
    "stn_AEMET.set_index('indicativo', drop=True, inplace=True)\n",
    "\n",
    "print('Nº de estaciones disponibles: ', stn_AEMET.shape[0])\n",
    "\n",
    "stn_AEMET.to_csv(ruta_series + 'estaciones_AEMET.csv', sep=',', na_rep='-100', header=True, index=True)"
   ]
  },
  {
   "cell_type": "markdown",
   "metadata": {},
   "source": [
    "## 2. Extraer datos diarios\n",
    "\n",
    "### 2.1 Funciones"
   ]
  },
  {
   "cell_type": "code",
   "execution_count": 24,
   "metadata": {
    "tags": []
   },
   "outputs": [],
   "source": [
    "def generate_dates(start_date, final_date, step):\n",
    "    \"\"\"It generates a list of dates beginning in the 'start_date', ending in the 'final_date' and every 'step' number of \n",
    "    dates\"\"\"\n",
    "    \n",
    "    chunks = [start_date]\n",
    "\n",
    "    next_date = start_date + step\n",
    "    while next_date < final_date:\n",
    "        chunks.append(next_date)\n",
    "        next_date += step\n",
    "\n",
    "    chunks.append(final_date)\n",
    "\n",
    "    return chunks"
   ]
  },
  {
   "cell_type": "code",
   "execution_count": 25,
   "metadata": {
    "tags": []
   },
   "outputs": [],
   "source": [
    "def extract_data(station, periodos):\n",
    "\n",
    "    raw_data = []\n",
    "\n",
    "    for ii in range(1, len(periodos)):\n",
    "        print()\n",
    "        print(station,\n",
    "              \" - \",\n",
    "              periodos[ii-1].strftime('%Y-%m-%dT%H:%M:%SUTC'),\n",
    "              \" - \",\n",
    "              periodos[ii].strftime('%Y-%m-%dT%H:%M:%SUTC'))\n",
    "\n",
    "        url = (\"https://opendata.aemet.es/opendata/api/valores/climatologicos/diarios/datos/\"\n",
    "               \"fechaini/{start}/fechafin/{end}/estacion/{station}\".format(\n",
    "                   start=periodos[ii-1].strftime('%Y-%m-%dT%H:%M:%SUTC'),\n",
    "                    end=periodos[ii].strftime('%Y-%m-%dT%H:%M:%SUTC'),\n",
    "                    station=station)\n",
    "              )\n",
    "\n",
    "        iterate = True\n",
    "\n",
    "        while iterate:\n",
    "\n",
    "            r = requests.get(url, params=querystring, verify=False)\n",
    "\n",
    "            # Si no me deja hacer la conexión, la repito  \n",
    "            iterate = (r.status_code == requests.codes.too_many_requests)\n",
    "\n",
    "            print(r.json())\n",
    "\n",
    "            # Chequeo si la petición ha ido bien    \n",
    "            if r.status_code == requests.codes.ok:\n",
    "                # Hago la petición para obtener los datos\n",
    "                data_url = r.json()['datos']\n",
    "                r_data = requests.get(data_url, params=querystring, verify=False)\n",
    "\n",
    "                # INCONSISTENCIA DE LA API:\n",
    "                # Cuando no encuentra datos en el rango seleccionado, la API devuelve\n",
    "                # que el status code es 200 (todo ok) y devuelve un json con el error\n",
    "                # cuando encuentra, no hay atributo estado            \n",
    "                try:\n",
    "                    estado = r_data.json()['estado']\n",
    "                except:\n",
    "                    estado = 200\n",
    "\n",
    "\n",
    "                # Si ha ido bien guardo los datos\n",
    "                if estado == requests.codes.ok:\n",
    "                    #print(r_data.json())\n",
    "                    raw_data.extend(r_data.json())\n",
    "                else:\n",
    "                    print(r_data.json()['descripcion'])\n",
    "            else:\n",
    "                print(r.json()['descripcion'])\n",
    "\n",
    "            time.sleep(60/45)\n",
    "            \n",
    "    return raw_data"
   ]
  },
  {
   "cell_type": "code",
   "execution_count": 26,
   "metadata": {
    "tags": []
   },
   "outputs": [],
   "source": [
    "def parse_data(raw_data):\n",
    "    \"\"\"Convert from string to floating point number those columns in the data that represent quantitative variables\"\"\"\n",
    "    data = []\n",
    "    for d in raw_data:\n",
    "        d = dict(d)  # Exto copia el parámetro\n",
    "        for param in ['prec', 'presMax', 'presMin', 'racha', 'sol', 'tmax', 'tmed', 'tmin', 'velmedia', 'altitud', 'dir']:\n",
    "            try:\n",
    "                d[param] = float(d[param].replace(',', '.'))\n",
    "            except:\n",
    "                d[param] = None\n",
    "        data.append(d)\n",
    "    \n",
    "    return data"
   ]
  },
  {
   "cell_type": "code",
   "execution_count": 59,
   "metadata": {
    "tags": []
   },
   "outputs": [],
   "source": [
    "def serie_df(data):\n",
    "    \"\"\"Create a data frame with the series of daily records of a station given as a list of dictionaries\"\"\"\n",
    "    \n",
    "    # Crea un data frame con los datos diarios de una estación\n",
    "    n = len(data)\n",
    "    columnas = list(data[0].keys())\n",
    "    serie = pd.DataFrame(index=np.arange(n), columns=columnas)\n",
    "\n",
    "    # rellenar el data frame\n",
    "    for i, data_i in enumerate(data):\n",
    "        for key, value in data_i.items():\n",
    "            serie.loc[i, key] = value\n",
    "    serie.fecha = pd.to_datetime(serie.fecha, yearfirst=True)\n",
    "    \n",
    "    return serie"
   ]
  },
  {
   "cell_type": "markdown",
   "metadata": {},
   "source": [
    "### 2.2 Generar series\n",
    "\n",
    "#### Definir fechas"
   ]
  },
  {
   "cell_type": "code",
   "execution_count": 28,
   "metadata": {},
   "outputs": [
    {
     "name": "stdout",
     "output_type": "stream",
     "text": [
      "Nº de periodos en los que se divide el periodo de estudio:  4\n"
     ]
    }
   ],
   "source": [
    "# Definir la duración de cada periodo y calcular los periodos\n",
    "step = datetime.timedelta(days=30)\n",
    "periodos = generate_dates(start_date, final_date, step)\n",
    "print('Nº de periodos en los que se divide el periodo de estudio: ', len(periodos))"
   ]
  },
  {
   "cell_type": "markdown",
   "metadata": {},
   "source": [
    "#### Definir las estaciones"
   ]
  },
  {
   "cell_type": "code",
   "execution_count": 35,
   "metadata": {},
   "outputs": [
    {
     "data": {
      "text/plain": [
       "'todas'"
      ]
     },
     "execution_count": 35,
     "metadata": {},
     "output_type": "execute_result"
    }
   ],
   "source": [
    "estaciones"
   ]
  },
  {
   "cell_type": "code",
   "execution_count": 34,
   "metadata": {},
   "outputs": [
    {
     "data": {
      "text/plain": [
       "['2117D', '2298', '2331', '9051', '9111']"
      ]
     },
     "execution_count": 34,
     "metadata": {},
     "output_type": "execute_result"
    }
   ],
   "source": [
    "estacionesstn_AEMET.loc[stn_AEMET.provincia == 'BURGOS'].index.tolist()"
   ]
  },
  {
   "cell_type": "code",
   "execution_count": 38,
   "metadata": {},
   "outputs": [
    {
     "name": "stdout",
     "output_type": "stream",
     "text": [
      "Nº de estaciones a extraer:  5\n"
     ]
    }
   ],
   "source": [
    "# Definir las estaciones a extraer\n",
    "#if estaciones[0] == 'todas':\n",
    "#    stn_AEMET_sub = stn_AEMET\n",
    "#else:\n",
    "#    stn_AEMET_sub = stn_AEMET.loc[estaciones]\n",
    "\n",
    "# estaciones en Burgos\n",
    "stn_AEMET_sub = stn_AEMET.loc[stn_AEMET.provincia == 'BURGOS'].index.tolist()\n",
    "\n",
    "print('Nº de estaciones a extraer: ', len(stn_AEMET_sub))"
   ]
  },
  {
   "cell_type": "markdown",
   "metadata": {},
   "source": [
    "#### Extraer, organizar y exportar las series"
   ]
  },
  {
   "cell_type": "code",
   "execution_count": 60,
   "metadata": {
    "scrolled": true,
    "tags": []
   },
   "outputs": [
    {
     "name": "stdout",
     "output_type": "stream",
     "text": [
      "\n",
      "2117D  -  2020-08-01T00:00:00UTC  -  2020-08-31T00:00:00UTC\n",
      "{'descripcion': 'exito', 'estado': 200, 'datos': 'https://opendata.aemet.es/opendata/sh/68ac3587', 'metadatos': 'https://opendata.aemet.es/opendata/sh/b3aa9d28'}\n",
      "\n",
      "2117D  -  2020-08-31T00:00:00UTC  -  2020-09-30T00:00:00UTC\n",
      "{'descripcion': 'exito', 'estado': 200, 'datos': 'https://opendata.aemet.es/opendata/sh/b59cad4a', 'metadatos': 'https://opendata.aemet.es/opendata/sh/b3aa9d28'}\n",
      "\n",
      "2117D  -  2020-09-30T00:00:00UTC  -  2020-09-30T23:59:59UTC\n",
      "{'descripcion': 'exito', 'estado': 200, 'datos': 'https://opendata.aemet.es/opendata/sh/6f195335', 'metadatos': 'https://opendata.aemet.es/opendata/sh/b3aa9d28'}\n",
      "\n",
      "2298  -  2020-08-01T00:00:00UTC  -  2020-08-31T00:00:00UTC\n",
      "{'descripcion': 'exito', 'estado': 200, 'datos': 'https://opendata.aemet.es/opendata/sh/0bb60d78', 'metadatos': 'https://opendata.aemet.es/opendata/sh/b3aa9d28'}\n",
      "\n",
      "2298  -  2020-08-31T00:00:00UTC  -  2020-09-30T00:00:00UTC\n",
      "{'descripcion': 'exito', 'estado': 200, 'datos': 'https://opendata.aemet.es/opendata/sh/835b06b2', 'metadatos': 'https://opendata.aemet.es/opendata/sh/b3aa9d28'}\n",
      "\n",
      "2298  -  2020-09-30T00:00:00UTC  -  2020-09-30T23:59:59UTC\n",
      "{'descripcion': 'exito', 'estado': 200, 'datos': 'https://opendata.aemet.es/opendata/sh/8c42ae52', 'metadatos': 'https://opendata.aemet.es/opendata/sh/b3aa9d28'}\n",
      "\n",
      "2331  -  2020-08-01T00:00:00UTC  -  2020-08-31T00:00:00UTC\n",
      "{'descripcion': 'exito', 'estado': 200, 'datos': 'https://opendata.aemet.es/opendata/sh/e93fb536', 'metadatos': 'https://opendata.aemet.es/opendata/sh/b3aa9d28'}\n",
      "\n",
      "2331  -  2020-08-31T00:00:00UTC  -  2020-09-30T00:00:00UTC\n",
      "{'descripcion': 'exito', 'estado': 200, 'datos': 'https://opendata.aemet.es/opendata/sh/2c783abe', 'metadatos': 'https://opendata.aemet.es/opendata/sh/b3aa9d28'}\n",
      "\n",
      "2331  -  2020-09-30T00:00:00UTC  -  2020-09-30T23:59:59UTC\n",
      "{'descripcion': 'exito', 'estado': 200, 'datos': 'https://opendata.aemet.es/opendata/sh/c5346e31', 'metadatos': 'https://opendata.aemet.es/opendata/sh/b3aa9d28'}\n",
      "\n",
      "9051  -  2020-08-01T00:00:00UTC  -  2020-08-31T00:00:00UTC\n",
      "{'descripcion': 'exito', 'estado': 200, 'datos': 'https://opendata.aemet.es/opendata/sh/70047eb6', 'metadatos': 'https://opendata.aemet.es/opendata/sh/b3aa9d28'}\n",
      "\n",
      "9051  -  2020-08-31T00:00:00UTC  -  2020-09-30T00:00:00UTC\n",
      "{'descripcion': 'exito', 'estado': 200, 'datos': 'https://opendata.aemet.es/opendata/sh/312b236f', 'metadatos': 'https://opendata.aemet.es/opendata/sh/b3aa9d28'}\n",
      "\n",
      "9051  -  2020-09-30T00:00:00UTC  -  2020-09-30T23:59:59UTC\n",
      "{'descripcion': 'exito', 'estado': 200, 'datos': 'https://opendata.aemet.es/opendata/sh/9f0767c5', 'metadatos': 'https://opendata.aemet.es/opendata/sh/b3aa9d28'}\n",
      "\n",
      "9111  -  2020-08-01T00:00:00UTC  -  2020-08-31T00:00:00UTC\n",
      "{'descripcion': 'exito', 'estado': 200, 'datos': 'https://opendata.aemet.es/opendata/sh/44ad1dd1', 'metadatos': 'https://opendata.aemet.es/opendata/sh/b3aa9d28'}\n",
      "\n",
      "9111  -  2020-08-31T00:00:00UTC  -  2020-09-30T00:00:00UTC\n",
      "{'descripcion': 'exito', 'estado': 200, 'datos': 'https://opendata.aemet.es/opendata/sh/f148a122', 'metadatos': 'https://opendata.aemet.es/opendata/sh/b3aa9d28'}\n",
      "\n",
      "9111  -  2020-09-30T00:00:00UTC  -  2020-09-30T23:59:59UTC\n",
      "{'descripcion': 'exito', 'estado': 200, 'datos': 'https://opendata.aemet.es/opendata/sh/07f504a0', 'metadatos': 'https://opendata.aemet.es/opendata/sh/b3aa9d28'}\n"
     ]
    }
   ],
   "source": [
    "# Extraer, reorganizar y exportar las series de cada una de las estaciones\n",
    "for stn in stn_AEMET_sub:\n",
    "    # Cargar la API key\n",
    "    api_key = open(ruta_API).read().rstrip()\n",
    "    querystring = {\"api_key\": api_key}\n",
    "    \n",
    "    # Extraer los datos\n",
    "    raw_data = extract_data(stn, periodos)\n",
    "    \n",
    "    # Convertir los datos en numeros reales\n",
    "    data = parse_data(raw_data)\n",
    "\n",
    "    # Reorganizar la serie en forma de data frame\n",
    "    serie = serie_df(data)\n",
    "    \n",
    "    # Exportar la serie\n",
    "    serie.to_csv(ruta_series + stn + '_' + stn_AEMET.loc[stn, 'nombre'] + '.csv', index=None, na_rep='NaN')\n",
    "    \n",
    "    del raw_data, data, serie"
   ]
  }
 ],
 "metadata": {
  "kernelspec": {
   "display_name": "Python 3 (ipykernel)",
   "language": "python",
   "name": "python3"
  },
  "language_info": {
   "codemirror_mode": {
    "name": "ipython",
    "version": 3
   },
   "file_extension": ".py",
   "mimetype": "text/x-python",
   "name": "python",
   "nbconvert_exporter": "python",
   "pygments_lexer": "ipython3",
   "version": "3.9.12"
  }
 },
 "nbformat": 4,
 "nbformat_minor": 4
}
