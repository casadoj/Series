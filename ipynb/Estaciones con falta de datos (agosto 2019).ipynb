{
 "cells": [
  {
   "cell_type": "markdown",
   "metadata": {},
   "source": [
    "_Autor:_    __Jesús Casado__ <br> _Revisión:_ __27/08/2019__ <br>\n",
    "\n",
    "\n",
    "__Descripción__:<br>\n",
    "Se cambia el nombre y reordenan en la carpeta adecuada los archivos datos de las estaciones del CHC que faltaban entre finales de 2017 y mediados de 2018.\n",
    "\n",
    "__Cosas a corregir__ <br>\n",
    "\n",
    "__Índice__<br>"
   ]
  },
  {
   "cell_type": "code",
   "execution_count": 35,
   "metadata": {},
   "outputs": [],
   "source": [
    "import numpy as np\n",
    "import pandas as pd\n",
    "import matplotlib.pyplot as plt\n",
    "plt.style.use('seaborn-dark')\n",
    "%matplotlib inline\n",
    "from simpledbf import Dbf5\n",
    "import os\n",
    "from datetime import datetime, timedelta\n",
    "from shutil import copyfile"
   ]
  },
  {
   "cell_type": "code",
   "execution_count": 3,
   "metadata": {},
   "outputs": [],
   "source": [
    "ruta0 = 'F:/OneDrive - Universidad de Cantabria/Series/CHC/SAI/originales/DATOS/'\n",
    "ruta1 = 'F:/OneDrive - Universidad de Cantabria/Series/CHC/SAI/originales/Desde julio de 2015/'"
   ]
  },
  {
   "cell_type": "code",
   "execution_count": 41,
   "metadata": {},
   "outputs": [
    {
     "name": "stdout",
     "output_type": "stream",
     "text": [
      "2017\n",
      "2017.12_Q119_BESAYA.csv\t2017.12_Q119.csvvv\n",
      "2017.11_Q119_BESAYA.csv\t2017.11_Q119.csvvv\n",
      "2017.10_Q119_BESAYA.csv\t2017.10_Q119.csvvv\n",
      "2018\n",
      "2018.04_Q119_BESAYA.csv\t2018.04_Q119.csvvv\n",
      "2018.01_Q119_BESAYA.csv\t2018.01_Q119.csvvv\n",
      "2018.02_Q119_BESAYA.csv\t2018.02_Q119.csvvv\n",
      "2018.03_Q119_BESAYA.csv\t2018.03_Q119.csvvv\n",
      "2018.05_Q119_BESAYA.csv\t2018.05_Q119.csvvv\n"
     ]
    }
   ],
   "source": [
    "years = os.listdir(ruta0)\n",
    "stns = []\n",
    "\n",
    "for year in years:\n",
    "    #year = years[0]\n",
    "    print(year)\n",
    "    months = os.listdir(ruta0 + '/' +  year + '/')\n",
    "\n",
    "    for month in months:\n",
    "        #month = months[0]\n",
    "        print(month, end='\\r')\n",
    "        rutasrc = ruta0 + '/' +  year + '/' + month + '/'\n",
    "        files = os.listdir(rutasrc)\n",
    "\n",
    "        for oldfile in files:\n",
    "            #oldfile = files[0]\n",
    "            stn = oldfile.split('_')[1]\n",
    "            if stn not in stns:\n",
    "                stns = stns + [stn]\n",
    "            src = rutasrc + oldfile\n",
    "\n",
    "            rutadst = ruta1 + stn + '/'\n",
    "            newfile = oldfile.split('_')[0] + '_' + stn + '.csv'\n",
    "            dst = rutadst + newfile\n",
    "\n",
    "            print(oldfile + '\\t'+ newfile , end='\\r')\n",
    "\n",
    "            copyfile(src, dst)\n",
    "        print()"
   ]
  },
  {
   "cell_type": "code",
   "execution_count": 42,
   "metadata": {},
   "outputs": [
    {
     "data": {
      "text/plain": [
       "['A078',\n",
       " 'A080',\n",
       " 'A088',\n",
       " 'A090',\n",
       " 'A141',\n",
       " 'A143',\n",
       " 'A252',\n",
       " 'A600',\n",
       " 'A617',\n",
       " 'A700',\n",
       " 'A701',\n",
       " 'A702',\n",
       " 'A703',\n",
       " 'A705',\n",
       " 'A706',\n",
       " 'A707',\n",
       " 'A708',\n",
       " 'E055',\n",
       " 'N038',\n",
       " 'N044',\n",
       " 'N045',\n",
       " 'N078',\n",
       " 'Q104',\n",
       " 'Q106',\n",
       " 'Q116',\n",
       " 'Q117',\n",
       " 'Q118',\n",
       " 'Q119']"
      ]
     },
     "execution_count": 42,
     "metadata": {},
     "output_type": "execute_result"
    }
   ],
   "source": [
    "stns"
   ]
  },
  {
   "cell_type": "code",
   "execution_count": 33,
   "metadata": {},
   "outputs": [],
   "source": [
    "copyfile()"
   ]
  },
  {
   "cell_type": "code",
   "execution_count": 28,
   "metadata": {},
   "outputs": [
    {
     "ename": "SyntaxError",
     "evalue": "invalid syntax (<ipython-input-28-d6886f7add22>, line 2)",
     "output_type": "error",
     "traceback": [
      "\u001b[1;36m  File \u001b[1;32m\"<ipython-input-28-d6886f7add22>\"\u001b[1;36m, line \u001b[1;32m2\u001b[0m\n\u001b[1;33m    newfile =\u001b[0m\n\u001b[1;37m              ^\u001b[0m\n\u001b[1;31mSyntaxError\u001b[0m\u001b[1;31m:\u001b[0m invalid syntax\n"
     ]
    }
   ],
   "source": [
    "\n",
    "newfile = \n",
    "dst = "
   ]
  },
  {
   "cell_type": "code",
   "execution_count": null,
   "metadata": {},
   "outputs": [],
   "source": [
    "os.rename()"
   ]
  }
 ],
 "metadata": {
  "kernelspec": {
   "display_name": "Python 3",
   "language": "python",
   "name": "python3"
  },
  "language_info": {
   "codemirror_mode": {
    "name": "ipython",
    "version": 3
   },
   "file_extension": ".py",
   "mimetype": "text/x-python",
   "name": "python",
   "nbconvert_exporter": "python",
   "pygments_lexer": "ipython3",
   "version": "3.6.3"
  }
 },
 "nbformat": 4,
 "nbformat_minor": 2
}
