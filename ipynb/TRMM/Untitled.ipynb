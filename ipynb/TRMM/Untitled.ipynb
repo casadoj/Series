{
 "cells": [
  {
   "cell_type": "code",
   "execution_count": null,
   "metadata": {},
   "outputs": [],
   "source": [
    "if formato == 'csv':\n",
    "#         t = 0 # ¿para qué hace falta este contador?\n",
    "        for i in tqdm.tqdm(time):\n",
    "            datetimeobject = datetime.strptime(str(i), '%Y-%m-%d %H:%M:%S')\n",
    "            newformat = datetimeobject.strftime('%Y%m%d.%H')\n",
    "            if i.year > 1999 and i.year <= 2010:\n",
    "                if i.year == 2010 and i.month > 9:\n",
    "                    ncfile = '3B42.{0}.7.HDF.nc4'.format(newformat)\n",
    "                    if os.path.isfile(path + ncfile):\n",
    "                        root_grp = Dataset(path + ncfile)\n",
    "                    else:\n",
    "                        print(ncfile)\n",
    "                        continue\n",
    "                else:\n",
    "                    ncfile = '3B42.{0}.7A.HDF.nc4'.format(newformat)\n",
    "                    if os.path.isfile(path + ncfile):\n",
    "                        root_grp = Dataset(path + ncfile)\n",
    "                    else:\n",
    "                        print(ncfile)\n",
    "                        continue\n",
    "\n",
    "            else:\n",
    "                ncfile = '3B42.{0}.7.HDF.nc4'.format(newformat)\n",
    "                if os.path.isfile(path + ncfile):\n",
    "                    root_grp=Dataset(path + ncfile)\n",
    "                else:\n",
    "                    print(ncfile)\n",
    "                    continue\n",
    "            # extraer datos de precipitación\n",
    "            Precp = np.reshape(root_grp.variables['precipitation'][pos_x, pos_y].data, (1,-1))\n",
    "            Precp[Precp < 0] = np.nan\n",
    "            Precipitacion.append(np.array(Precp, dtype='float')[0])\n",
    "    #         #data[t,:,:]=root_grp.variables['pcp'][:,pos_y,pos_x].data\n",
    "#             t += 1 # ¿para qué?\n",
    "        # exportar los datos de precipitación a partir de un 'data frame'\n",
    "        Precipitacion_TRMM = pd.DataFrame(Precipitacion, index=pd.date_range(start=time_ini, end=time_fin, freq='3h'),\n",
    "                                          columns=np.arange(0, len(pos_x) * len(pos_y)))\n",
    "        Precipitacion_TRMM.to_csv(path_output + 'Precipitacion_TRMM.csv')\n",
    "        # exportar coordenadas\n",
    "        Coordendas.to_csv(path_output + 'Coordendas_TRMM.csv')"
   ]
  }
 ],
 "metadata": {
  "kernelspec": {
   "display_name": "Python 3",
   "language": "python",
   "name": "python3"
  },
  "language_info": {
   "codemirror_mode": {
    "name": "ipython",
    "version": 3
   },
   "file_extension": ".py",
   "mimetype": "text/x-python",
   "name": "python",
   "nbconvert_exporter": "python",
   "pygments_lexer": "ipython3",
   "version": "3.7.3"
  }
 },
 "nbformat": 4,
 "nbformat_minor": 4
}
