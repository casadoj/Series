{
 "cells": [
  {
   "cell_type": "markdown",
   "metadata": {},
   "source": [
    "_Autor:_    __Jesús Casado__ <br> _Revisión:_ __31/05/2018__ <br>\n",
    "\n",
    "__Introducción__<br>\n",
    "Se leen las series diarias de temperatura originales de la AEMET para cada provincia y se crean cuatro archivos (estaciones, Tmax, Tmin y Tmed) con la serie reorganizada.\n",
    "\n",
    "__Cosas a corregir__ <br>"
   ]
  },
  {
   "cell_type": "code",
   "execution_count": 77,
   "metadata": {
    "collapsed": true
   },
   "outputs": [],
   "source": [
    "%matplotlib inline\n",
    "import numpy as np\n",
    "import pandas as pd\n",
    "import os\n",
    "import sys\n",
    "#import tqdm\n",
    "import matplotlib.pyplot as plt\n",
    "from calendar import monthrange\n",
    "import datetime\n",
    "#from mpl_toolkits.basemap import Basemap, cm"
   ]
  },
  {
   "cell_type": "code",
   "execution_count": 3,
   "metadata": {
    "collapsed": true
   },
   "outputs": [],
   "source": [
    "path = 'F:/Series/AEMET/temperatura_diaria/'\n",
    "provincias = ['Asturias', 'Leon', 'Palencia']"
   ]
  },
  {
   "cell_type": "code",
   "execution_count": 143,
   "metadata": {},
   "outputs": [
    {
     "name": "stdout",
     "output_type": "stream",
     "text": [
      "Asturias\n",
      "Nº de días: 45441 \tNº de estaciones: 127\n",
      "\n",
      "Leon\n",
      "Nº de días: 39233 \tNº de estaciones: 87\n",
      "\n",
      "Palencia\n",
      "Nº de días: 31928 \tNº de estaciones: 47\n",
      "\n"
     ]
    }
   ],
   "source": [
    "#provincia = 'Asturias'\n",
    "for provincia in provincias:\n",
    "    print(provincia)\n",
    "    \n",
    "    # Importar el archivo original de esta provincia\n",
    "    aux_file = pd.read_csv(path + 'Original/' + provincia + '.csv', sep=';', encoding='latin-1')\n",
    "    \n",
    "    # Estaciones\n",
    "    # ----------\n",
    "    # Identificar los distintos códigos de 'INDICATIVO'\n",
    "    stns = aux_file.INDICATIVO.unique()\n",
    "\n",
    "    # Crear el 'data frame'\n",
    "    cols = aux_file.columns[0:9]\n",
    "    cols = np.delete(cols, [1, 2])\n",
    "    estaciones = pd.DataFrame(index=stns, columns=cols)\n",
    "    # Completarlo\n",
    "    for i, stn in enumerate(stns):\n",
    "        estaciones.iloc[i, :] = aux_file.loc[aux_file.INDICATIVO == stn].iloc[0, [0, 3, 4, 5, 6, 7,8]]\n",
    "\n",
    "    # Exportar estaciones\n",
    "    estaciones.to_csv(path + 'Tratado/' + provincia + '_estaciones.csv', index=False)\n",
    "    \n",
    "    # Series\n",
    "    # ------\n",
    "    # Fecha de inicio de la serie\n",
    "    start = datetime.date(aux_file.ANO.min(), 1, 1)\n",
    "    # Fecha de final de la serie\n",
    "    year_e = aux_file.ANO.max() # último año de la serie\n",
    "    month_e = aux_file.loc[aux_file.ANO == year_e, 'MES'].max() # mes más elevado del último año de la serie\n",
    "    end = datetime.date(aux_file.ANO.max(), month_e, monthrange(year_e, month_e)[1])\n",
    "    # Serie de fechas\n",
    "    dates = pd.date_range(start, end).date\n",
    "    del start, end, year_e, month_e\n",
    "\n",
    "    # Crear los 'data frame' donde se guardará la serie\n",
    "    Tmax = pd.DataFrame(index=dates, columns=stns)\n",
    "    Tmax.index.name = 'Fecha'\n",
    "    print('Nº de días:', Tmax.shape[0], '\\tNº de estaciones:', Tmax.shape[1])\n",
    "    Tmin = Tmax.copy()\n",
    "    Tmed = Tmax.copy()\n",
    "    \n",
    "    # Completar las series\n",
    "    for j, stn in enumerate(stns):\n",
    "        # Extraer las filas correspondientes a la estación\n",
    "        aux_stn = aux_file.loc[aux_file.INDICATIVO == stn, :]\n",
    "        for i, l in enumerate(aux_stn.index):\n",
    "            # Extraer año y mes para calcular los días del mes, la fecha de inicio\n",
    "            year, month = aux_stn.loc[l, 'ANO'], aux_stn.loc[l, 'MES']\n",
    "            days = monthrange(year, month)[1]\n",
    "            d = datetime.date(year, month, 1)\n",
    "            # Índice al que corresponde la fecha de inicio del mes\n",
    "            ind = Tmax.index.get_loc(d)\n",
    "            # Completar la serie\n",
    "            Tmax.iloc[ind:(ind+days), j] = aux_stn.iloc[i, 9:(9+days)].values\n",
    "            Tmin.iloc[ind:(ind+days), j] = aux_stn.iloc[i, 40:(40+days)].values\n",
    "    Tmed = (Tmax + Tmin) / 2\n",
    "    \n",
    "    # Exportar series\n",
    "    Tmax.to_csv(path + 'Tratado/' + provincia + '_Tmax.csv', index=True)\n",
    "    Tmin.to_csv(path + 'Tratado/' + provincia + '_Tmin.csv', index=True)\n",
    "    Tmed.to_csv(path + 'Tratado/' + provincia + '_Tmed.csv', index=True)\n",
    "    print()"
   ]
  }
 ],
 "metadata": {
  "kernelspec": {
   "display_name": "Python 3",
   "language": "python",
   "name": "python3"
  },
  "language_info": {
   "codemirror_mode": {
    "name": "ipython",
    "version": 3
   },
   "file_extension": ".py",
   "mimetype": "text/x-python",
   "name": "python",
   "nbconvert_exporter": "python",
   "pygments_lexer": "ipython3",
   "version": "3.6.3"
  }
 },
 "nbformat": 4,
 "nbformat_minor": 2
}
