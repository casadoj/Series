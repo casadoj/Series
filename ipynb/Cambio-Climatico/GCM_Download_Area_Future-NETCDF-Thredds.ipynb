{
 "cells": [
  {
   "cell_type": "code",
   "execution_count": 9,
   "metadata": {},
   "outputs": [
    {
     "data": {
      "text/plain": [
       "'3.7.6 (default, Jan  8 2020, 20:23:39) [MSC v.1916 64 bit (AMD64)]'"
      ]
     },
     "execution_count": 9,
     "metadata": {},
     "output_type": "execute_result"
    }
   ],
   "source": [
    "#import libraries\n",
    "from pylab import *\n",
    "import scipy.io\n",
    "import matplotlib.pyplot as plt\n",
    "#from mpl_toolkits.basemap import Basemap, cm\n",
    "from datetime import datetime, timedelta\n",
    "from scipy.io import netcdf\n",
    "#from netCDF4 import Dataset \n",
    "import sys\n",
    "#sys.path.append('/home/javi/source/libraries_py')\n",
    "import h5py\n",
    "import numpy as np\n",
    "import pandas as pd\n",
    "import glob\n",
    "import os\n",
    "import csv as csv\n",
    "import tqdm\n",
    "sys.version"
   ]
  },
  {
   "cell_type": "code",
   "execution_count": 10,
   "metadata": {},
   "outputs": [],
   "source": [
    "import numpy as np\n",
    "import pandas as pd\n",
    "import urllib.request\n",
    "import sys"
   ]
  },
  {
   "cell_type": "code",
   "execution_count": 11,
   "metadata": {},
   "outputs": [],
   "source": [
    "path_results='E:/PARAGUAY/Forecast/'\n",
    "path_output='E:/PARAGUAY/Forecast/'"
   ]
  },
  {
   "cell_type": "code",
   "execution_count": 12,
   "metadata": {},
   "outputs": [],
   "source": [
    "Modelos=['inmcm4.ncml', 'bcc-csm1-1.ncml', 'NorESM1-M.ncml', 'MRI-CGCM3.ncml', 'MPI-ESM-MR.ncml', \n",
    "         'MPI-ESM-LR.ncml', 'MIROC5.ncml', 'MIROC-ESM.ncml', 'MIROC-ESM-CHEM.ncml', 'IPSL-CM5A-MR.ncml', 'IPSL-CM5A-LR.ncml',\n",
    "         'GFDL-ESM2M.ncml', 'GFDL-ESM2G.ncml', 'GFDL-CM3.ncml', 'CanESM2.ncml', 'CSIRO-Mk3-6-0.ncml', 'CNRM-CM5.ncml', \n",
    "         'CESM1-BGC.ncml', 'CCSM4.ncml', 'BNU-ESM.ncml', 'ACCESS1-0.ncml'];"
   ]
  },
  {
   "cell_type": "code",
   "execution_count": 13,
   "metadata": {},
   "outputs": [],
   "source": [
    "tempmax='tasmax'\n",
    "tempmin='tasmin'\n",
    "precipitation='pr'"
   ]
  },
  {
   "cell_type": "code",
   "execution_count": 14,
   "metadata": {},
   "outputs": [],
   "source": [
    "XX_lim=np.array((360-67.3,360-52.30))\n",
    "YY_lim=np.array((-29,-17.3))"
   ]
  },
  {
   "cell_type": "code",
   "execution_count": null,
   "metadata": {
    "scrolled": true
   },
   "outputs": [
    {
     "name": "stderr",
     "output_type": "stream",
     "text": [
      "100%|████████████████████████████████████████████████████████████████████████████████| 95/95 [00:00<00:00, 8630.82it/s]\n",
      "  0%|                                                                                           | 0/95 [00:00<?, ?it/s]"
     ]
    },
    {
     "name": "stdout",
     "output_type": "stream",
     "text": [
      "Descargando pr_day_BCSD_rcp45_r1i1p1_bcc-csm1-1_2100.nc\n",
      "Try again...\n",
      "Try again...\n",
      "Try again...\n",
      "Try again...\n",
      "Try again...\n",
      "Try again...\n",
      "Try again...\n",
      "Try again...\n",
      "Try again...\n",
      "Try again...\n",
      "Try again...\n",
      "Try again...\n",
      "Try again...\n",
      "Try again...\n",
      "Try again...\n"
     ]
    },
    {
     "name": "stderr",
     "output_type": "stream",
     "text": [
      "100%|██████████████████████████████████████████████████████████████████████████████████| 95/95 [00:12<00:00,  7.55it/s]\n",
      "100%|███████████████████████████████████████████████████████████████████████████████| 95/95 [00:00<00:00, 10558.56it/s]\n",
      "100%|███████████████████████████████████████████████████████████████████████████████| 95/95 [00:00<00:00, 10572.29it/s]\n",
      "100%|███████████████████████████████████████████████████████████████████████████████| 95/95 [00:00<00:00, 10559.12it/s]\n",
      "100%|███████████████████████████████████████████████████████████████████████████████| 95/95 [00:00<00:00, 11860.66it/s]\n",
      "  0%|                                                                                           | 0/95 [00:00<?, ?it/s]"
     ]
    },
    {
     "name": "stdout",
     "output_type": "stream",
     "text": [
      "Try again...\n",
      "No se descarga el modelo: bcc-csm1-1.ncml\n",
      "Descargando pr_day_BCSD_rcp45_r1i1p1_MIROC5_2100.nc\n",
      "Try again...\n",
      "Try again...\n",
      "Try again...\n",
      "Try again...\n",
      "Try again...\n",
      "Try again...\n",
      "Try again...\n",
      "Try again...\n",
      "Try again...\n",
      "Try again...\n",
      "Try again...\n",
      "Try again...\n",
      "Try again...\n",
      "Try again...\n",
      "Try again...\n"
     ]
    },
    {
     "name": "stderr",
     "output_type": "stream",
     "text": [
      "100%|██████████████████████████████████████████████████████████████████████████████████| 95/95 [00:11<00:00,  7.99it/s]\n",
      "100%|███████████████████████████████████████████████████████████████████████████████| 95/95 [00:00<00:00, 10559.40it/s]\n",
      "100%|███████████████████████████████████████████████████████████████████████████████| 95/95 [00:00<00:00, 10560.52it/s]\n",
      "100%|████████████████████████████████████████████████████████████████████████████████| 95/95 [00:00<00:00, 9504.54it/s]\n",
      "100%|███████████████████████████████████████████████████████████████████████████████| 95/95 [00:00<00:00, 10558.84it/s]\n",
      "100%|███████████████████████████████████████████████████████████████████████████████| 95/95 [00:00<00:00, 10559.68it/s]\n",
      "100%|███████████████████████████████████████████████████████████████████████████████| 95/95 [00:00<00:00, 10559.12it/s]\n",
      "  0%|                                                                                           | 0/95 [00:00<?, ?it/s]"
     ]
    },
    {
     "name": "stdout",
     "output_type": "stream",
     "text": [
      "Try again...\n",
      "No se descarga el modelo: MIROC5.ncml\n",
      "Descargando pr_day_BCSD_rcp45_r1i1p1_GFDL-CM3_2096.nc\n",
      "Try again...\n",
      "Try again...\n",
      "Try again...\n",
      "Try again...\n",
      "Try again...\n",
      "Try again...\n",
      "Try again...\n",
      "Try again...\n",
      "Try again...\n",
      "Try again...\n",
      "Try again...\n",
      "Try again...\n",
      "Try again...\n",
      "Try again...\n",
      "Try again...\n"
     ]
    },
    {
     "name": "stderr",
     "output_type": "stream",
     "text": [
      "\r",
      " 96%|██████████████████████████████████████████████████████████████████████████████▌   | 91/95 [00:12<00:00,  7.35it/s]"
     ]
    },
    {
     "name": "stdout",
     "output_type": "stream",
     "text": [
      "Try again...\n",
      "No se descarga el modelo: GFDL-CM3.ncml\n",
      "Descargando pr_day_BCSD_rcp45_r1i1p1_GFDL-CM3_2097.nc\n",
      "Try again...\n",
      "Try again...\n",
      "Try again...\n",
      "Try again...\n",
      "Try again...\n",
      "Try again...\n",
      "Try again...\n",
      "Try again...\n",
      "Try again...\n",
      "Try again...\n",
      "Try again...\n",
      "Try again...\n",
      "Try again...\n",
      "Try again...\n",
      "Try again...\n"
     ]
    },
    {
     "name": "stderr",
     "output_type": "stream",
     "text": [
      "\r",
      " 97%|███████████████████████████████████████████████████████████████████████████████▍  | 92/95 [00:24<00:11,  3.74s/it]"
     ]
    },
    {
     "name": "stdout",
     "output_type": "stream",
     "text": [
      "Try again...\n",
      "No se descarga el modelo: GFDL-CM3.ncml\n",
      "Descargando pr_day_BCSD_rcp45_r1i1p1_GFDL-CM3_2098.nc\n",
      "Try again...\n",
      "Try again...\n",
      "Try again...\n",
      "Try again...\n",
      "Try again...\n",
      "Try again...\n",
      "Try again...\n",
      "Try again...\n",
      "Try again...\n",
      "Try again...\n",
      "Try again...\n",
      "Try again...\n",
      "Try again...\n",
      "Try again...\n",
      "Try again...\n"
     ]
    },
    {
     "name": "stderr",
     "output_type": "stream",
     "text": [
      "\r",
      " 98%|████████████████████████████████████████████████████████████████████████████████▎ | 93/95 [00:36<00:12,  6.24s/it]"
     ]
    },
    {
     "name": "stdout",
     "output_type": "stream",
     "text": [
      "Try again...\n",
      "No se descarga el modelo: GFDL-CM3.ncml\n",
      "Descargando pr_day_BCSD_rcp45_r1i1p1_GFDL-CM3_2099.nc\n",
      "Try again...\n",
      "Try again...\n",
      "Try again...\n",
      "Try again...\n",
      "Try again...\n",
      "Try again...\n",
      "Try again...\n",
      "Try again...\n",
      "Try again...\n",
      "Try again...\n",
      "Try again...\n",
      "Try again...\n",
      "Try again...\n",
      "Try again...\n",
      "Try again...\n"
     ]
    },
    {
     "name": "stderr",
     "output_type": "stream",
     "text": [
      "\r",
      " 99%|█████████████████████████████████████████████████████████████████████████████████▏| 94/95 [00:48<00:07,  7.99s/it]"
     ]
    },
    {
     "name": "stdout",
     "output_type": "stream",
     "text": [
      "Try again...\n",
      "No se descarga el modelo: GFDL-CM3.ncml\n",
      "Descargando pr_day_BCSD_rcp45_r1i1p1_GFDL-CM3_2100.nc\n",
      "Try again...\n",
      "Try again...\n",
      "Try again...\n",
      "Try again...\n",
      "Try again...\n",
      "Try again...\n",
      "Try again...\n",
      "Try again...\n",
      "Try again...\n",
      "Try again...\n",
      "Try again...\n",
      "Try again...\n",
      "Try again...\n",
      "Try again...\n",
      "Try again...\n"
     ]
    },
    {
     "name": "stderr",
     "output_type": "stream",
     "text": [
      "100%|██████████████████████████████████████████████████████████████████████████████████| 95/95 [01:00<00:00,  1.56it/s]\n",
      "100%|████████████████████████████████████████████████████████████████████████████████| 95/95 [00:00<00:00, 9494.58it/s]\n",
      "100%|███████████████████████████████████████████████████████████████████████████████| 95/95 [00:00<00:00, 10562.20it/s]\n",
      "100%|████████████████████████████████████████████████████████████████████████████████| 95/95 [00:00<00:00, 8580.45it/s]\n",
      "100%|████████████████████████████████████████████████████████████████████████████████| 95/95 [00:00<00:00, 9491.41it/s]\n",
      "100%|███████████████████████████████████████████████████████████████████████████████| 95/95 [00:00<00:00, 10559.12it/s]\n",
      "100%|███████████████████████████████████████████████████████████████████████████████| 95/95 [00:00<00:00, 10570.04it/s]\n",
      "100%|███████████████████████████████████████████████████████████████████████████████| 95/95 [00:00<00:00, 10558.00it/s]\n",
      "100%|███████████████████████████████████████████████████████████████████████████████| 95/95 [00:00<00:00, 10571.16it/s]\n",
      "  0%|                                                                                           | 0/95 [00:00<?, ?it/s]"
     ]
    },
    {
     "name": "stdout",
     "output_type": "stream",
     "text": [
      "Try again...\n",
      "No se descarga el modelo: GFDL-CM3.ncml\n",
      "Descargando tasmax_day_BCSD_rcp45_r1i1p1_bcc-csm1-1_2100.nc\n",
      "Try again...\n",
      "Try again...\n",
      "Try again...\n",
      "Try again...\n",
      "Try again...\n",
      "Try again...\n",
      "Try again...\n",
      "Try again...\n",
      "Try again...\n",
      "Try again...\n",
      "Try again...\n",
      "Try again...\n",
      "Try again...\n",
      "Try again...\n",
      "Try again...\n"
     ]
    },
    {
     "name": "stderr",
     "output_type": "stream",
     "text": [
      "100%|██████████████████████████████████████████████████████████████████████████████████| 95/95 [00:15<00:00,  5.94it/s]\n",
      "100%|████████████████████████████████████████████████████████████████████████████████| 95/95 [00:00<00:00, 3062.76it/s]\n",
      "100%|████████████████████████████████████████████████████████████████████████████████| 95/95 [00:00<00:00, 5936.16it/s]\n",
      "100%|████████████████████████████████████████████████████████████████████████████████| 95/95 [00:00<00:00, 7910.80it/s]\n",
      "100%|████████████████████████████████████████████████████████████████████████████████| 95/95 [00:00<00:00, 6787.48it/s]\n",
      "  0%|                                                                                           | 0/95 [00:00<?, ?it/s]"
     ]
    },
    {
     "name": "stdout",
     "output_type": "stream",
     "text": [
      "Try again...\n",
      "No se descarga el modelo: bcc-csm1-1.ncml\n",
      "Descargando tasmax_day_BCSD_rcp45_r1i1p1_MIROC5_2100.nc\n",
      "Try again...\n",
      "Try again...\n",
      "Try again...\n",
      "Try again...\n",
      "Try again...\n",
      "Try again...\n",
      "Try again...\n",
      "Try again...\n",
      "Try again...\n",
      "Try again...\n",
      "Try again...\n",
      "Try again...\n",
      "Try again...\n",
      "Try again...\n",
      "Try again...\n"
     ]
    },
    {
     "name": "stderr",
     "output_type": "stream",
     "text": [
      "100%|██████████████████████████████████████████████████████████████████████████████████| 95/95 [00:13<00:00,  7.30it/s]\n",
      "100%|████████████████████████████████████████████████████████████████████████████████| 95/95 [00:00<00:00, 9502.05it/s]\n",
      "100%|███████████████████████████████████████████████████████████████████████████████| 95/95 [00:00<00:00, 10562.76it/s]\n",
      "100%|███████████████████████████████████████████████████████████████████████████████| 95/95 [00:00<00:00, 10543.75it/s]\n",
      "100%|███████████████████████████████████████████████████████████████████████████████| 95/95 [00:00<00:00, 10559.12it/s]\n",
      "100%|███████████████████████████████████████████████████████████████████████████████| 95/95 [00:00<00:00, 10559.12it/s]\n",
      "100%|███████████████████████████████████████████████████████████████████████████████| 95/95 [00:00<00:00, 11863.13it/s]\n",
      "100%|████████████████████████████████████████████████████████████████████████████████| 95/95 [00:00<00:00, 9501.59it/s]\n",
      "100%|███████████████████████████████████████████████████████████████████████████████| 95/95 [00:00<00:00, 10546.54it/s]\n",
      "100%|███████████████████████████████████████████████████████████████████████████████| 95/95 [00:00<00:00, 10544.87it/s]\n",
      "100%|███████████████████████████████████████████████████████████████████████████████| 95/95 [00:00<00:00, 10548.50it/s]\n",
      "100%|███████████████████████████████████████████████████████████████████████████████| 95/95 [00:00<00:00, 10543.47it/s]\n",
      "100%|███████████████████████████████████████████████████████████████████████████████| 95/95 [00:00<00:00, 10563.32it/s]\n",
      "100%|███████████████████████████████████████████████████████████████████████████████| 95/95 [00:00<00:00, 10543.19it/s]\n",
      "100%|███████████████████████████████████████████████████████████████████████████████| 95/95 [00:00<00:00, 10559.96it/s]\n",
      "100%|████████████████████████████████████████████████████████████████████████████████| 95/95 [00:00<00:00, 9500.24it/s]\n",
      "  0%|                                                                                           | 0/95 [00:00<?, ?it/s]"
     ]
    },
    {
     "name": "stdout",
     "output_type": "stream",
     "text": [
      "Try again...\n",
      "No se descarga el modelo: MIROC5.ncml\n",
      "Descargando tasmin_day_BCSD_rcp45_r1i1p1_bcc-csm1-1_2100.nc\n",
      "Try again...\n",
      "Try again...\n",
      "Try again...\n",
      "Try again...\n",
      "Try again...\n",
      "Try again...\n",
      "Try again...\n",
      "Try again...\n",
      "Try again...\n",
      "Try again...\n",
      "Try again...\n",
      "Try again...\n",
      "Try again...\n",
      "Try again...\n",
      "Try again...\n"
     ]
    },
    {
     "name": "stderr",
     "output_type": "stream",
     "text": [
      "100%|██████████████████████████████████████████████████████████████████████████████████| 95/95 [00:14<00:00,  6.75it/s]\n",
      "100%|████████████████████████████████████████████████████████████████████████████████| 95/95 [00:00<00:00, 9495.93it/s]\n",
      "100%|███████████████████████████████████████████████████████████████████████████████| 95/95 [00:00<00:00, 10547.66it/s]\n",
      "100%|███████████████████████████████████████████████████████████████████████████████| 95/95 [00:00<00:00, 10569.20it/s]\n",
      "100%|███████████████████████████████████████████████████████████████████████████████| 95/95 [00:00<00:00, 10549.89it/s]\n",
      "  0%|                                                                                           | 0/95 [00:00<?, ?it/s]"
     ]
    },
    {
     "name": "stdout",
     "output_type": "stream",
     "text": [
      "Try again...\n",
      "No se descarga el modelo: bcc-csm1-1.ncml\n",
      "Descargando tasmin_day_BCSD_rcp45_r1i1p1_MIROC5_2100.nc\n",
      "Try again...\n",
      "Try again...\n",
      "Try again...\n",
      "Try again...\n",
      "Try again...\n",
      "Try again...\n",
      "Try again...\n",
      "Try again...\n",
      "Try again...\n",
      "Try again...\n",
      "Try again...\n",
      "Try again...\n",
      "Try again...\n",
      "Try again...\n",
      "Try again...\n"
     ]
    },
    {
     "name": "stderr",
     "output_type": "stream",
     "text": [
      "100%|██████████████████████████████████████████████████████████████████████████████████| 95/95 [00:12<00:00,  7.79it/s]\n",
      "100%|████████████████████████████████████████████████████████████████████████████████| 95/95 [00:00<00:00, 5936.87it/s]\n",
      "100%|███████████████████████████████████████████████████████████████████████████████| 95/95 [00:00<00:00, 11866.67it/s]\n",
      "100%|███████████████████████████████████████████████████████████████████████████████| 95/95 [00:00<00:00, 10559.12it/s]\n",
      "100%|███████████████████████████████████████████████████████████████████████████████| 95/95 [00:00<00:00, 10559.12it/s]\n",
      "100%|███████████████████████████████████████████████████████████████████████████████| 95/95 [00:00<00:00, 11867.02it/s]\n",
      "100%|███████████████████████████████████████████████████████████████████████████████| 95/95 [00:00<00:00, 10549.33it/s]\n",
      "100%|███████████████████████████████████████████████████████████████████████████████| 95/95 [00:00<00:00, 10547.10it/s]\n",
      "100%|███████████████████████████████████████████████████████████████████████████████| 95/95 [00:00<00:00, 11879.05it/s]\n",
      "100%|███████████████████████████████████████████████████████████████████████████████| 95/95 [00:00<00:00, 10550.17it/s]\n",
      "100%|███████████████████████████████████████████████████████████████████████████████| 95/95 [00:00<00:00, 11880.82it/s]\n",
      "100%|███████████████████████████████████████████████████████████████████████████████| 95/95 [00:00<00:00, 11882.59it/s]\n",
      "100%|███████████████████████████████████████████████████████████████████████████████| 95/95 [00:00<00:00, 10543.19it/s]\n",
      "100%|███████████████████████████████████████████████████████████████████████████████| 95/95 [00:00<00:00, 10549.05it/s]\n",
      "100%|███████████████████████████████████████████████████████████████████████████████| 95/95 [00:00<00:00, 11880.82it/s]\n",
      "100%|███████████████████████████████████████████████████████████████████████████████| 95/95 [00:00<00:00, 10549.33it/s]"
     ]
    },
    {
     "name": "stdout",
     "output_type": "stream",
     "text": [
      "Try again...\n",
      "No se descarga el modelo: MIROC5.ncml\n"
     ]
    },
    {
     "name": "stderr",
     "output_type": "stream",
     "text": [
      "\n",
      "\r",
      "  0%|                                                                                           | 0/95 [00:00<?, ?it/s]"
     ]
    },
    {
     "name": "stdout",
     "output_type": "stream",
     "text": [
      "Descargando pr_day_BCSD_rcp85_r1i1p1_bcc-csm1-1_2100.nc\n",
      "Try again...\n",
      "Try again...\n",
      "Try again...\n",
      "Try again...\n",
      "Try again...\n",
      "Try again...\n",
      "Try again...\n",
      "Try again...\n",
      "Try again...\n",
      "Try again...\n",
      "Try again...\n",
      "Try again...\n",
      "Try again...\n",
      "Try again...\n",
      "Try again...\n"
     ]
    },
    {
     "name": "stderr",
     "output_type": "stream",
     "text": [
      "100%|██████████████████████████████████████████████████████████████████████████████████| 95/95 [00:14<00:00,  6.61it/s]\n",
      "100%|████████████████████████████████████████████████████████████████████████████████| 95/95 [00:00<00:00, 7310.50it/s]\n",
      "100%|████████████████████████████████████████████████████████████████████████████████| 95/95 [00:00<00:00, 7919.44it/s]\n",
      "100%|████████████████████████████████████████████████████████████████████████████████| 95/95 [00:00<00:00, 7301.79it/s]\n",
      "100%|████████████████████████████████████████████████████████████████████████████████| 95/95 [00:00<00:00, 7301.79it/s]\n",
      "  0%|                                                                                           | 0/95 [00:00<?, ?it/s]"
     ]
    },
    {
     "name": "stdout",
     "output_type": "stream",
     "text": [
      "Try again...\n",
      "No se descarga el modelo: bcc-csm1-1.ncml\n",
      "Descargando pr_day_BCSD_rcp85_r1i1p1_MIROC5_2100.nc\n",
      "Try again...\n",
      "Try again...\n",
      "Try again...\n",
      "Try again...\n",
      "Try again...\n",
      "Try again...\n",
      "Try again...\n",
      "Try again...\n",
      "Try again...\n",
      "Try again...\n",
      "Try again...\n",
      "Try again...\n",
      "Try again...\n",
      "Try again...\n",
      "Try again...\n"
     ]
    },
    {
     "name": "stderr",
     "output_type": "stream",
     "text": [
      "100%|██████████████████████████████████████████████████████████████████████████████████| 95/95 [00:11<00:00,  7.93it/s]\n",
      "100%|███████████████████████████████████████████████████████████████████████████████| 95/95 [00:00<00:00, 10556.88it/s]\n",
      "100%|███████████████████████████████████████████████████████████████████████████████| 95/95 [00:00<00:00, 10545.70it/s]\n",
      "100%|███████████████████████████████████████████████████████████████████████████████| 95/95 [00:00<00:00, 10559.96it/s]\n",
      "100%|███████████████████████████████████████████████████████████████████████████████| 95/95 [00:00<00:00, 10544.31it/s]\n",
      "100%|███████████████████████████████████████████████████████████████████████████████| 95/95 [00:00<00:00, 10544.31it/s]\n",
      "100%|███████████████████████████████████████████████████████████████████████████████| 95/95 [00:00<00:00, 11879.40it/s]\n",
      "100%|███████████████████████████████████████████████████████████████████████████████| 95/95 [00:00<00:00, 10544.87it/s]\n",
      "100%|███████████████████████████████████████████████████████████████████████████████| 95/95 [00:00<00:00, 10547.66it/s]\n",
      "100%|████████████████████████████████████████████████████████████████████████████████| 95/95 [00:00<00:00, 8646.17it/s]\n",
      "100%|███████████████████████████████████████████████████████████████████████████████| 95/95 [00:00<00:00, 10544.87it/s]\n",
      "100%|███████████████████████████████████████████████████████████████████████████████| 95/95 [00:00<00:00, 11870.20it/s]\n",
      "  0%|                                                                                           | 0/95 [00:00<?, ?it/s]"
     ]
    },
    {
     "name": "stdout",
     "output_type": "stream",
     "text": [
      "Try again...\n",
      "No se descarga el modelo: MIROC5.ncml\n"
     ]
    },
    {
     "name": "stderr",
     "output_type": "stream",
     "text": [
      "100%|██████████████████████████████████████████████████████████████████████████████████| 95/95 [00:04<00:00, 20.34it/s]\n",
      "100%|████████████████████████████████████████████████████████████████████████████████| 95/95 [00:00<00:00, 3804.01it/s]\n",
      "  0%|                                                                                           | 0/95 [00:00<?, ?it/s]"
     ]
    },
    {
     "name": "stdout",
     "output_type": "stream",
     "text": [
      "Descargando pr_day_BCSD_rcp85_r1i1p1_ACCESS1-0_2100.nc\n",
      "Try again...\n",
      "Try again...\n",
      "Try again...\n",
      "Try again...\n",
      "Try again...\n",
      "Try again...\n",
      "Try again...\n",
      "Try again...\n",
      "Try again...\n",
      "Try again...\n",
      "Try again...\n",
      "Try again...\n",
      "Try again...\n",
      "Try again...\n",
      "Try again...\n"
     ]
    },
    {
     "name": "stderr",
     "output_type": "stream",
     "text": [
      "100%|██████████████████████████████████████████████████████████████████████████████████| 95/95 [00:11<00:00,  7.93it/s]\n",
      "100%|████████████████████████████████████████████████████████████████████████████████| 95/95 [00:00<00:00, 3964.05it/s]\n",
      "  0%|                                                                                           | 0/95 [00:00<?, ?it/s]"
     ]
    },
    {
     "name": "stdout",
     "output_type": "stream",
     "text": [
      "Try again...\n",
      "No se descarga el modelo: ACCESS1-0.ncml\n",
      "Descargando tasmax_day_BCSD_rcp85_r1i1p1_bcc-csm1-1_2100.nc\n"
     ]
    }
   ],
   "source": [
    "for rcp in ['rcp45','rcp85']:\n",
    "    for var in ['pr','tasmax','tasmin']:\n",
    "        Variable=var\n",
    "        for mod in Modelos:\n",
    "            fecha_inicio='2006-01-01'\n",
    "            fecha_final='2006-12-31'\n",
    "            for i in tqdm.tqdm(range(0,95)):\n",
    "                datetime_object_ini = datetime.strptime(fecha_inicio, '%Y-%m-%d')\n",
    "                datetime_object_fin = datetime.strptime(fecha_final, '%Y-%m-%d')\n",
    "                url0 = 'https://dataserver.nccs.nasa.gov/thredds/ncss/bypass/NEX-GDDP/bcsd/'+rcp+'/r1i1p1/'+Variable+'/'+mod+'?var='+Variable+'&north='+str(YY_lim[1])+'&west='+str(XX_lim[0])+'&east='+str(XX_lim[1])+'&south='+str(YY_lim[0])+'&horizStride=1&time_start='+fecha_inicio+'T12%3A00%3A00Z&time_end='+fecha_final+'T12%3A00%3A00Z&timeStride=1&addLatLon=true'\n",
    "                if os.path.exists(path_output+rcp+'/'+var+'/'+Variable+'_day_BCSD_'+rcp+'_r1i1p1_'+mod[:-5]+'_'+str(datetime_object_ini.year)+'.nc')==True:\n",
    "                    fecha_inicio=str(datetime_object_ini + relativedelta(years=+1))[:-9]\n",
    "                    fecha_final=str(datetime_object_fin + relativedelta(years=+1))[:-9]\n",
    "                    continue\n",
    "                    \n",
    "                else:\n",
    "                    print('Descargando '+Variable+'_day_BCSD_'+rcp+'_r1i1p1_'+mod[:-5]+'_'+str(datetime_object_ini.year)+'.nc')\n",
    "                    nnn=0\n",
    "                    not_downloaded = True\n",
    "                    while not_downloaded:\n",
    "                        try:\n",
    "                            urllib.request.urlretrieve(url0, path_output+rcp+'/'+var+'/'+Variable+'_day_BCSD_'+rcp+'_r1i1p1_'+mod[:-5]+'_'+str(datetime_object_ini.year)+'.nc')\n",
    "                            fecha_inicio=str(datetime_object_ini + relativedelta(years=+1))[:-9]\n",
    "                            fecha_final=str(datetime_object_fin + relativedelta(years=+1))[:-9]\n",
    "                            not_downloaded = False\n",
    "                        except:\n",
    "                            print(\"Try again...\")\n",
    "                            nnn=nnn+1\n",
    "                            if nnn>15:\n",
    "                                print('No se descarga el modelo: '+mod)\n",
    "                                fecha_inicio=str(datetime_object_ini + relativedelta(years=+1))[:-9]\n",
    "                                fecha_final=str(datetime_object_fin + relativedelta(years=+1))[:-9]\n",
    "                                break"
   ]
  }
 ],
 "metadata": {
  "kernelspec": {
   "display_name": "Python 3",
   "language": "python",
   "name": "python3"
  },
  "language_info": {
   "codemirror_mode": {
    "name": "ipython",
    "version": 3
   },
   "file_extension": ".py",
   "mimetype": "text/x-python",
   "name": "python",
   "nbconvert_exporter": "python",
   "pygments_lexer": "ipython3",
   "version": "3.7.6"
  },
  "varInspector": {
   "cols": {
    "lenName": 16,
    "lenType": 16,
    "lenVar": 40
   },
   "kernels_config": {
    "python": {
     "delete_cmd_postfix": "",
     "delete_cmd_prefix": "del ",
     "library": "var_list.py",
     "varRefreshCmd": "print(var_dic_list())"
    },
    "r": {
     "delete_cmd_postfix": ") ",
     "delete_cmd_prefix": "rm(",
     "library": "var_list.r",
     "varRefreshCmd": "cat(var_dic_list()) "
    }
   },
   "types_to_exclude": [
    "module",
    "function",
    "builtin_function_or_method",
    "instance",
    "_Feature"
   ],
   "window_display": false
  }
 },
 "nbformat": 4,
 "nbformat_minor": 2
}
