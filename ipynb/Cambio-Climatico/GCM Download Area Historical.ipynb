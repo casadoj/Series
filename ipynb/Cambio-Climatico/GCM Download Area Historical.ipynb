{
 "cells": [
  {
   "cell_type": "markdown",
   "metadata": {},
   "source": [
    "__https://portal.nccs.nasa.gov/datashare/__"
   ]
  },
  {
   "cell_type": "code",
   "execution_count": 1,
   "metadata": {},
   "outputs": [
    {
     "data": {
      "text/plain": [
       "'3.7.6 (default, Jan  8 2020, 19:59:22) \\n[GCC 7.3.0]'"
      ]
     },
     "execution_count": 1,
     "metadata": {},
     "output_type": "execute_result"
    }
   ],
   "source": [
    "#import libraries\n",
    "from pylab import *\n",
    "import scipy.io\n",
    "import matplotlib.pyplot as plt\n",
    "#from mpl_toolkits.basemap import Basemap, cm\n",
    "from datetime import datetime, timedelta\n",
    "from scipy.io import netcdf\n",
    "#from netCDF4 import Dataset \n",
    "import sys\n",
    "#sys.path.append('/home/javi/source/libraries_py')\n",
    "import h5py\n",
    "import numpy as np\n",
    "import pandas as pd\n",
    "import glob\n",
    "import os\n",
    "import csv as csv\n",
    "import urllib\n",
    "import tqdm\n",
    "sys.version"
   ]
  },
  {
   "cell_type": "code",
   "execution_count": 2,
   "metadata": {},
   "outputs": [],
   "source": [
    "XX_lim=np.array((-65,-53))\n",
    "YY_lim=np.array((-29,-17))"
   ]
  },
  {
   "cell_type": "code",
   "execution_count": 3,
   "metadata": {},
   "outputs": [],
   "source": [
    "path_download='/mnt/c/Users/navass/Downloads/'\n",
    "path='/mnt/e/PARAGUAY/Hindcast/'"
   ]
  },
  {
   "cell_type": "code",
   "execution_count": 4,
   "metadata": {},
   "outputs": [],
   "source": [
    "year_ini=1979\n",
    "year_fin=2010"
   ]
  },
  {
   "cell_type": "code",
   "execution_count": 5,
   "metadata": {},
   "outputs": [],
   "source": [
    "year=np.arange(year_ini,year_fin+1)"
   ]
  },
  {
   "cell_type": "code",
   "execution_count": null,
   "metadata": {
    "scrolled": false
   },
   "outputs": [
    {
     "name": "stderr",
     "output_type": "stream",
     "text": [
      "100%|██████████| 1176/1176 [00:00<00:00, 1240.20it/s]\n",
      " 10%|▉         | 113/1176 [00:00<01:16, 13.98it/s]"
     ]
    },
    {
     "name": "stdout",
     "output_type": "stream",
     "text": [
      "Descargando: tasmax_day_BCSD_historical_r1i1p1_IPSL-CM5A-LR_1969.nc\n"
     ]
    },
    {
     "name": "stderr",
     "output_type": "stream",
     "text": [
      " 49%|████▉     | 580/1176 [06:12<02:52,  3.46it/s]"
     ]
    },
    {
     "name": "stdout",
     "output_type": "stream",
     "text": [
      "Descargando: tasmax_day_BCSD_historical_r1i1p1_IPSL-CM5A-LR_1970.nc\n"
     ]
    },
    {
     "name": "stderr",
     "output_type": "stream",
     "text": [
      "\r",
      " 49%|████▉     | 581/1176 [12:23<18:26:03, 111.54s/it]"
     ]
    },
    {
     "name": "stdout",
     "output_type": "stream",
     "text": [
      "Descargando: tasmax_day_BCSD_historical_r1i1p1_IPSL-CM5A-LR_1971.nc\n"
     ]
    },
    {
     "name": "stderr",
     "output_type": "stream",
     "text": [
      "\r",
      " 49%|████▉     | 582/1176 [18:33<31:11:47, 189.07s/it]"
     ]
    },
    {
     "name": "stdout",
     "output_type": "stream",
     "text": [
      "Descargando: tasmax_day_BCSD_historical_r1i1p1_IPSL-CM5A-LR_1972.nc\n"
     ]
    },
    {
     "name": "stderr",
     "output_type": "stream",
     "text": [
      "\r",
      " 50%|████▉     | 583/1176 [24:38<39:49:33, 241.78s/it]"
     ]
    },
    {
     "name": "stdout",
     "output_type": "stream",
     "text": [
      "Descargando: tasmax_day_BCSD_historical_r1i1p1_IPSL-CM5A-LR_1973.nc\n"
     ]
    },
    {
     "name": "stderr",
     "output_type": "stream",
     "text": [
      "\r",
      " 50%|████▉     | 584/1176 [30:35<45:27:03, 276.39s/it]"
     ]
    },
    {
     "name": "stdout",
     "output_type": "stream",
     "text": [
      "Descargando: tasmax_day_BCSD_historical_r1i1p1_IPSL-CM5A-LR_1974.nc\n"
     ]
    },
    {
     "name": "stderr",
     "output_type": "stream",
     "text": [
      "\r",
      " 50%|████▉     | 585/1176 [38:37<55:31:23, 338.21s/it]"
     ]
    },
    {
     "name": "stdout",
     "output_type": "stream",
     "text": [
      "Descargando: tasmax_day_BCSD_historical_r1i1p1_IPSL-CM5A-LR_1975.nc\n"
     ]
    },
    {
     "name": "stderr",
     "output_type": "stream",
     "text": [
      "\r",
      " 50%|████▉     | 586/1176 [48:01<66:32:06, 405.98s/it]"
     ]
    },
    {
     "name": "stdout",
     "output_type": "stream",
     "text": [
      "Descargando: tasmax_day_BCSD_historical_r1i1p1_IPSL-CM5A-LR_1976.nc\n"
     ]
    },
    {
     "name": "stderr",
     "output_type": "stream",
     "text": [
      "\r",
      " 50%|████▉     | 587/1176 [57:09<73:22:30, 448.47s/it]"
     ]
    },
    {
     "name": "stdout",
     "output_type": "stream",
     "text": [
      "Descargando: tasmax_day_BCSD_historical_r1i1p1_IPSL-CM5A-LR_1977.nc\n"
     ]
    },
    {
     "name": "stderr",
     "output_type": "stream",
     "text": [
      "\r",
      " 50%|█████     | 588/1176 [1:05:17<75:11:34, 460.36s/it]"
     ]
    },
    {
     "name": "stdout",
     "output_type": "stream",
     "text": [
      "Descargando: tasmax_day_BCSD_historical_r1i1p1_IPSL-CM5A-LR_1978.nc\n"
     ]
    },
    {
     "name": "stderr",
     "output_type": "stream",
     "text": [
      "\r",
      " 50%|█████     | 589/1176 [1:12:25<73:28:38, 450.63s/it]"
     ]
    },
    {
     "name": "stdout",
     "output_type": "stream",
     "text": [
      "Descargando: tasmax_day_BCSD_historical_r1i1p1_IPSL-CM5A-LR_1979.nc\n"
     ]
    },
    {
     "name": "stderr",
     "output_type": "stream",
     "text": [
      "\r",
      " 50%|█████     | 590/1176 [1:18:48<70:01:24, 430.18s/it]"
     ]
    },
    {
     "name": "stdout",
     "output_type": "stream",
     "text": [
      "Descargando: tasmax_day_BCSD_historical_r1i1p1_IPSL-CM5A-LR_1980.nc\n"
     ]
    },
    {
     "name": "stderr",
     "output_type": "stream",
     "text": [
      "\r",
      " 50%|█████     | 591/1176 [1:24:54<66:48:50, 411.16s/it]"
     ]
    },
    {
     "name": "stdout",
     "output_type": "stream",
     "text": [
      "Descargando: tasmax_day_BCSD_historical_r1i1p1_IPSL-CM5A-LR_1981.nc\n"
     ]
    },
    {
     "name": "stderr",
     "output_type": "stream",
     "text": [
      "\r",
      " 50%|█████     | 592/1176 [1:30:07<61:52:57, 381.47s/it]"
     ]
    },
    {
     "name": "stdout",
     "output_type": "stream",
     "text": [
      "Descargando: tasmax_day_BCSD_historical_r1i1p1_IPSL-CM5A-LR_1982.nc\n"
     ]
    },
    {
     "name": "stderr",
     "output_type": "stream",
     "text": [
      "\r",
      " 50%|█████     | 593/1176 [1:34:36<56:20:03, 347.86s/it]"
     ]
    },
    {
     "name": "stdout",
     "output_type": "stream",
     "text": [
      "Descargando: tasmax_day_BCSD_historical_r1i1p1_IPSL-CM5A-LR_1983.nc\n"
     ]
    }
   ],
   "source": [
    "#Descargo el sumario\n",
    "for var in ['pr','tasmax','tasmin']:\n",
    "    path_output=path+var+'/'\n",
    "    url0='https://portal.nccs.nasa.gov/datashare/NEXGDDP/BCSD/historical/day/atmos/'+var+'/r1i1p1/v1.0/'\n",
    "    urllib.request.urlretrieve(url0, 'summary.txt')\n",
    "    data_download=list()\n",
    "    substring = var+\"_day_BCSD\"\n",
    "    substring_2=\".nc\"\n",
    "    data=open('summary.txt', 'r').readlines()\n",
    "    for l, line in enumerate(data):\n",
    "        string=line\n",
    "        if substring in string:\n",
    "            data_download.append(line[line.find(substring):line.find(substring_2)+3])\n",
    "    for file in tqdm.tqdm(data_download):\n",
    "        if os.path.exists(path_output+file)==True:\n",
    "            continue\n",
    "        else:\n",
    "            print('Descargando: '+file)\n",
    "            not_downloaded=True\n",
    "            nnn=0\n",
    "            while not_downloaded:\n",
    "                try:\n",
    "                    urllib.request.urlretrieve(url0+file, path_download + file)\n",
    "                    cdo='cdo sellonlatbox,'+str(XX_lim[0])+','+str(XX_lim[1])+','+str(YY_lim[0])+','+str(YY_lim[1])+'  '+path_download + file +' '+path_output+file\n",
    "                    rm='rm '+path_download + file\n",
    "                    os.system(cdo)\n",
    "                    os.system(rm) \n",
    "                    not_downloaded=False\n",
    "                except:\n",
    "                    print('Try again...')\n",
    "                    nnn=nnn+1\n",
    "                    if nnn>15:\n",
    "                        print('No se ha descargado el fichero: '+file)\n",
    "                        break"
   ]
  },
  {
   "cell_type": "code",
   "execution_count": null,
   "metadata": {},
   "outputs": [],
   "source": []
  }
 ],
 "metadata": {
  "kernelspec": {
   "display_name": "Python 3",
   "language": "python",
   "name": "python3"
  },
  "language_info": {
   "codemirror_mode": {
    "name": "ipython",
    "version": 3
   },
   "file_extension": ".py",
   "mimetype": "text/x-python",
   "name": "python",
   "nbconvert_exporter": "python",
   "pygments_lexer": "ipython3",
   "version": "3.7.6"
  },
  "varInspector": {
   "cols": {
    "lenName": 16,
    "lenType": 16,
    "lenVar": 40
   },
   "kernels_config": {
    "python": {
     "delete_cmd_postfix": "",
     "delete_cmd_prefix": "del ",
     "library": "var_list.py",
     "varRefreshCmd": "print(var_dic_list())"
    },
    "r": {
     "delete_cmd_postfix": ") ",
     "delete_cmd_prefix": "rm(",
     "library": "var_list.r",
     "varRefreshCmd": "cat(var_dic_list()) "
    }
   },
   "types_to_exclude": [
    "module",
    "function",
    "builtin_function_or_method",
    "instance",
    "_Feature"
   ],
   "window_display": false
  }
 },
 "nbformat": 4,
 "nbformat_minor": 2
}
