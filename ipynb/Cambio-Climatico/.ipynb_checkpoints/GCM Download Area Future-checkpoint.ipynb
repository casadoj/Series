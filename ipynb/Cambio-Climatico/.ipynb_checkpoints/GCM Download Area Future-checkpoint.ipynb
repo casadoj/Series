{
 "cells": [
  {
   "cell_type": "markdown",
   "metadata": {},
   "source": [
    "_Autor:_    __Salvador Navas__ <br> _Revisión:_ __27/02/2020__ <br>\n",
    "\n",
    "\n",
    "__Descripción__:<br>\n",
    "https://portal.nccs.nasa.gov/datashare/\n",
    "\n",
    "__Cosas a corregir__ <br>\n",
    "\n",
    "\n",
    "\n",
    "## Ejecutar con python de Ubuntu Windows 10"
   ]
  },
  {
   "cell_type": "code",
   "execution_count": 3,
   "metadata": {},
   "outputs": [
    {
     "data": {
      "text/plain": [
       "'3.7.3 | packaged by conda-forge | (default, Jul  1 2019, 22:01:29) [MSC v.1900 64 bit (AMD64)]'"
      ]
     },
     "execution_count": 3,
     "metadata": {},
     "output_type": "execute_result"
    }
   ],
   "source": [
    "#import libraries\n",
    "from pylab import *\n",
    "import scipy.io\n",
    "import matplotlib.pyplot as plt\n",
    "#from mpl_toolkits.basemap import Basemap, cm\n",
    "from datetime import datetime, timedelta\n",
    "from scipy.io import netcdf\n",
    "#from netCDF4 import Dataset \n",
    "import sys\n",
    "#sys.path.append('/home/javi/source/libraries_py')\n",
    "import h5py\n",
    "import numpy as np\n",
    "import pandas as pd\n",
    "import glob\n",
    "import os\n",
    "import csv as csv\n",
    "import urllib\n",
    "import tqdm\n",
    "from multiprocessing import Process\n",
    "import time\n",
    "sys.version"
   ]
  },
  {
   "cell_type": "markdown",
   "metadata": {},
   "source": [
    "***\n",
    "## Función"
   ]
  },
  {
   "cell_type": "code",
   "execution_count": 66,
   "metadata": {},
   "outputs": [],
   "source": [
    "def download_GCM_Future(rcp, var, extent, downPath, outPath, model=None):\n",
    "    \"\"\"Descarga los datos de la zona de estudio del sevidor 'https://portal.nccs.nasa.gov/datashare/NEXGDDP/BCSD/' y genera los archivos NetCDF para el escenario, variable y modelo de interés\n",
    "    \n",
    "    Parámetros:\n",
    "    -----------\n",
    "    rcp:       string. Escenario de emisiones: 'historial', 'rcp45' o 'rcp85'\n",
    "    var:       string. Variable: 'pr', precipitación; 'tasmax', temperatura máxima del aire en superficie; 'tasmin', temperatura mínima del aire en superficie\n",
    "    extent:    list [W, E, S, N]. Extensión del área de estudio en grados\n",
    "    downPath:  string. Ruta donde descargar los datos descargados del servidor\n",
    "    outPath:   string. Ruta destino donde guardar los archivos generados\n",
    "    model:     string. Nombre del modelo climático. P.ej.: 'inmcm4', 'bcc-csm1-1', 'NorESM1-M'... Por defecto es 'None' y se descargan todos los modelos disponibles\n",
    "    \n",
    "    Salidas:\n",
    "    --------\n",
    "    Archivos NetCDF en el directorio 'outPath'\n",
    "    \"\"\"\n",
    "    \n",
    "    # carpeta de destino\n",
    "    outPath = outPath + rcp + '/' + var + '/'\n",
    "\n",
    "    # acceder a la url del RCP y variable\n",
    "    url0 = 'https://portal.nccs.nasa.gov/datashare/NEXGDDP/BCSD/{0}/day/atmos/{1}/r1i1p1/v1.0/'.format(rcp, var)\n",
    "    urllib.request.urlretrieve(url0, 'summary.txt')\n",
    "    data = open('summary.txt', 'r').readlines()\n",
    "\n",
    "    # lista con los archivos disponibles para la variable\n",
    "    files = list()\n",
    "    for l, line in enumerate(data):\n",
    "        if model is None:\n",
    "            if var in line:\n",
    "                files.append(line[line.find(var):line.find('.nc') + 3])\n",
    "        else:\n",
    "            if (var in line) & (model in line):\n",
    "                files.append(line[line.find(var):line.find('.nc') + 3])\n",
    "    print('nº de archivos disponibles: {0}'.format(len(files)))\n",
    "\n",
    "    # descarga del archivo, si no existe ya en la carpeta de destino\n",
    "    for file in tqdm.tqdm(files):\n",
    "        if os.path.exists(outPath + file):\n",
    "            continue\n",
    "        else:\n",
    "            print('Descargando: ' + file)\n",
    "            # 'flags' sobre la descarga\n",
    "            not_downloaded, nnn = True, 0\n",
    "            while not_downloaded:\n",
    "                try:\n",
    "                    urllib.request.urlretrieve(url0 + file, downPath + file)\n",
    "                    cdo = 'cdo sellonlatbox,{0},{1},{2},{3}  {4}{5} {6}{5}'.format(*extent, downPath, file, outPath)\n",
    "                    rm = 'rm {0}{1}'.format(downPath, file)\n",
    "                    os.system(cdo)\n",
    "                    os.system(rm)  \n",
    "                    not_downloaded = False\n",
    "                except:\n",
    "                    print('Try again...')\n",
    "                    nnn += 1\n",
    "                    if nnn > 15:\n",
    "                        print('No se ha descargado el fichero: ' + file)\n",
    "                        break"
   ]
  },
  {
   "cell_type": "markdown",
   "metadata": {},
   "source": [
    "***\n",
    "## Descarga de un caso"
   ]
  },
  {
   "cell_type": "code",
   "execution_count": 67,
   "metadata": {},
   "outputs": [],
   "source": [
    "extent = np.array([-65, -53, -29, -17])\n",
    "path_download = '/mnt/c/Users/navass/Downloads/'\n",
    "path = '/mnt/e/PARAGUAY/Forecast/'"
   ]
  },
  {
   "cell_type": "code",
   "execution_count": null,
   "metadata": {
    "scrolled": true
   },
   "outputs": [],
   "source": [
    "#Descarga\n",
    "for rcp in ['rcp45', 'rcp85']:\n",
    "    for var in ['pr','tasmax','tasmin']:\n",
    "        download_GCM_Future(rcp, var, extent, path_download, path)"
   ]
  },
  {
   "cell_type": "code",
   "execution_count": null,
   "metadata": {},
   "outputs": [],
   "source": []
  }
 ],
 "metadata": {
  "kernelspec": {
   "display_name": "Python 3",
   "language": "python",
   "name": "python3"
  },
  "language_info": {
   "codemirror_mode": {
    "name": "ipython",
    "version": 3
   },
   "file_extension": ".py",
   "mimetype": "text/x-python",
   "name": "python",
   "nbconvert_exporter": "python",
   "pygments_lexer": "ipython3",
   "version": "3.7.3"
  },
  "varInspector": {
   "cols": {
    "lenName": 16,
    "lenType": 16,
    "lenVar": 40
   },
   "kernels_config": {
    "python": {
     "delete_cmd_postfix": "",
     "delete_cmd_prefix": "del ",
     "library": "var_list.py",
     "varRefreshCmd": "print(var_dic_list())"
    },
    "r": {
     "delete_cmd_postfix": ") ",
     "delete_cmd_prefix": "rm(",
     "library": "var_list.r",
     "varRefreshCmd": "cat(var_dic_list()) "
    }
   },
   "types_to_exclude": [
    "module",
    "function",
    "builtin_function_or_method",
    "instance",
    "_Feature"
   ],
   "window_display": false
  }
 },
 "nbformat": 4,
 "nbformat_minor": 4
}
