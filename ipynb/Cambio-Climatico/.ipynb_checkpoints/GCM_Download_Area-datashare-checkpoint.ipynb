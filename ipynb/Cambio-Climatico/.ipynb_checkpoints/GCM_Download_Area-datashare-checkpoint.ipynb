{
 "cells": [
  {
   "cell_type": "markdown",
   "metadata": {},
   "source": [
    "# Descargar GCM desde _datashare_ - caso de ejemplo\n",
    "***\n",
    "\n",
    "_Autor:_    __Salvador Navas__ <br> _Revisión:_ __27/02/2020__ <br>\n",
    "\n",
    "\n",
    "__Descripción__:<br>\n",
    "Datashare:\n",
    "> https://portal.nccs.nasa.gov/datashare/\n",
    "\n",
    "__Cosas a corregir__ <br>\n"
   ]
  },
  {
   "cell_type": "code",
   "execution_count": 70,
   "metadata": {},
   "outputs": [],
   "source": [
    "%run funciones_descarga_GCM.ipynb"
   ]
  },
  {
   "cell_type": "markdown",
   "metadata": {},
   "source": [
    "***\n",
    "## Descarga de un caso"
   ]
  },
  {
   "cell_type": "code",
   "execution_count": 69,
   "metadata": {},
   "outputs": [],
   "source": [
    "extent = np.array([-65, -53, -29, -17])\n",
    "path_download = '/mnt/c/Users/navass/Downloads/'\n",
    "path = '/mnt/e/PARAGUAY/Forecast/'"
   ]
  },
  {
   "cell_type": "markdown",
   "metadata": {},
   "source": [
    "### Histórico"
   ]
  },
  {
   "cell_type": "code",
   "execution_count": null,
   "metadata": {},
   "outputs": [],
   "source": [
    "#Descarga\n",
    "for rcp in ['historical']:\n",
    "    for var in ['pr','tasmax','tasmin']:\n",
    "        download_GCM_Future(rcp, var, extent, path_download, path)"
   ]
  },
  {
   "cell_type": "markdown",
   "metadata": {},
   "source": [
    "### Escenarios futuros"
   ]
  },
  {
   "cell_type": "code",
   "execution_count": null,
   "metadata": {
    "scrolled": true
   },
   "outputs": [],
   "source": [
    "#Descarga\n",
    "for rcp in ['rcp45', 'rcp85']:\n",
    "    for var in ['pr','tasmax','tasmin']:\n",
    "        download_GCM_Future(rcp, var, extent, path_download, path)"
   ]
  },
  {
   "cell_type": "code",
   "execution_count": null,
   "metadata": {},
   "outputs": [],
   "source": []
  }
 ],
 "metadata": {
  "kernelspec": {
   "display_name": "Python 3",
   "language": "python",
   "name": "python3"
  },
  "language_info": {
   "codemirror_mode": {
    "name": "ipython",
    "version": 3
   },
   "file_extension": ".py",
   "mimetype": "text/x-python",
   "name": "python",
   "nbconvert_exporter": "python",
   "pygments_lexer": "ipython3",
   "version": "3.7.3"
  },
  "varInspector": {
   "cols": {
    "lenName": 16,
    "lenType": 16,
    "lenVar": 40
   },
   "kernels_config": {
    "python": {
     "delete_cmd_postfix": "",
     "delete_cmd_prefix": "del ",
     "library": "var_list.py",
     "varRefreshCmd": "print(var_dic_list())"
    },
    "r": {
     "delete_cmd_postfix": ") ",
     "delete_cmd_prefix": "rm(",
     "library": "var_list.r",
     "varRefreshCmd": "cat(var_dic_list()) "
    }
   },
   "types_to_exclude": [
    "module",
    "function",
    "builtin_function_or_method",
    "instance",
    "_Feature"
   ],
   "window_display": false
  }
 },
 "nbformat": 4,
 "nbformat_minor": 4
}
