{
 "cells": [
  {
   "cell_type": "markdown",
   "metadata": {},
   "source": [
    "__https://portal.nccs.nasa.gov/datashare/__\n",
    "\n",
    "## Ejecutar con python de Ubuntu Windows 10"
   ]
  },
  {
   "cell_type": "code",
   "execution_count": null,
   "metadata": {},
   "outputs": [],
   "source": [
    "#import libraries\n",
    "from pylab import *\n",
    "import scipy.io\n",
    "import matplotlib.pyplot as plt\n",
    "#from mpl_toolkits.basemap import Basemap, cm\n",
    "from datetime import datetime, timedelta\n",
    "from scipy.io import netcdf\n",
    "#from netCDF4 import Dataset \n",
    "import sys\n",
    "#sys.path.append('/home/javi/source/libraries_py')\n",
    "import h5py\n",
    "import numpy as np\n",
    "import pandas as pd\n",
    "import glob\n",
    "import os\n",
    "import csv as csv\n",
    "import urllib\n",
    "import tqdm\n",
    "from multiprocessing import Process\n",
    "import time\n",
    "sys.version"
   ]
  },
  {
   "cell_type": "code",
   "execution_count": null,
   "metadata": {},
   "outputs": [],
   "source": [
    "XX_lim=np.array((-65,-53))\n",
    "YY_lim=np.array((-29,-17))"
   ]
  },
  {
   "cell_type": "code",
   "execution_count": null,
   "metadata": {},
   "outputs": [],
   "source": [
    "path_download='/mnt/c/Users/navass/Downloads/'\n",
    "path='/mnt/e/PARAGUAY/Forecast/'"
   ]
  },
  {
   "cell_type": "code",
   "execution_count": null,
   "metadata": {},
   "outputs": [],
   "source": [
    "year_ini=2005\n",
    "year_fin=2100"
   ]
  },
  {
   "cell_type": "code",
   "execution_count": null,
   "metadata": {},
   "outputs": [],
   "source": [
    "year=np.arange(year_ini,year_fin+1)"
   ]
  },
  {
   "cell_type": "code",
   "execution_count": null,
   "metadata": {
    "scrolled": true
   },
   "outputs": [],
   "source": [
    "#Descargo el sumario\n",
    "for rcp in ['rcp45','rcp85']:\n",
    "    for var in ['pr','tasmax','tasmin']:\n",
    "        path_output=path+rcp+'/'+var+'/'\n",
    "        url0='https://portal.nccs.nasa.gov/datashare/NEXGDDP/BCSD/'+rcp+'/day/atmos/'+var+'/r1i1p1/v1.0/'\n",
    "        urllib.request.urlretrieve(url0, 'summary.txt')\n",
    "        data_download=list()\n",
    "        substring = var+\"_day_BCSD\"\n",
    "        substring_2=\".nc\"\n",
    "        data=open('summary.txt', 'r').readlines()\n",
    "        for l, line in enumerate(data):\n",
    "            string=line\n",
    "            if substring in string:\n",
    "                data_download.append(line[line.find(substring):line.find(substring_2)+3])\n",
    "        for file in tqdm.tqdm(data_download):\n",
    "            if os.path.exists(path_output+file)==True:\n",
    "                continue\n",
    "            else:\n",
    "                print('Descargando: '+file)\n",
    "                not_downloaded=True\n",
    "                nnn=0\n",
    "                while not_downloaded:\n",
    "  \n",
    "                    try:\n",
    "                        urllib.request.urlretrieve(url0+file, path_download + file)\n",
    "                        cdo='cdo sellonlatbox,'+str(XX_lim[0])+','+str(XX_lim[1])+','+str(YY_lim[0])+','+str(YY_lim[1])+'  '+path_download + file +' '+path_output+file\n",
    "                        rm='rm '+path_download + file\n",
    "                        os.system(cdo)\n",
    "                        os.system(rm) \n",
    "                        not_downloaded=False\n",
    "                    except:\n",
    "                        print('Try again...')\n",
    "                        nnn=nnn+1\n",
    "                        if nnn>15:\n",
    "                            print('No se ha descargado el fichero: '+file)\n",
    "                            break"
   ]
  },
  {
   "cell_type": "code",
   "execution_count": null,
   "metadata": {},
   "outputs": [],
   "source": [
    "def download_GCM_Future(rcp,var,extent,model,years):\n",
    "    url0='https://portal.nccs.nasa.gov/datashare/NEXGDDP/BCSD/'+rcp+'/day/atmos/'+var+'/r1i1p1/v1.0/'\n",
    "    urllib.request.urlretrieve(url0, 'summary.txt')\n",
    "    data_download=list()\n",
    "    data_download_2=list()\n",
    "    substring = var+\"_day_BCSD\"\n",
    "    substring_2=\".nc\"\n",
    "    data=open('summary.txt', 'r').readlines()\n",
    "    for l, line in enumerate(data):\n",
    "            string=line\n",
    "            if substring in string:\n",
    "                data_download.append(line[line.find(substring):line.find(substring_2)+3])\n",
    "    models=['inmcm4','bcc-csm1-1','NorESM1-M']\n",
    "    m='inmcm4'\n",
    "    for k in data_download:\n",
    "        if m in k:\n",
    "            data_download_2.append(k)\n",
    "    for file in tqdm.tqdm(data_download_2):\n",
    "            if os.path.exists(path_output+file)==True:\n",
    "                continue\n",
    "            else:\n",
    "                print('Descargando: '+file)\n",
    "                not_downloaded=True\n",
    "                nnn=0\n",
    "                while not_downloaded:\n",
    "                    try:\n",
    "                        urllib.request.urlretrieve(url0+file, path_download + file)\n",
    "                        cdo='cdo sellonlatbox,'+str(XX_lim[0])+','+str(XX_lim[1])+','+str(YY_lim[0])+','+str(YY_lim[1])+'  '+path_download_cdo + file +' '+path_output_cdo+file\n",
    "                        rm='rm '+path_download_cdo + file\n",
    "                        os.system('C:\\\\cygwin64\\\\bin\\\\bash'+' --login -c '+'\"'+cdo+'\"')\n",
    "                        os.system('C:\\\\cygwin64\\\\bin\\\\bash'+' --login -c '+'\"'+rm+'\"') \n",
    "                        not_downloaded=False\n",
    "                    except:\n",
    "                        print('Try again...')\n",
    "                        nnn=nnn+1\n",
    "                        if nnn>15:\n",
    "                            print('No se ha descargado el fichero: '+file)\n",
    "                            break"
   ]
  },
  {
   "cell_type": "code",
   "execution_count": null,
   "metadata": {},
   "outputs": [],
   "source": []
  }
 ],
 "metadata": {
  "kernelspec": {
   "display_name": "Python 3",
   "language": "python",
   "name": "python3"
  },
  "language_info": {
   "codemirror_mode": {
    "name": "ipython",
    "version": 3
   },
   "file_extension": ".py",
   "mimetype": "text/x-python",
   "name": "python",
   "nbconvert_exporter": "python",
   "pygments_lexer": "ipython3",
   "version": "3.7.6"
  },
  "varInspector": {
   "cols": {
    "lenName": 16,
    "lenType": 16,
    "lenVar": 40
   },
   "kernels_config": {
    "python": {
     "delete_cmd_postfix": "",
     "delete_cmd_prefix": "del ",
     "library": "var_list.py",
     "varRefreshCmd": "print(var_dic_list())"
    },
    "r": {
     "delete_cmd_postfix": ") ",
     "delete_cmd_prefix": "rm(",
     "library": "var_list.r",
     "varRefreshCmd": "cat(var_dic_list()) "
    }
   },
   "types_to_exclude": [
    "module",
    "function",
    "builtin_function_or_method",
    "instance",
    "_Feature"
   ],
   "window_display": false
  }
 },
 "nbformat": 4,
 "nbformat_minor": 2
}
