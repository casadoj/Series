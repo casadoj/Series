{
 "cells": [
  {
   "cell_type": "markdown",
   "metadata": {},
   "source": [
    "# Descargar GCM desde _thredds_ - caso de ejemplo\n",
    "***\n",
    "\n",
    "_Autor:_    __Salvador Navas__ <br> _Revisión:_ __28/02/2020__ <br>\n",
    "\n",
    "\n",
    "__Descripción__:<br>\n",
    "THREDDS:\n",
    "> https://dataserver.nccs.nasa.gov/thredds/ncss/bypass/NEX-GDDP/bcsd/\n",
    "\n",
    "__Cosas a corregir__ <br>"
   ]
  },
  {
   "cell_type": "code",
   "execution_count": null,
   "metadata": {},
   "outputs": [],
   "source": [
    "%run funciones_descarga_GCM.ipynb"
   ]
  },
  {
   "cell_type": "markdown",
   "metadata": {},
   "source": [
    "***\n",
    "## Descarga de un caso"
   ]
  },
  {
   "cell_type": "code",
   "execution_count": null,
   "metadata": {},
   "outputs": [],
   "source": [
    "# modelos climáticos globales\n",
    "models = ['inmcm4.ncml', 'bcc-csm1-1.ncml', 'NorESM1-M.ncml', 'MRI-CGCM3.ncml', 'MPI-ESM-MR.ncml', \n",
    "         'MPI-ESM-LR.ncml', 'MIROC5.ncml', 'MIROC-ESM.ncml', 'MIROC-ESM-CHEM.ncml', 'IPSL-CM5A-MR.ncml', 'IPSL-CM5A-LR.ncml',\n",
    "         'GFDL-ESM2M.ncml', 'GFDL-ESM2G.ncml', 'GFDL-CM3.ncml', 'CanESM2.ncml', 'CSIRO-Mk3-6-0.ncml', 'CNRM-CM5.ncml', \n",
    "         'CESM1-BGC.ncml', 'CCSM4.ncml', 'BNU-ESM.ncml', 'ACCESS1-0.ncml'];\n",
    "\n",
    "# extensión de la zona de estudio: N, W, E, S\n",
    "extent = [-17.3,-67.3,-52.30,-29]\n",
    "\n",
    "# ruta donde guardar las descargas\n",
    "path = 'E:/Prueba/'"
   ]
  },
  {
   "cell_type": "markdown",
   "metadata": {},
   "source": [
    "### Periodo histórico"
   ]
  },
  {
   "cell_type": "code",
   "execution_count": null,
   "metadata": {},
   "outputs": [],
   "source": [
    "for var in ['pr','tasmax','tasmin']:\n",
    "    for model in models:\n",
    "        download_GCM_thredds('historical', var, model, extent, period=[1950, 2005],\n",
    "                             path=path)\n",
    "        print()"
   ]
  },
  {
   "cell_type": "code",
   "execution_count": null,
   "metadata": {},
   "outputs": [],
   "source": [
    "'https://dataserver.nccs.nasa.gov/thredds/ncss/bypass/NEX-GDDP/bcsd/historical/r1i1p1/pr/inmcm4.ncml?var=pr&north=-17.3&west=-67.3&east=-52.3&south=-29&disableLLSubset=on&disableProjSubset=on&horizStride=1&time_start=1950-01-01T12%3A00%3A00Z&time_end=1951-12-31T12%3A00%3A00Z&timeStride=1'"
   ]
  },
  {
   "cell_type": "markdown",
   "metadata": {},
   "source": [
    "### Escenarios futuros"
   ]
  },
  {
   "cell_type": "code",
   "execution_count": null,
   "metadata": {
    "scrolled": true
   },
   "outputs": [],
   "source": [
    "for rcp in ['rcp45','rcp85']:\n",
    "    for var in ['pr','tasmax','tasmin']:\n",
    "        download_GCM_thredds(rcp, var, model, extent, period=[2006, 2100],\n",
    "                             path=path)\n",
    "        print()"
   ]
  }
 ],
 "metadata": {
  "kernelspec": {
   "display_name": "Python 3",
   "language": "python",
   "name": "python3"
  },
  "language_info": {
   "codemirror_mode": {
    "name": "ipython",
    "version": 3
   },
   "file_extension": ".py",
   "mimetype": "text/x-python",
   "name": "python",
   "nbconvert_exporter": "python",
   "pygments_lexer": "ipython3",
   "version": "3.7.6"
  },
  "varInspector": {
   "cols": {
    "lenName": 16,
    "lenType": 16,
    "lenVar": 40
   },
   "kernels_config": {
    "python": {
     "delete_cmd_postfix": "",
     "delete_cmd_prefix": "del ",
     "library": "var_list.py",
     "varRefreshCmd": "print(var_dic_list())"
    },
    "r": {
     "delete_cmd_postfix": ") ",
     "delete_cmd_prefix": "rm(",
     "library": "var_list.r",
     "varRefreshCmd": "cat(var_dic_list()) "
    }
   },
   "types_to_exclude": [
    "module",
    "function",
    "builtin_function_or_method",
    "instance",
    "_Feature"
   ],
   "window_display": false
  }
 },
 "nbformat": 4,
 "nbformat_minor": 4
}
