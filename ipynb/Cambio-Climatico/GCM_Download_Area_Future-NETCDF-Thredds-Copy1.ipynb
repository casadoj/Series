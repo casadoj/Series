{
 "cells": [
  {
   "cell_type": "markdown",
   "metadata": {},
   "source": [
    "# Funciones descarga GCM\n",
    "***\n",
    "\n",
    "_Autor:_    __Salvador Navas__ <br> _Revisión:_ __28/02/2020__ <br>\n",
    "\n",
    "\n",
    "__Descripción__:<br>\n",
    "https://dataserver.nccs.nasa.gov/thredds/ncss/bypass/NEX-GDDP/bcsd/\n",
    "\n",
    "__Cosas a corregir__ <br>"
   ]
  },
  {
   "cell_type": "markdown",
   "metadata": {},
   "source": [
    "```Python\n",
    "#import libraries\n",
    "from pylab import *\n",
    "import scipy.io\n",
    "import matplotlib.pyplot as plt\n",
    "#from mpl_toolkits.basemap import Basemap, cm\n",
    "from datetime import datetime, timedelta\n",
    "from scipy.io import netcdf\n",
    "#from netCDF4 import Dataset \n",
    "import sys\n",
    "#sys.path.append('/home/javi/source/libraries_py')\n",
    "import h5py\n",
    "import numpy as np\n",
    "import pandas as pd\n",
    "import glob\n",
    "import os\n",
    "import csv as csv\n",
    "import tqdm\n",
    "sys.version\n",
    "```"
   ]
  },
  {
   "cell_type": "markdown",
   "metadata": {},
   "source": [
    "```Python\n",
    "import urllib.request\n",
    "```"
   ]
  },
  {
   "cell_type": "code",
   "execution_count": 1,
   "metadata": {},
   "outputs": [],
   "source": [
    "%run funciones_descarga_GCM.ipynb"
   ]
  },
  {
   "cell_type": "code",
   "execution_count": null,
   "metadata": {},
   "outputs": [],
   "source": [
    "# path_results='F:/PARAGUAY/Forecast/'\n",
    "# path_output='E:/PARAGUAY/Forecast/'"
   ]
  },
  {
   "cell_type": "code",
   "execution_count": 2,
   "metadata": {},
   "outputs": [],
   "source": [
    "models = ['inmcm4.ncml', 'bcc-csm1-1.ncml', 'NorESM1-M.ncml', 'MRI-CGCM3.ncml', 'MPI-ESM-MR.ncml', \n",
    "         'MPI-ESM-LR.ncml', 'MIROC5.ncml', 'MIROC-ESM.ncml', 'MIROC-ESM-CHEM.ncml', 'IPSL-CM5A-MR.ncml', 'IPSL-CM5A-LR.ncml',\n",
    "         'GFDL-ESM2M.ncml', 'GFDL-ESM2G.ncml', 'GFDL-CM3.ncml', 'CanESM2.ncml', 'CSIRO-Mk3-6-0.ncml', 'CNRM-CM5.ncml', \n",
    "         'CESM1-BGC.ncml', 'CCSM4.ncml', 'BNU-ESM.ncml', 'ACCESS1-0.ncml'];"
   ]
  },
  {
   "cell_type": "code",
   "execution_count": 3,
   "metadata": {},
   "outputs": [],
   "source": [
    "extent = [360 - 52.30, -29, -17.3, 360 - 67.3]\n",
    "path = 'F:/Proyectos/Test/'"
   ]
  },
  {
   "cell_type": "code",
   "execution_count": null,
   "metadata": {},
   "outputs": [
    {
     "name": "stderr",
     "output_type": "stream",
     "text": [
      "  0%|                                                                                           | 0/95 [00:00<?, ?it/s]"
     ]
    },
    {
     "name": "stdout",
     "output_type": "stream",
     "text": [
      "Descargando pr_day_BCSD_rcp45_r1i1p1_inmcm4_2006.nc\n",
      "Intentando de nuevo... Iteración 14\r"
     ]
    },
    {
     "name": "stderr",
     "output_type": "stream",
     "text": [
      "  1%|▊                                                                                  | 1/95 [00:04<07:46,  4.96s/it]"
     ]
    },
    {
     "name": "stdout",
     "output_type": "stream",
     "text": [
      "No se descarga el modelo: inmcm4.ncml\n",
      "Descargando pr_day_BCSD_rcp45_r1i1p1_inmcm4_2007.nc\n",
      "Intentando de nuevo... Iteración 14\r"
     ]
    },
    {
     "name": "stderr",
     "output_type": "stream",
     "text": [
      "  2%|█▋                                                                                 | 2/95 [00:09<07:27,  4.81s/it]"
     ]
    },
    {
     "name": "stdout",
     "output_type": "stream",
     "text": [
      "No se descarga el modelo: inmcm4.ncml\n",
      "Descargando pr_day_BCSD_rcp45_r1i1p1_inmcm4_2008.nc\n",
      "Intentando de nuevo... Iteración 14\r"
     ]
    },
    {
     "name": "stderr",
     "output_type": "stream",
     "text": [
      "  3%|██▌                                                                                | 3/95 [00:13<07:13,  4.71s/it]"
     ]
    },
    {
     "name": "stdout",
     "output_type": "stream",
     "text": [
      "No se descarga el modelo: inmcm4.ncml\n",
      "Descargando pr_day_BCSD_rcp45_r1i1p1_inmcm4_2009.nc\n",
      "Intentando de nuevo... Iteración 14\r"
     ]
    },
    {
     "name": "stderr",
     "output_type": "stream",
     "text": [
      "  4%|███▍                                                                               | 4/95 [00:18<06:57,  4.59s/it]"
     ]
    },
    {
     "name": "stdout",
     "output_type": "stream",
     "text": [
      "No se descarga el modelo: inmcm4.ncml\n",
      "Descargando pr_day_BCSD_rcp45_r1i1p1_inmcm4_2010.nc\n",
      "Intentando de nuevo... Iteración 14\r"
     ]
    },
    {
     "name": "stderr",
     "output_type": "stream",
     "text": [
      "  5%|████▎                                                                              | 5/95 [00:22<06:49,  4.55s/it]"
     ]
    },
    {
     "name": "stdout",
     "output_type": "stream",
     "text": [
      "No se descarga el modelo: inmcm4.ncml\n",
      "Descargando pr_day_BCSD_rcp45_r1i1p1_inmcm4_2011.nc\n",
      "Intentando de nuevo... Iteración 14\r"
     ]
    },
    {
     "name": "stderr",
     "output_type": "stream",
     "text": [
      "  6%|█████▏                                                                             | 6/95 [00:27<06:43,  4.54s/it]"
     ]
    },
    {
     "name": "stdout",
     "output_type": "stream",
     "text": [
      "No se descarga el modelo: inmcm4.ncml\n",
      "Descargando pr_day_BCSD_rcp45_r1i1p1_inmcm4_2012.nc\n",
      "Intentando de nuevo... Iteración 14\r"
     ]
    },
    {
     "name": "stderr",
     "output_type": "stream",
     "text": [
      "  7%|██████                                                                             | 7/95 [00:31<06:35,  4.50s/it]"
     ]
    },
    {
     "name": "stdout",
     "output_type": "stream",
     "text": [
      "No se descarga el modelo: inmcm4.ncml\n",
      "Descargando pr_day_BCSD_rcp45_r1i1p1_inmcm4_2013.nc\n",
      "Intentando de nuevo... Iteración 14\r"
     ]
    },
    {
     "name": "stderr",
     "output_type": "stream",
     "text": [
      "  8%|██████▉                                                                            | 8/95 [00:35<06:26,  4.44s/it]"
     ]
    },
    {
     "name": "stdout",
     "output_type": "stream",
     "text": [
      "No se descarga el modelo: inmcm4.ncml\n",
      "Descargando pr_day_BCSD_rcp45_r1i1p1_inmcm4_2014.nc\n",
      "Intentando de nuevo... Iteración 14\r"
     ]
    },
    {
     "name": "stderr",
     "output_type": "stream",
     "text": [
      "  9%|███████▊                                                                           | 9/95 [00:40<06:16,  4.38s/it]"
     ]
    },
    {
     "name": "stdout",
     "output_type": "stream",
     "text": [
      "No se descarga el modelo: inmcm4.ncml\n",
      "Descargando pr_day_BCSD_rcp45_r1i1p1_inmcm4_2015.nc\n",
      "Intentando de nuevo... Iteración 14\r"
     ]
    },
    {
     "name": "stderr",
     "output_type": "stream",
     "text": [
      " 11%|████████▋                                                                         | 10/95 [00:44<06:10,  4.36s/it]"
     ]
    },
    {
     "name": "stdout",
     "output_type": "stream",
     "text": [
      "No se descarga el modelo: inmcm4.ncml\n",
      "Descargando pr_day_BCSD_rcp45_r1i1p1_inmcm4_2016.nc\n",
      "Intentando de nuevo... Iteración 14\r"
     ]
    },
    {
     "name": "stderr",
     "output_type": "stream",
     "text": [
      " 12%|█████████▍                                                                        | 11/95 [00:48<06:05,  4.35s/it]"
     ]
    },
    {
     "name": "stdout",
     "output_type": "stream",
     "text": [
      "No se descarga el modelo: inmcm4.ncml\n",
      "Descargando pr_day_BCSD_rcp45_r1i1p1_inmcm4_2017.nc\n",
      "Intentando de nuevo... Iteración 14\r"
     ]
    },
    {
     "name": "stderr",
     "output_type": "stream",
     "text": [
      " 13%|██████████▎                                                                       | 12/95 [00:53<06:05,  4.40s/it]"
     ]
    },
    {
     "name": "stdout",
     "output_type": "stream",
     "text": [
      "No se descarga el modelo: inmcm4.ncml\n",
      "Descargando pr_day_BCSD_rcp45_r1i1p1_inmcm4_2018.nc\n",
      "Intentando de nuevo... Iteración 14\r"
     ]
    },
    {
     "name": "stderr",
     "output_type": "stream",
     "text": [
      " 14%|███████████▏                                                                      | 13/95 [00:57<05:57,  4.36s/it]"
     ]
    },
    {
     "name": "stdout",
     "output_type": "stream",
     "text": [
      "No se descarga el modelo: inmcm4.ncml\n",
      "Descargando pr_day_BCSD_rcp45_r1i1p1_inmcm4_2019.nc\n",
      "Intentando de nuevo... Iteración 14\r"
     ]
    },
    {
     "name": "stderr",
     "output_type": "stream",
     "text": [
      " 15%|████████████                                                                      | 14/95 [01:01<05:54,  4.38s/it]"
     ]
    },
    {
     "name": "stdout",
     "output_type": "stream",
     "text": [
      "No se descarga el modelo: inmcm4.ncml\n",
      "Descargando pr_day_BCSD_rcp45_r1i1p1_inmcm4_2020.nc\n",
      "Intentando de nuevo... Iteración 14\r"
     ]
    },
    {
     "name": "stderr",
     "output_type": "stream",
     "text": [
      " 16%|████████████▉                                                                     | 15/95 [01:06<05:54,  4.43s/it]"
     ]
    },
    {
     "name": "stdout",
     "output_type": "stream",
     "text": [
      "No se descarga el modelo: inmcm4.ncml\n",
      "Descargando pr_day_BCSD_rcp45_r1i1p1_inmcm4_2021.nc\n",
      "Intentando de nuevo... Iteración 14\r"
     ]
    },
    {
     "name": "stderr",
     "output_type": "stream",
     "text": [
      " 17%|█████████████▊                                                                    | 16/95 [01:11<05:53,  4.47s/it]"
     ]
    },
    {
     "name": "stdout",
     "output_type": "stream",
     "text": [
      "No se descarga el modelo: inmcm4.ncml\n",
      "Descargando pr_day_BCSD_rcp45_r1i1p1_inmcm4_2022.nc\n",
      "Intentando de nuevo... Iteración 14\r"
     ]
    },
    {
     "name": "stderr",
     "output_type": "stream",
     "text": [
      " 18%|██████████████▋                                                                   | 17/95 [01:15<05:46,  4.45s/it]"
     ]
    },
    {
     "name": "stdout",
     "output_type": "stream",
     "text": [
      "No se descarga el modelo: inmcm4.ncml\n",
      "Descargando pr_day_BCSD_rcp45_r1i1p1_inmcm4_2023.nc\n",
      "Intentando de nuevo... Iteración 14\r"
     ]
    },
    {
     "name": "stderr",
     "output_type": "stream",
     "text": [
      " 19%|███████████████▌                                                                  | 18/95 [01:19<05:43,  4.46s/it]"
     ]
    },
    {
     "name": "stdout",
     "output_type": "stream",
     "text": [
      "No se descarga el modelo: inmcm4.ncml\n",
      "Descargando pr_day_BCSD_rcp45_r1i1p1_inmcm4_2024.nc\n",
      "Intentando de nuevo... Iteración 14\r"
     ]
    },
    {
     "name": "stderr",
     "output_type": "stream",
     "text": [
      " 20%|████████████████▍                                                                 | 19/95 [01:24<05:38,  4.46s/it]"
     ]
    },
    {
     "name": "stdout",
     "output_type": "stream",
     "text": [
      "No se descarga el modelo: inmcm4.ncml\n",
      "Descargando pr_day_BCSD_rcp45_r1i1p1_inmcm4_2025.nc\n",
      "Intentando de nuevo... Iteración 14\r"
     ]
    },
    {
     "name": "stderr",
     "output_type": "stream",
     "text": [
      " 21%|█████████████████▎                                                                | 20/95 [01:28<05:35,  4.47s/it]"
     ]
    },
    {
     "name": "stdout",
     "output_type": "stream",
     "text": [
      "No se descarga el modelo: inmcm4.ncml\n",
      "Descargando pr_day_BCSD_rcp45_r1i1p1_inmcm4_2026.nc\n",
      "Intentando de nuevo... Iteración 14\r"
     ]
    },
    {
     "name": "stderr",
     "output_type": "stream",
     "text": [
      " 22%|██████████████████▏                                                               | 21/95 [01:33<05:30,  4.46s/it]"
     ]
    },
    {
     "name": "stdout",
     "output_type": "stream",
     "text": [
      "No se descarga el modelo: inmcm4.ncml\n",
      "Descargando pr_day_BCSD_rcp45_r1i1p1_inmcm4_2027.nc\n",
      "Intentando de nuevo... Iteración 14\r"
     ]
    },
    {
     "name": "stderr",
     "output_type": "stream",
     "text": [
      " 23%|██████████████████▉                                                               | 22/95 [01:37<05:24,  4.45s/it]"
     ]
    },
    {
     "name": "stdout",
     "output_type": "stream",
     "text": [
      "No se descarga el modelo: inmcm4.ncml\n",
      "Descargando pr_day_BCSD_rcp45_r1i1p1_inmcm4_2028.nc\n",
      "Intentando de nuevo... Iteración 14\r"
     ]
    },
    {
     "name": "stderr",
     "output_type": "stream",
     "text": [
      " 24%|███████████████████▊                                                              | 23/95 [01:42<05:17,  4.41s/it]"
     ]
    },
    {
     "name": "stdout",
     "output_type": "stream",
     "text": [
      "No se descarga el modelo: inmcm4.ncml\n",
      "Descargando pr_day_BCSD_rcp45_r1i1p1_inmcm4_2029.nc\n",
      "Intentando de nuevo... Iteración 14\r"
     ]
    },
    {
     "name": "stderr",
     "output_type": "stream",
     "text": [
      " 25%|████████████████████▋                                                             | 24/95 [01:46<05:11,  4.38s/it]"
     ]
    },
    {
     "name": "stdout",
     "output_type": "stream",
     "text": [
      "No se descarga el modelo: inmcm4.ncml\n",
      "Descargando pr_day_BCSD_rcp45_r1i1p1_inmcm4_2030.nc\n",
      "Intentando de nuevo... Iteración 14\r"
     ]
    },
    {
     "name": "stderr",
     "output_type": "stream",
     "text": [
      " 26%|█████████████████████▌                                                            | 25/95 [01:50<05:06,  4.38s/it]"
     ]
    },
    {
     "name": "stdout",
     "output_type": "stream",
     "text": [
      "No se descarga el modelo: inmcm4.ncml\n",
      "Descargando pr_day_BCSD_rcp45_r1i1p1_inmcm4_2031.nc\n",
      "Intentando de nuevo... Iteración 14\r"
     ]
    },
    {
     "name": "stderr",
     "output_type": "stream",
     "text": [
      " 27%|██████████████████████▍                                                           | 26/95 [01:59<06:37,  5.76s/it]"
     ]
    },
    {
     "name": "stdout",
     "output_type": "stream",
     "text": [
      "No se descarga el modelo: inmcm4.ncml\n",
      "Descargando pr_day_BCSD_rcp45_r1i1p1_inmcm4_2032.nc\n",
      "Intentando de nuevo... Iteración 14\r"
     ]
    },
    {
     "name": "stderr",
     "output_type": "stream",
     "text": [
      " 28%|███████████████████████▎                                                          | 27/95 [02:12<09:01,  7.96s/it]"
     ]
    },
    {
     "name": "stdout",
     "output_type": "stream",
     "text": [
      "No se descarga el modelo: inmcm4.ncml\n",
      "Descargando pr_day_BCSD_rcp45_r1i1p1_inmcm4_2033.nc\n",
      "Intentando de nuevo... Iteración 14\r"
     ]
    },
    {
     "name": "stderr",
     "output_type": "stream",
     "text": [
      " 29%|████████████████████████▏                                                         | 28/95 [02:25<10:37,  9.52s/it]"
     ]
    },
    {
     "name": "stdout",
     "output_type": "stream",
     "text": [
      "No se descarga el modelo: inmcm4.ncml\n",
      "Descargando pr_day_BCSD_rcp45_r1i1p1_inmcm4_2034.nc\n",
      "Intentando de nuevo... Iteración 14\r"
     ]
    },
    {
     "name": "stderr",
     "output_type": "stream",
     "text": [
      " 31%|█████████████████████████                                                         | 29/95 [02:39<11:38, 10.58s/it]"
     ]
    },
    {
     "name": "stdout",
     "output_type": "stream",
     "text": [
      "No se descarga el modelo: inmcm4.ncml\n",
      "Descargando pr_day_BCSD_rcp45_r1i1p1_inmcm4_2035.nc\n",
      "Intentando de nuevo... Iteración 14\r"
     ]
    },
    {
     "name": "stderr",
     "output_type": "stream",
     "text": [
      " 32%|█████████████████████████▉                                                        | 30/95 [02:45<10:10,  9.40s/it]"
     ]
    },
    {
     "name": "stdout",
     "output_type": "stream",
     "text": [
      "No se descarga el modelo: inmcm4.ncml\n",
      "Descargando pr_day_BCSD_rcp45_r1i1p1_inmcm4_2036.nc\n",
      "Intentando de nuevo... Iteración 14\r"
     ]
    },
    {
     "name": "stderr",
     "output_type": "stream",
     "text": [
      " 33%|██████████████████████████▊                                                       | 31/95 [02:50<08:25,  7.90s/it]"
     ]
    },
    {
     "name": "stdout",
     "output_type": "stream",
     "text": [
      "No se descarga el modelo: inmcm4.ncml\n",
      "Descargando pr_day_BCSD_rcp45_r1i1p1_inmcm4_2037.nc\n",
      "Intentando de nuevo... Iteración 14\r"
     ]
    },
    {
     "name": "stderr",
     "output_type": "stream",
     "text": [
      " 34%|███████████████████████████▌                                                      | 32/95 [02:54<07:10,  6.83s/it]"
     ]
    },
    {
     "name": "stdout",
     "output_type": "stream",
     "text": [
      "No se descarga el modelo: inmcm4.ncml\n",
      "Descargando pr_day_BCSD_rcp45_r1i1p1_inmcm4_2038.nc\n",
      "Intentando de nuevo... Iteración 14\r"
     ]
    },
    {
     "name": "stderr",
     "output_type": "stream",
     "text": [
      " 35%|████████████████████████████▍                                                     | 33/95 [02:58<06:18,  6.11s/it]"
     ]
    },
    {
     "name": "stdout",
     "output_type": "stream",
     "text": [
      "No se descarga el modelo: inmcm4.ncml\n",
      "Descargando pr_day_BCSD_rcp45_r1i1p1_inmcm4_2039.nc\n",
      "Intentando de nuevo... Iteración 14\r"
     ]
    },
    {
     "name": "stderr",
     "output_type": "stream",
     "text": [
      " 36%|█████████████████████████████▎                                                    | 34/95 [03:03<05:42,  5.61s/it]"
     ]
    },
    {
     "name": "stdout",
     "output_type": "stream",
     "text": [
      "No se descarga el modelo: inmcm4.ncml\n",
      "Descargando pr_day_BCSD_rcp45_r1i1p1_inmcm4_2040.nc\n",
      "Intentando de nuevo... Iteración 14\r"
     ]
    },
    {
     "name": "stderr",
     "output_type": "stream",
     "text": [
      " 37%|██████████████████████████████▏                                                   | 35/95 [03:07<05:14,  5.23s/it]"
     ]
    },
    {
     "name": "stdout",
     "output_type": "stream",
     "text": [
      "No se descarga el modelo: inmcm4.ncml\n",
      "Descargando pr_day_BCSD_rcp45_r1i1p1_inmcm4_2041.nc\n",
      "Intentando de nuevo... Iteración 14\r"
     ]
    },
    {
     "name": "stderr",
     "output_type": "stream",
     "text": [
      " 38%|███████████████████████████████                                                   | 36/95 [03:12<04:53,  4.97s/it]"
     ]
    },
    {
     "name": "stdout",
     "output_type": "stream",
     "text": [
      "No se descarga el modelo: inmcm4.ncml\n",
      "Descargando pr_day_BCSD_rcp45_r1i1p1_inmcm4_2042.nc\n",
      "Intentando de nuevo... Iteración 14\r"
     ]
    },
    {
     "name": "stderr",
     "output_type": "stream",
     "text": [
      " 39%|███████████████████████████████▉                                                  | 37/95 [03:16<04:38,  4.80s/it]"
     ]
    },
    {
     "name": "stdout",
     "output_type": "stream",
     "text": [
      "No se descarga el modelo: inmcm4.ncml\n",
      "Descargando pr_day_BCSD_rcp45_r1i1p1_inmcm4_2043.nc\n",
      "Intentando de nuevo... Iteración 14\r"
     ]
    },
    {
     "name": "stderr",
     "output_type": "stream",
     "text": [
      " 40%|████████████████████████████████▊                                                 | 38/95 [03:20<04:25,  4.66s/it]"
     ]
    },
    {
     "name": "stdout",
     "output_type": "stream",
     "text": [
      "No se descarga el modelo: inmcm4.ncml\n",
      "Descargando pr_day_BCSD_rcp45_r1i1p1_inmcm4_2044.nc\n",
      "Intentando de nuevo... Iteración 14\r"
     ]
    },
    {
     "name": "stderr",
     "output_type": "stream",
     "text": [
      " 41%|█████████████████████████████████▋                                                | 39/95 [03:25<04:17,  4.61s/it]"
     ]
    },
    {
     "name": "stdout",
     "output_type": "stream",
     "text": [
      "No se descarga el modelo: inmcm4.ncml\n",
      "Descargando pr_day_BCSD_rcp45_r1i1p1_inmcm4_2045.nc\n",
      "Intentando de nuevo... Iteración 14\r"
     ]
    },
    {
     "name": "stderr",
     "output_type": "stream",
     "text": [
      " 42%|██████████████████████████████████▌                                               | 40/95 [03:29<04:09,  4.53s/it]"
     ]
    },
    {
     "name": "stdout",
     "output_type": "stream",
     "text": [
      "No se descarga el modelo: inmcm4.ncml\n",
      "Descargando pr_day_BCSD_rcp45_r1i1p1_inmcm4_2046.nc\n",
      "Intentando de nuevo... Iteración 14\r"
     ]
    },
    {
     "name": "stderr",
     "output_type": "stream",
     "text": [
      " 43%|███████████████████████████████████▍                                              | 41/95 [03:34<04:03,  4.50s/it]"
     ]
    },
    {
     "name": "stdout",
     "output_type": "stream",
     "text": [
      "No se descarga el modelo: inmcm4.ncml\n",
      "Descargando pr_day_BCSD_rcp45_r1i1p1_inmcm4_2047.nc\n",
      "Intentando de nuevo... Iteración 14\r"
     ]
    },
    {
     "name": "stderr",
     "output_type": "stream",
     "text": [
      " 44%|████████████████████████████████████▎                                             | 42/95 [03:38<03:58,  4.49s/it]"
     ]
    },
    {
     "name": "stdout",
     "output_type": "stream",
     "text": [
      "No se descarga el modelo: inmcm4.ncml\n",
      "Descargando pr_day_BCSD_rcp45_r1i1p1_inmcm4_2048.nc\n",
      "Intentando de nuevo... Iteración 14\r"
     ]
    },
    {
     "name": "stderr",
     "output_type": "stream",
     "text": [
      " 45%|█████████████████████████████████████                                             | 43/95 [03:42<03:53,  4.49s/it]"
     ]
    },
    {
     "name": "stdout",
     "output_type": "stream",
     "text": [
      "No se descarga el modelo: inmcm4.ncml\n",
      "Descargando pr_day_BCSD_rcp45_r1i1p1_inmcm4_2049.nc\n",
      "Intentando de nuevo... Iteración 14\r"
     ]
    },
    {
     "name": "stderr",
     "output_type": "stream",
     "text": [
      " 46%|█████████████████████████████████████▉                                            | 44/95 [03:47<03:49,  4.51s/it]"
     ]
    },
    {
     "name": "stdout",
     "output_type": "stream",
     "text": [
      "No se descarga el modelo: inmcm4.ncml\n",
      "Descargando pr_day_BCSD_rcp45_r1i1p1_inmcm4_2050.nc\n",
      "Intentando de nuevo... Iteración 14\r"
     ]
    },
    {
     "name": "stderr",
     "output_type": "stream",
     "text": [
      " 47%|██████████████████████████████████████▊                                           | 45/95 [03:51<03:44,  4.49s/it]"
     ]
    },
    {
     "name": "stdout",
     "output_type": "stream",
     "text": [
      "No se descarga el modelo: inmcm4.ncml\n",
      "Descargando pr_day_BCSD_rcp45_r1i1p1_inmcm4_2051.nc\n",
      "Intentando de nuevo... Iteración 14\r"
     ]
    },
    {
     "name": "stderr",
     "output_type": "stream",
     "text": [
      " 48%|███████████████████████████████████████▋                                          | 46/95 [03:56<03:43,  4.56s/it]"
     ]
    },
    {
     "name": "stdout",
     "output_type": "stream",
     "text": [
      "No se descarga el modelo: inmcm4.ncml\n",
      "Descargando pr_day_BCSD_rcp45_r1i1p1_inmcm4_2052.nc\n",
      "Intentando de nuevo... Iteración 14\r"
     ]
    },
    {
     "name": "stderr",
     "output_type": "stream",
     "text": [
      " 49%|████████████████████████████████████████▌                                         | 47/95 [04:01<03:36,  4.52s/it]"
     ]
    },
    {
     "name": "stdout",
     "output_type": "stream",
     "text": [
      "No se descarga el modelo: inmcm4.ncml\n",
      "Descargando pr_day_BCSD_rcp45_r1i1p1_inmcm4_2053.nc\n",
      "Intentando de nuevo... Iteración 14\r"
     ]
    },
    {
     "name": "stderr",
     "output_type": "stream",
     "text": [
      " 51%|█████████████████████████████████████████▍                                        | 48/95 [04:05<03:29,  4.46s/it]"
     ]
    },
    {
     "name": "stdout",
     "output_type": "stream",
     "text": [
      "No se descarga el modelo: inmcm4.ncml\n",
      "Descargando pr_day_BCSD_rcp45_r1i1p1_inmcm4_2054.nc\n",
      "Intentando de nuevo... Iteración 14\r"
     ]
    },
    {
     "name": "stderr",
     "output_type": "stream",
     "text": [
      " 52%|██████████████████████████████████████████▎                                       | 49/95 [04:09<03:26,  4.48s/it]"
     ]
    },
    {
     "name": "stdout",
     "output_type": "stream",
     "text": [
      "No se descarga el modelo: inmcm4.ncml\n",
      "Descargando pr_day_BCSD_rcp45_r1i1p1_inmcm4_2055.nc\n",
      "Intentando de nuevo... Iteración 14\r"
     ]
    },
    {
     "name": "stderr",
     "output_type": "stream",
     "text": [
      " 53%|███████████████████████████████████████████▏                                      | 50/95 [04:14<03:26,  4.58s/it]"
     ]
    },
    {
     "name": "stdout",
     "output_type": "stream",
     "text": [
      "No se descarga el modelo: inmcm4.ncml\n",
      "Descargando pr_day_BCSD_rcp45_r1i1p1_inmcm4_2056.nc\n",
      "Intentando de nuevo... Iteración 14\r"
     ]
    },
    {
     "name": "stderr",
     "output_type": "stream",
     "text": [
      " 54%|████████████████████████████████████████████                                      | 51/95 [04:19<03:19,  4.55s/it]"
     ]
    },
    {
     "name": "stdout",
     "output_type": "stream",
     "text": [
      "No se descarga el modelo: inmcm4.ncml\n",
      "Descargando pr_day_BCSD_rcp45_r1i1p1_inmcm4_2057.nc\n",
      "Intentando de nuevo... Iteración 14\r"
     ]
    },
    {
     "name": "stderr",
     "output_type": "stream",
     "text": [
      " 55%|████████████████████████████████████████████▉                                     | 52/95 [04:23<03:13,  4.51s/it]"
     ]
    },
    {
     "name": "stdout",
     "output_type": "stream",
     "text": [
      "No se descarga el modelo: inmcm4.ncml\n",
      "Descargando pr_day_BCSD_rcp45_r1i1p1_inmcm4_2058.nc\n",
      "Intentando de nuevo... Iteración 14\r"
     ]
    },
    {
     "name": "stderr",
     "output_type": "stream",
     "text": [
      " 56%|█████████████████████████████████████████████▋                                    | 53/95 [04:28<03:07,  4.47s/it]"
     ]
    },
    {
     "name": "stdout",
     "output_type": "stream",
     "text": [
      "No se descarga el modelo: inmcm4.ncml\n",
      "Descargando pr_day_BCSD_rcp45_r1i1p1_inmcm4_2059.nc\n",
      "Intentando de nuevo... Iteración 14\r"
     ]
    },
    {
     "name": "stderr",
     "output_type": "stream",
     "text": [
      " 57%|██████████████████████████████████████████████▌                                   | 54/95 [04:32<03:02,  4.46s/it]"
     ]
    },
    {
     "name": "stdout",
     "output_type": "stream",
     "text": [
      "No se descarga el modelo: inmcm4.ncml\n",
      "Descargando pr_day_BCSD_rcp45_r1i1p1_inmcm4_2060.nc\n",
      "Intentando de nuevo... Iteración 14\r"
     ]
    },
    {
     "name": "stderr",
     "output_type": "stream",
     "text": [
      " 58%|███████████████████████████████████████████████▍                                  | 55/95 [04:37<03:07,  4.68s/it]"
     ]
    },
    {
     "name": "stdout",
     "output_type": "stream",
     "text": [
      "No se descarga el modelo: inmcm4.ncml\n",
      "Descargando pr_day_BCSD_rcp45_r1i1p1_inmcm4_2061.nc\n",
      "Intentando de nuevo... Iteración 14\r"
     ]
    },
    {
     "name": "stderr",
     "output_type": "stream",
     "text": [
      " 59%|████████████████████████████████████████████████▎                                 | 56/95 [04:42<03:03,  4.71s/it]"
     ]
    },
    {
     "name": "stdout",
     "output_type": "stream",
     "text": [
      "No se descarga el modelo: inmcm4.ncml\n",
      "Descargando pr_day_BCSD_rcp45_r1i1p1_inmcm4_2062.nc\n",
      "Intentando de nuevo... Iteración 14\r"
     ]
    },
    {
     "name": "stderr",
     "output_type": "stream",
     "text": [
      " 60%|█████████████████████████████████████████████████▏                                | 57/95 [04:46<02:55,  4.61s/it]"
     ]
    },
    {
     "name": "stdout",
     "output_type": "stream",
     "text": [
      "No se descarga el modelo: inmcm4.ncml\n",
      "Descargando pr_day_BCSD_rcp45_r1i1p1_inmcm4_2063.nc\n",
      "Intentando de nuevo... Iteración 14\r"
     ]
    },
    {
     "name": "stderr",
     "output_type": "stream",
     "text": [
      " 61%|██████████████████████████████████████████████████                                | 58/95 [04:51<02:50,  4.61s/it]"
     ]
    },
    {
     "name": "stdout",
     "output_type": "stream",
     "text": [
      "No se descarga el modelo: inmcm4.ncml\n",
      "Descargando pr_day_BCSD_rcp45_r1i1p1_inmcm4_2064.nc\n",
      "Intentando de nuevo... Iteración 14\r"
     ]
    },
    {
     "name": "stderr",
     "output_type": "stream",
     "text": [
      " 62%|██████████████████████████████████████████████████▉                               | 59/95 [05:01<03:49,  6.37s/it]"
     ]
    },
    {
     "name": "stdout",
     "output_type": "stream",
     "text": [
      "No se descarga el modelo: inmcm4.ncml\n",
      "Descargando pr_day_BCSD_rcp45_r1i1p1_inmcm4_2065.nc\n",
      "Intentando de nuevo... Iteración 14\r"
     ]
    },
    {
     "name": "stderr",
     "output_type": "stream",
     "text": [
      " 63%|███████████████████████████████████████████████████▊                              | 60/95 [05:14<04:50,  8.30s/it]"
     ]
    },
    {
     "name": "stdout",
     "output_type": "stream",
     "text": [
      "No se descarga el modelo: inmcm4.ncml\n",
      "Descargando pr_day_BCSD_rcp45_r1i1p1_inmcm4_2066.nc\n",
      "Intentando de nuevo... Iteración 14\r"
     ]
    },
    {
     "name": "stderr",
     "output_type": "stream",
     "text": [
      " 64%|████████████████████████████████████████████████████▋                             | 61/95 [05:28<05:36,  9.91s/it]"
     ]
    },
    {
     "name": "stdout",
     "output_type": "stream",
     "text": [
      "No se descarga el modelo: inmcm4.ncml\n",
      "Descargando pr_day_BCSD_rcp45_r1i1p1_inmcm4_2067.nc\n",
      "Intentando de nuevo... Iteración 14\r"
     ]
    },
    {
     "name": "stderr",
     "output_type": "stream",
     "text": [
      " 65%|█████████████████████████████████████████████████████▌                            | 62/95 [05:41<06:00, 10.92s/it]"
     ]
    },
    {
     "name": "stdout",
     "output_type": "stream",
     "text": [
      "No se descarga el modelo: inmcm4.ncml\n",
      "Descargando pr_day_BCSD_rcp45_r1i1p1_inmcm4_2068.nc\n",
      "Intentando de nuevo... Iteración 14\r"
     ]
    },
    {
     "name": "stderr",
     "output_type": "stream",
     "text": [
      " 66%|██████████████████████████████████████████████████████▍                           | 63/95 [05:46<04:51,  9.11s/it]"
     ]
    },
    {
     "name": "stdout",
     "output_type": "stream",
     "text": [
      "No se descarga el modelo: inmcm4.ncml\n",
      "Descargando pr_day_BCSD_rcp45_r1i1p1_inmcm4_2069.nc\n",
      "Intentando de nuevo... Iteración 14\r"
     ]
    },
    {
     "name": "stderr",
     "output_type": "stream",
     "text": [
      " 67%|███████████████████████████████████████████████████████▏                          | 64/95 [05:50<03:58,  7.70s/it]"
     ]
    },
    {
     "name": "stdout",
     "output_type": "stream",
     "text": [
      "No se descarga el modelo: inmcm4.ncml\n",
      "Descargando pr_day_BCSD_rcp45_r1i1p1_inmcm4_2070.nc\n",
      "Intentando de nuevo... Iteración 14\r"
     ]
    },
    {
     "name": "stderr",
     "output_type": "stream",
     "text": [
      " 68%|████████████████████████████████████████████████████████                          | 65/95 [05:55<03:21,  6.73s/it]"
     ]
    },
    {
     "name": "stdout",
     "output_type": "stream",
     "text": [
      "No se descarga el modelo: inmcm4.ncml\n",
      "Descargando pr_day_BCSD_rcp45_r1i1p1_inmcm4_2071.nc\n",
      "Intentando de nuevo... Iteración 14\r"
     ]
    },
    {
     "name": "stderr",
     "output_type": "stream",
     "text": [
      " 69%|████████████████████████████████████████████████████████▉                         | 66/95 [05:59<02:55,  6.04s/it]"
     ]
    },
    {
     "name": "stdout",
     "output_type": "stream",
     "text": [
      "No se descarga el modelo: inmcm4.ncml\n",
      "Descargando pr_day_BCSD_rcp45_r1i1p1_inmcm4_2072.nc\n",
      "Intentando de nuevo... Iteración 14\r"
     ]
    },
    {
     "name": "stderr",
     "output_type": "stream",
     "text": [
      " 71%|█████████████████████████████████████████████████████████▊                        | 67/95 [06:04<02:35,  5.54s/it]"
     ]
    },
    {
     "name": "stdout",
     "output_type": "stream",
     "text": [
      "No se descarga el modelo: inmcm4.ncml\n",
      "Descargando pr_day_BCSD_rcp45_r1i1p1_inmcm4_2073.nc\n",
      "Intentando de nuevo... Iteración 14\r"
     ]
    },
    {
     "name": "stderr",
     "output_type": "stream",
     "text": [
      " 72%|██████████████████████████████████████████████████████████▋                       | 68/95 [06:08<02:20,  5.22s/it]"
     ]
    },
    {
     "name": "stdout",
     "output_type": "stream",
     "text": [
      "No se descarga el modelo: inmcm4.ncml\n",
      "Descargando pr_day_BCSD_rcp45_r1i1p1_inmcm4_2074.nc\n",
      "Intentando de nuevo... Iteración 14\r"
     ]
    },
    {
     "name": "stderr",
     "output_type": "stream",
     "text": [
      " 73%|███████████████████████████████████████████████████████████▌                      | 69/95 [06:13<02:10,  5.04s/it]"
     ]
    },
    {
     "name": "stdout",
     "output_type": "stream",
     "text": [
      "No se descarga el modelo: inmcm4.ncml\n",
      "Descargando pr_day_BCSD_rcp45_r1i1p1_inmcm4_2075.nc\n",
      "Intentando de nuevo... Iteración 14\r"
     ]
    },
    {
     "name": "stderr",
     "output_type": "stream",
     "text": [
      " 74%|████████████████████████████████████████████████████████████▍                     | 70/95 [06:17<02:01,  4.84s/it]"
     ]
    },
    {
     "name": "stdout",
     "output_type": "stream",
     "text": [
      "No se descarga el modelo: inmcm4.ncml\n",
      "Descargando pr_day_BCSD_rcp45_r1i1p1_inmcm4_2076.nc\n",
      "Intentando de nuevo... Iteración 14\r"
     ]
    },
    {
     "name": "stderr",
     "output_type": "stream",
     "text": [
      " 75%|█████████████████████████████████████████████████████████████▎                    | 71/95 [06:22<01:55,  4.80s/it]"
     ]
    },
    {
     "name": "stdout",
     "output_type": "stream",
     "text": [
      "No se descarga el modelo: inmcm4.ncml\n",
      "Descargando pr_day_BCSD_rcp45_r1i1p1_inmcm4_2077.nc\n",
      "Intentando de nuevo... Iteración 14\r"
     ]
    },
    {
     "name": "stderr",
     "output_type": "stream",
     "text": [
      " 76%|██████████████████████████████████████████████████████████████▏                   | 72/95 [06:27<01:50,  4.79s/it]"
     ]
    },
    {
     "name": "stdout",
     "output_type": "stream",
     "text": [
      "No se descarga el modelo: inmcm4.ncml\n",
      "Descargando pr_day_BCSD_rcp45_r1i1p1_inmcm4_2078.nc\n",
      "Intentando de nuevo... Iteración 14\r"
     ]
    },
    {
     "name": "stderr",
     "output_type": "stream",
     "text": [
      " 77%|███████████████████████████████████████████████████████████████                   | 73/95 [06:31<01:45,  4.78s/it]"
     ]
    },
    {
     "name": "stdout",
     "output_type": "stream",
     "text": [
      "No se descarga el modelo: inmcm4.ncml\n",
      "Descargando pr_day_BCSD_rcp45_r1i1p1_inmcm4_2079.nc\n",
      "Intentando de nuevo... Iteración 14\r"
     ]
    },
    {
     "name": "stderr",
     "output_type": "stream",
     "text": [
      " 78%|███████████████████████████████████████████████████████████████▊                  | 74/95 [06:36<01:39,  4.75s/it]"
     ]
    },
    {
     "name": "stdout",
     "output_type": "stream",
     "text": [
      "No se descarga el modelo: inmcm4.ncml\n",
      "Descargando pr_day_BCSD_rcp45_r1i1p1_inmcm4_2080.nc\n",
      "Intentando de nuevo... Iteración 14\r"
     ]
    },
    {
     "name": "stderr",
     "output_type": "stream",
     "text": [
      " 79%|████████████████████████████████████████████████████████████████▋                 | 75/95 [06:41<01:34,  4.72s/it]"
     ]
    },
    {
     "name": "stdout",
     "output_type": "stream",
     "text": [
      "No se descarga el modelo: inmcm4.ncml\n",
      "Descargando pr_day_BCSD_rcp45_r1i1p1_inmcm4_2081.nc\n",
      "Intentando de nuevo... Iteración 14\r"
     ]
    },
    {
     "name": "stderr",
     "output_type": "stream",
     "text": [
      " 80%|█████████████████████████████████████████████████████████████████▌                | 76/95 [06:45<01:29,  4.70s/it]"
     ]
    },
    {
     "name": "stdout",
     "output_type": "stream",
     "text": [
      "No se descarga el modelo: inmcm4.ncml\n",
      "Descargando pr_day_BCSD_rcp45_r1i1p1_inmcm4_2082.nc\n",
      "Intentando de nuevo... Iteración 14\r"
     ]
    },
    {
     "name": "stderr",
     "output_type": "stream",
     "text": [
      " 81%|██████████████████████████████████████████████████████████████████▍               | 77/95 [06:50<01:23,  4.63s/it]"
     ]
    },
    {
     "name": "stdout",
     "output_type": "stream",
     "text": [
      "No se descarga el modelo: inmcm4.ncml\n",
      "Descargando pr_day_BCSD_rcp45_r1i1p1_inmcm4_2083.nc\n",
      "Intentando de nuevo... Iteración 14\r"
     ]
    },
    {
     "name": "stderr",
     "output_type": "stream",
     "text": [
      " 82%|███████████████████████████████████████████████████████████████████▎              | 78/95 [06:55<01:19,  4.65s/it]"
     ]
    },
    {
     "name": "stdout",
     "output_type": "stream",
     "text": [
      "No se descarga el modelo: inmcm4.ncml\n",
      "Descargando pr_day_BCSD_rcp45_r1i1p1_inmcm4_2084.nc\n",
      "Intentando de nuevo... Iteración 14\r"
     ]
    },
    {
     "name": "stderr",
     "output_type": "stream",
     "text": [
      " 83%|████████████████████████████████████████████████████████████████████▏             | 79/95 [06:59<01:13,  4.62s/it]"
     ]
    },
    {
     "name": "stdout",
     "output_type": "stream",
     "text": [
      "No se descarga el modelo: inmcm4.ncml\n",
      "Descargando pr_day_BCSD_rcp45_r1i1p1_inmcm4_2085.nc\n",
      "Intentando de nuevo... Iteración 14\r"
     ]
    },
    {
     "name": "stderr",
     "output_type": "stream",
     "text": [
      " 84%|█████████████████████████████████████████████████████████████████████             | 80/95 [07:04<01:10,  4.73s/it]"
     ]
    },
    {
     "name": "stdout",
     "output_type": "stream",
     "text": [
      "No se descarga el modelo: inmcm4.ncml\n",
      "Descargando pr_day_BCSD_rcp45_r1i1p1_inmcm4_2086.nc\n",
      "Intentando de nuevo... Iteración 14\r"
     ]
    },
    {
     "name": "stderr",
     "output_type": "stream",
     "text": [
      " 85%|█████████████████████████████████████████████████████████████████████▉            | 81/95 [07:09<01:07,  4.80s/it]"
     ]
    },
    {
     "name": "stdout",
     "output_type": "stream",
     "text": [
      "No se descarga el modelo: inmcm4.ncml\n",
      "Descargando pr_day_BCSD_rcp45_r1i1p1_inmcm4_2087.nc\n",
      "Intentando de nuevo... Iteración 14\r"
     ]
    },
    {
     "name": "stderr",
     "output_type": "stream",
     "text": [
      " 86%|██████████████████████████████████████████████████████████████████████▊           | 82/95 [07:14<01:00,  4.69s/it]"
     ]
    },
    {
     "name": "stdout",
     "output_type": "stream",
     "text": [
      "No se descarga el modelo: inmcm4.ncml\n",
      "Descargando pr_day_BCSD_rcp45_r1i1p1_inmcm4_2088.nc\n",
      "Intentando de nuevo... Iteración 14\r"
     ]
    },
    {
     "name": "stderr",
     "output_type": "stream",
     "text": [
      " 87%|███████████████████████████████████████████████████████████████████████▋          | 83/95 [07:18<00:55,  4.66s/it]"
     ]
    },
    {
     "name": "stdout",
     "output_type": "stream",
     "text": [
      "No se descarga el modelo: inmcm4.ncml\n",
      "Descargando pr_day_BCSD_rcp45_r1i1p1_inmcm4_2089.nc\n",
      "Intentando de nuevo... Iteración 14\r"
     ]
    },
    {
     "name": "stderr",
     "output_type": "stream",
     "text": [
      " 88%|████████████████████████████████████████████████████████████████████████▌         | 84/95 [07:23<00:50,  4.59s/it]"
     ]
    },
    {
     "name": "stdout",
     "output_type": "stream",
     "text": [
      "No se descarga el modelo: inmcm4.ncml\n",
      "Descargando pr_day_BCSD_rcp45_r1i1p1_inmcm4_2090.nc\n",
      "Intentando de nuevo... Iteración 14\r"
     ]
    },
    {
     "name": "stderr",
     "output_type": "stream",
     "text": [
      " 89%|█████████████████████████████████████████████████████████████████████████▎        | 85/95 [07:27<00:45,  4.56s/it]"
     ]
    },
    {
     "name": "stdout",
     "output_type": "stream",
     "text": [
      "No se descarga el modelo: inmcm4.ncml\n",
      "Descargando pr_day_BCSD_rcp45_r1i1p1_inmcm4_2091.nc\n",
      "Intentando de nuevo... Iteración 14\r"
     ]
    },
    {
     "name": "stderr",
     "output_type": "stream",
     "text": [
      " 91%|██████████████████████████████████████████████████████████████████████████▏       | 86/95 [07:32<00:40,  4.55s/it]"
     ]
    },
    {
     "name": "stdout",
     "output_type": "stream",
     "text": [
      "No se descarga el modelo: inmcm4.ncml\n",
      "Descargando pr_day_BCSD_rcp45_r1i1p1_inmcm4_2092.nc\n",
      "Intentando de nuevo... Iteración 14\r"
     ]
    },
    {
     "name": "stderr",
     "output_type": "stream",
     "text": [
      " 92%|███████████████████████████████████████████████████████████████████████████       | 87/95 [07:36<00:36,  4.50s/it]"
     ]
    },
    {
     "name": "stdout",
     "output_type": "stream",
     "text": [
      "No se descarga el modelo: inmcm4.ncml\n",
      "Descargando pr_day_BCSD_rcp45_r1i1p1_inmcm4_2093.nc\n",
      "Intentando de nuevo... Iteración 14\r"
     ]
    },
    {
     "name": "stderr",
     "output_type": "stream",
     "text": [
      " 93%|███████████████████████████████████████████████████████████████████████████▉      | 88/95 [07:40<00:31,  4.47s/it]"
     ]
    },
    {
     "name": "stdout",
     "output_type": "stream",
     "text": [
      "No se descarga el modelo: inmcm4.ncml\n",
      "Descargando pr_day_BCSD_rcp45_r1i1p1_inmcm4_2094.nc\n",
      "Intentando de nuevo... Iteración 14\r"
     ]
    },
    {
     "name": "stderr",
     "output_type": "stream",
     "text": [
      " 94%|████████████████████████████████████████████████████████████████████████████▊     | 89/95 [07:45<00:26,  4.48s/it]"
     ]
    },
    {
     "name": "stdout",
     "output_type": "stream",
     "text": [
      "No se descarga el modelo: inmcm4.ncml\n",
      "Descargando pr_day_BCSD_rcp45_r1i1p1_inmcm4_2095.nc\n",
      "Intentando de nuevo... Iteración 14\r"
     ]
    },
    {
     "name": "stderr",
     "output_type": "stream",
     "text": [
      " 95%|█████████████████████████████████████████████████████████████████████████████▋    | 90/95 [07:49<00:22,  4.51s/it]"
     ]
    },
    {
     "name": "stdout",
     "output_type": "stream",
     "text": [
      "No se descarga el modelo: inmcm4.ncml\n",
      "Descargando pr_day_BCSD_rcp45_r1i1p1_inmcm4_2096.nc\n",
      "Intentando de nuevo... Iteración 14\r"
     ]
    },
    {
     "name": "stderr",
     "output_type": "stream",
     "text": [
      " 96%|██████████████████████████████████████████████████████████████████████████████▌   | 91/95 [07:57<00:21,  5.30s/it]"
     ]
    },
    {
     "name": "stdout",
     "output_type": "stream",
     "text": [
      "No se descarga el modelo: inmcm4.ncml\n",
      "Descargando pr_day_BCSD_rcp45_r1i1p1_inmcm4_2097.nc\n",
      "Intentando de nuevo... Iteración 14\r"
     ]
    },
    {
     "name": "stderr",
     "output_type": "stream",
     "text": [
      " 97%|███████████████████████████████████████████████████████████████████████████████▍  | 92/95 [08:10<00:22,  7.62s/it]"
     ]
    },
    {
     "name": "stdout",
     "output_type": "stream",
     "text": [
      "No se descarga el modelo: inmcm4.ncml\n",
      "Descargando pr_day_BCSD_rcp45_r1i1p1_inmcm4_2098.nc\n",
      "Intentando de nuevo... Iteración 14\r"
     ]
    },
    {
     "name": "stderr",
     "output_type": "stream",
     "text": [
      " 98%|████████████████████████████████████████████████████████████████████████████████▎ | 93/95 [08:23<00:18,  9.33s/it]"
     ]
    },
    {
     "name": "stdout",
     "output_type": "stream",
     "text": [
      "No se descarga el modelo: inmcm4.ncml\n",
      "Descargando pr_day_BCSD_rcp45_r1i1p1_inmcm4_2099.nc\n",
      "Intentando de nuevo... Iteración 14\r"
     ]
    },
    {
     "name": "stderr",
     "output_type": "stream",
     "text": [
      " 99%|█████████████████████████████████████████████████████████████████████████████████▏| 94/95 [08:36<00:10, 10.56s/it]"
     ]
    },
    {
     "name": "stdout",
     "output_type": "stream",
     "text": [
      "No se descarga el modelo: inmcm4.ncml\n",
      "Descargando pr_day_BCSD_rcp45_r1i1p1_inmcm4_2100.nc\n",
      "Intentando de nuevo... Iteración 14\r"
     ]
    },
    {
     "name": "stderr",
     "output_type": "stream",
     "text": [
      "100%|██████████████████████████████████████████████████████████████████████████████████| 95/95 [08:44<00:00,  5.53s/it]\n",
      "  0%|                                                                                           | 0/95 [00:00<?, ?it/s]"
     ]
    },
    {
     "name": "stdout",
     "output_type": "stream",
     "text": [
      "No se descarga el modelo: inmcm4.ncml\n",
      "\n",
      "Descargando pr_day_BCSD_rcp45_r1i1p1_bcc-csm1-1_2006.nc\n",
      "Intentando de nuevo... Iteración 14\r"
     ]
    },
    {
     "name": "stderr",
     "output_type": "stream",
     "text": [
      "  1%|▊                                                                                  | 1/95 [00:04<06:52,  4.39s/it]"
     ]
    },
    {
     "name": "stdout",
     "output_type": "stream",
     "text": [
      "No se descarga el modelo: bcc-csm1-1.ncml\n",
      "Descargando pr_day_BCSD_rcp45_r1i1p1_bcc-csm1-1_2007.nc\n",
      "Intentando de nuevo... Iteración 14\r"
     ]
    },
    {
     "name": "stderr",
     "output_type": "stream",
     "text": [
      "  2%|█▋                                                                                 | 2/95 [00:09<06:59,  4.51s/it]"
     ]
    },
    {
     "name": "stdout",
     "output_type": "stream",
     "text": [
      "No se descarga el modelo: bcc-csm1-1.ncml\n",
      "Descargando pr_day_BCSD_rcp45_r1i1p1_bcc-csm1-1_2008.nc\n",
      "Intentando de nuevo... Iteración 14\r"
     ]
    },
    {
     "name": "stderr",
     "output_type": "stream",
     "text": [
      "  3%|██▌                                                                                | 3/95 [00:13<06:57,  4.54s/it]"
     ]
    },
    {
     "name": "stdout",
     "output_type": "stream",
     "text": [
      "No se descarga el modelo: bcc-csm1-1.ncml\n",
      "Descargando pr_day_BCSD_rcp45_r1i1p1_bcc-csm1-1_2009.nc\n",
      "Intentando de nuevo... Iteración 14\r"
     ]
    },
    {
     "name": "stderr",
     "output_type": "stream",
     "text": [
      "  4%|███▍                                                                               | 4/95 [00:18<07:00,  4.62s/it]"
     ]
    },
    {
     "name": "stdout",
     "output_type": "stream",
     "text": [
      "No se descarga el modelo: bcc-csm1-1.ncml\n",
      "Descargando pr_day_BCSD_rcp45_r1i1p1_bcc-csm1-1_2010.nc\n",
      "Intentando de nuevo... Iteración 14\r"
     ]
    },
    {
     "name": "stderr",
     "output_type": "stream",
     "text": [
      "  5%|████▎                                                                              | 5/95 [00:23<06:54,  4.60s/it]"
     ]
    },
    {
     "name": "stdout",
     "output_type": "stream",
     "text": [
      "No se descarga el modelo: bcc-csm1-1.ncml\n",
      "Descargando pr_day_BCSD_rcp45_r1i1p1_bcc-csm1-1_2011.nc\n",
      "Intentando de nuevo... Iteración 14\r"
     ]
    },
    {
     "name": "stderr",
     "output_type": "stream",
     "text": [
      "  6%|█████▏                                                                             | 6/95 [00:28<06:58,  4.70s/it]"
     ]
    },
    {
     "name": "stdout",
     "output_type": "stream",
     "text": [
      "No se descarga el modelo: bcc-csm1-1.ncml\n",
      "Descargando pr_day_BCSD_rcp45_r1i1p1_bcc-csm1-1_2012.nc\n",
      "Intentando de nuevo... Iteración 14\r"
     ]
    },
    {
     "name": "stderr",
     "output_type": "stream",
     "text": [
      "  7%|██████                                                                             | 7/95 [00:32<06:54,  4.72s/it]"
     ]
    },
    {
     "name": "stdout",
     "output_type": "stream",
     "text": [
      "No se descarga el modelo: bcc-csm1-1.ncml\n",
      "Descargando pr_day_BCSD_rcp45_r1i1p1_bcc-csm1-1_2013.nc\n",
      "Intentando de nuevo... Iteración 14\r"
     ]
    },
    {
     "name": "stderr",
     "output_type": "stream",
     "text": [
      "  8%|██████▉                                                                            | 8/95 [00:37<06:44,  4.65s/it]"
     ]
    },
    {
     "name": "stdout",
     "output_type": "stream",
     "text": [
      "No se descarga el modelo: bcc-csm1-1.ncml\n",
      "Descargando pr_day_BCSD_rcp45_r1i1p1_bcc-csm1-1_2014.nc\n",
      "Intentando de nuevo... Iteración 14\r"
     ]
    },
    {
     "name": "stderr",
     "output_type": "stream",
     "text": [
      "  9%|███████▊                                                                           | 9/95 [00:41<06:38,  4.63s/it]"
     ]
    },
    {
     "name": "stdout",
     "output_type": "stream",
     "text": [
      "No se descarga el modelo: bcc-csm1-1.ncml\n",
      "Descargando pr_day_BCSD_rcp45_r1i1p1_bcc-csm1-1_2015.nc\n",
      "Intentando de nuevo... Iteración 14\r"
     ]
    },
    {
     "name": "stderr",
     "output_type": "stream",
     "text": [
      " 11%|████████▋                                                                         | 10/95 [00:46<06:39,  4.70s/it]"
     ]
    },
    {
     "name": "stdout",
     "output_type": "stream",
     "text": [
      "No se descarga el modelo: bcc-csm1-1.ncml\n",
      "Descargando pr_day_BCSD_rcp45_r1i1p1_bcc-csm1-1_2016.nc\n",
      "Intentando de nuevo... Iteración 14\r"
     ]
    },
    {
     "name": "stderr",
     "output_type": "stream",
     "text": [
      " 12%|█████████▍                                                                        | 11/95 [00:51<06:40,  4.76s/it]"
     ]
    },
    {
     "name": "stdout",
     "output_type": "stream",
     "text": [
      "No se descarga el modelo: bcc-csm1-1.ncml\n",
      "Descargando pr_day_BCSD_rcp45_r1i1p1_bcc-csm1-1_2017.nc\n",
      "Intentando de nuevo... Iteración 14\r"
     ]
    },
    {
     "name": "stderr",
     "output_type": "stream",
     "text": [
      " 13%|██████████▎                                                                       | 12/95 [00:56<06:28,  4.69s/it]"
     ]
    },
    {
     "name": "stdout",
     "output_type": "stream",
     "text": [
      "No se descarga el modelo: bcc-csm1-1.ncml\n",
      "Descargando pr_day_BCSD_rcp45_r1i1p1_bcc-csm1-1_2018.nc\n",
      "Intentando de nuevo... Iteración 14\r"
     ]
    },
    {
     "name": "stderr",
     "output_type": "stream",
     "text": [
      " 14%|███████████▏                                                                      | 13/95 [01:00<06:19,  4.62s/it]"
     ]
    },
    {
     "name": "stdout",
     "output_type": "stream",
     "text": [
      "No se descarga el modelo: bcc-csm1-1.ncml\n",
      "Descargando pr_day_BCSD_rcp45_r1i1p1_bcc-csm1-1_2019.nc\n",
      "Intentando de nuevo... Iteración 14\r"
     ]
    },
    {
     "name": "stderr",
     "output_type": "stream",
     "text": [
      " 15%|████████████                                                                      | 14/95 [01:05<06:09,  4.56s/it]"
     ]
    },
    {
     "name": "stdout",
     "output_type": "stream",
     "text": [
      "No se descarga el modelo: bcc-csm1-1.ncml\n",
      "Descargando pr_day_BCSD_rcp45_r1i1p1_bcc-csm1-1_2020.nc\n",
      "Intentando de nuevo... Iteración 14\r"
     ]
    },
    {
     "name": "stderr",
     "output_type": "stream",
     "text": [
      " 16%|████████████▉                                                                     | 15/95 [01:09<06:01,  4.52s/it]"
     ]
    },
    {
     "name": "stdout",
     "output_type": "stream",
     "text": [
      "No se descarga el modelo: bcc-csm1-1.ncml\n",
      "Descargando pr_day_BCSD_rcp45_r1i1p1_bcc-csm1-1_2021.nc\n",
      "Intentando de nuevo... Iteración 14\r"
     ]
    },
    {
     "name": "stderr",
     "output_type": "stream",
     "text": [
      " 17%|█████████████▊                                                                    | 16/95 [01:13<05:53,  4.48s/it]"
     ]
    },
    {
     "name": "stdout",
     "output_type": "stream",
     "text": [
      "No se descarga el modelo: bcc-csm1-1.ncml\n",
      "Descargando pr_day_BCSD_rcp45_r1i1p1_bcc-csm1-1_2022.nc\n",
      "Intentando de nuevo... Iteración 14\r"
     ]
    },
    {
     "name": "stderr",
     "output_type": "stream",
     "text": [
      " 18%|██████████████▋                                                                   | 17/95 [01:18<05:47,  4.46s/it]"
     ]
    },
    {
     "name": "stdout",
     "output_type": "stream",
     "text": [
      "No se descarga el modelo: bcc-csm1-1.ncml\n",
      "Descargando pr_day_BCSD_rcp45_r1i1p1_bcc-csm1-1_2023.nc\n",
      "Intentando de nuevo... Iteración 14\r"
     ]
    },
    {
     "name": "stderr",
     "output_type": "stream",
     "text": [
      " 19%|███████████████▌                                                                  | 18/95 [01:22<05:40,  4.42s/it]"
     ]
    },
    {
     "name": "stdout",
     "output_type": "stream",
     "text": [
      "No se descarga el modelo: bcc-csm1-1.ncml\n",
      "Descargando pr_day_BCSD_rcp45_r1i1p1_bcc-csm1-1_2024.nc\n",
      "Intentando de nuevo... Iteración 14\r"
     ]
    },
    {
     "name": "stderr",
     "output_type": "stream",
     "text": [
      " 20%|████████████████▍                                                                 | 19/95 [01:27<05:38,  4.45s/it]"
     ]
    },
    {
     "name": "stdout",
     "output_type": "stream",
     "text": [
      "No se descarga el modelo: bcc-csm1-1.ncml\n",
      "Descargando pr_day_BCSD_rcp45_r1i1p1_bcc-csm1-1_2025.nc\n",
      "Intentando de nuevo... Iteración 14\r"
     ]
    },
    {
     "name": "stderr",
     "output_type": "stream",
     "text": [
      " 21%|█████████████████▎                                                                | 20/95 [01:31<05:32,  4.43s/it]"
     ]
    },
    {
     "name": "stdout",
     "output_type": "stream",
     "text": [
      "No se descarga el modelo: bcc-csm1-1.ncml\n",
      "Descargando pr_day_BCSD_rcp45_r1i1p1_bcc-csm1-1_2026.nc\n",
      "Intentando de nuevo... Iteración 14\r"
     ]
    },
    {
     "name": "stderr",
     "output_type": "stream",
     "text": [
      " 22%|██████████████████▏                                                               | 21/95 [01:36<05:29,  4.46s/it]"
     ]
    },
    {
     "name": "stdout",
     "output_type": "stream",
     "text": [
      "No se descarga el modelo: bcc-csm1-1.ncml\n",
      "Descargando pr_day_BCSD_rcp45_r1i1p1_bcc-csm1-1_2027.nc\n",
      "Intentando de nuevo... Iteración 14\r"
     ]
    },
    {
     "name": "stderr",
     "output_type": "stream",
     "text": [
      " 23%|██████████████████▉                                                               | 22/95 [01:40<05:28,  4.49s/it]"
     ]
    },
    {
     "name": "stdout",
     "output_type": "stream",
     "text": [
      "No se descarga el modelo: bcc-csm1-1.ncml\n",
      "Descargando pr_day_BCSD_rcp45_r1i1p1_bcc-csm1-1_2028.nc\n",
      "Intentando de nuevo... Iteración 14\r"
     ]
    },
    {
     "name": "stderr",
     "output_type": "stream",
     "text": [
      " 24%|███████████████████▊                                                              | 23/95 [01:45<05:28,  4.57s/it]"
     ]
    },
    {
     "name": "stdout",
     "output_type": "stream",
     "text": [
      "No se descarga el modelo: bcc-csm1-1.ncml\n",
      "Descargando pr_day_BCSD_rcp45_r1i1p1_bcc-csm1-1_2029.nc\n",
      "Intentando de nuevo... Iteración 14\r"
     ]
    },
    {
     "name": "stderr",
     "output_type": "stream",
     "text": [
      " 25%|████████████████████▋                                                             | 24/95 [01:49<05:22,  4.54s/it]"
     ]
    },
    {
     "name": "stdout",
     "output_type": "stream",
     "text": [
      "No se descarga el modelo: bcc-csm1-1.ncml\n",
      "Descargando pr_day_BCSD_rcp45_r1i1p1_bcc-csm1-1_2030.nc\n",
      "Intentando de nuevo... Iteración 14\r"
     ]
    },
    {
     "name": "stderr",
     "output_type": "stream",
     "text": [
      " 26%|█████████████████████▌                                                            | 25/95 [01:54<05:16,  4.52s/it]"
     ]
    },
    {
     "name": "stdout",
     "output_type": "stream",
     "text": [
      "No se descarga el modelo: bcc-csm1-1.ncml\n",
      "Descargando pr_day_BCSD_rcp45_r1i1p1_bcc-csm1-1_2031.nc\n",
      "Intentando de nuevo... Iteración 14\r"
     ]
    },
    {
     "name": "stderr",
     "output_type": "stream",
     "text": [
      " 27%|██████████████████████▍                                                           | 26/95 [01:58<05:09,  4.48s/it]"
     ]
    },
    {
     "name": "stdout",
     "output_type": "stream",
     "text": [
      "No se descarga el modelo: bcc-csm1-1.ncml\n",
      "Descargando pr_day_BCSD_rcp45_r1i1p1_bcc-csm1-1_2032.nc\n",
      "Intentando de nuevo... Iteración 14\r"
     ]
    },
    {
     "name": "stderr",
     "output_type": "stream",
     "text": [
      " 28%|███████████████████████▎                                                          | 27/95 [02:03<05:02,  4.45s/it]"
     ]
    },
    {
     "name": "stdout",
     "output_type": "stream",
     "text": [
      "No se descarga el modelo: bcc-csm1-1.ncml\n",
      "Descargando pr_day_BCSD_rcp45_r1i1p1_bcc-csm1-1_2033.nc\n",
      "Intentando de nuevo... Iteración 14\r"
     ]
    },
    {
     "name": "stderr",
     "output_type": "stream",
     "text": [
      " 29%|████████████████████████▏                                                         | 28/95 [02:07<04:56,  4.43s/it]"
     ]
    },
    {
     "name": "stdout",
     "output_type": "stream",
     "text": [
      "No se descarga el modelo: bcc-csm1-1.ncml\n",
      "Descargando pr_day_BCSD_rcp45_r1i1p1_bcc-csm1-1_2034.nc\n",
      "Intentando de nuevo... Iteración 14\r"
     ]
    },
    {
     "name": "stderr",
     "output_type": "stream",
     "text": [
      " 31%|█████████████████████████                                                         | 29/95 [02:22<08:23,  7.62s/it]"
     ]
    },
    {
     "name": "stdout",
     "output_type": "stream",
     "text": [
      "No se descarga el modelo: bcc-csm1-1.ncml\n",
      "Descargando pr_day_BCSD_rcp45_r1i1p1_bcc-csm1-1_2035.nc\n",
      "Intentando de nuevo... Iteración 14\r"
     ]
    },
    {
     "name": "stderr",
     "output_type": "stream",
     "text": [
      " 32%|█████████████████████████▉                                                        | 30/95 [02:35<10:08,  9.36s/it]"
     ]
    },
    {
     "name": "stdout",
     "output_type": "stream",
     "text": [
      "No se descarga el modelo: bcc-csm1-1.ncml\n",
      "Descargando pr_day_BCSD_rcp45_r1i1p1_bcc-csm1-1_2036.nc\n",
      "Intentando de nuevo... Iteración 14\r"
     ]
    },
    {
     "name": "stderr",
     "output_type": "stream",
     "text": [
      " 33%|██████████████████████████▊                                                       | 31/95 [02:49<11:26, 10.73s/it]"
     ]
    },
    {
     "name": "stdout",
     "output_type": "stream",
     "text": [
      "No se descarga el modelo: bcc-csm1-1.ncml\n",
      "Descargando pr_day_BCSD_rcp45_r1i1p1_bcc-csm1-1_2037.nc\n",
      "Intentando de nuevo... Iteración 14\r"
     ]
    },
    {
     "name": "stderr",
     "output_type": "stream",
     "text": [
      " 34%|███████████████████████████▌                                                      | 32/95 [03:02<11:49, 11.26s/it]"
     ]
    },
    {
     "name": "stdout",
     "output_type": "stream",
     "text": [
      "No se descarga el modelo: bcc-csm1-1.ncml\n",
      "Descargando pr_day_BCSD_rcp45_r1i1p1_bcc-csm1-1_2038.nc\n",
      "Intentando de nuevo... Iteración 14\r"
     ]
    },
    {
     "name": "stderr",
     "output_type": "stream",
     "text": [
      " 35%|████████████████████████████▍                                                     | 33/95 [03:07<09:38,  9.33s/it]"
     ]
    },
    {
     "name": "stdout",
     "output_type": "stream",
     "text": [
      "No se descarga el modelo: bcc-csm1-1.ncml\n",
      "Descargando pr_day_BCSD_rcp45_r1i1p1_bcc-csm1-1_2039.nc\n",
      "Intentando de nuevo... Iteración 14\r"
     ]
    },
    {
     "name": "stderr",
     "output_type": "stream",
     "text": [
      " 36%|█████████████████████████████▎                                                    | 34/95 [03:12<08:07,  7.98s/it]"
     ]
    },
    {
     "name": "stdout",
     "output_type": "stream",
     "text": [
      "No se descarga el modelo: bcc-csm1-1.ncml\n",
      "Descargando pr_day_BCSD_rcp45_r1i1p1_bcc-csm1-1_2040.nc\n",
      "Intentando de nuevo... Iteración 14\r"
     ]
    },
    {
     "name": "stderr",
     "output_type": "stream",
     "text": [
      " 37%|██████████████████████████████▏                                                   | 35/95 [03:16<06:52,  6.88s/it]"
     ]
    },
    {
     "name": "stdout",
     "output_type": "stream",
     "text": [
      "No se descarga el modelo: bcc-csm1-1.ncml\n",
      "Descargando pr_day_BCSD_rcp45_r1i1p1_bcc-csm1-1_2041.nc\n",
      "Intentando de nuevo... Iteración 14\r"
     ]
    },
    {
     "name": "stderr",
     "output_type": "stream",
     "text": [
      " 38%|███████████████████████████████                                                   | 36/95 [03:20<06:04,  6.17s/it]"
     ]
    },
    {
     "name": "stdout",
     "output_type": "stream",
     "text": [
      "No se descarga el modelo: bcc-csm1-1.ncml\n",
      "Descargando pr_day_BCSD_rcp45_r1i1p1_bcc-csm1-1_2042.nc\n",
      "Intentando de nuevo... Iteración 14\r"
     ]
    },
    {
     "name": "stderr",
     "output_type": "stream",
     "text": [
      " 39%|███████████████████████████████▉                                                  | 37/95 [03:25<05:28,  5.67s/it]"
     ]
    },
    {
     "name": "stdout",
     "output_type": "stream",
     "text": [
      "No se descarga el modelo: bcc-csm1-1.ncml\n",
      "Descargando pr_day_BCSD_rcp45_r1i1p1_bcc-csm1-1_2043.nc\n",
      "Intentando de nuevo... Iteración 14\r"
     ]
    },
    {
     "name": "stderr",
     "output_type": "stream",
     "text": [
      " 40%|████████████████████████████████▊                                                 | 38/95 [03:30<05:05,  5.35s/it]"
     ]
    },
    {
     "name": "stdout",
     "output_type": "stream",
     "text": [
      "No se descarga el modelo: bcc-csm1-1.ncml\n",
      "Descargando pr_day_BCSD_rcp45_r1i1p1_bcc-csm1-1_2044.nc\n",
      "Intentando de nuevo... Iteración 14\r"
     ]
    },
    {
     "name": "stderr",
     "output_type": "stream",
     "text": [
      " 41%|█████████████████████████████████▋                                                | 39/95 [03:34<04:43,  5.06s/it]"
     ]
    },
    {
     "name": "stdout",
     "output_type": "stream",
     "text": [
      "No se descarga el modelo: bcc-csm1-1.ncml\n",
      "Descargando pr_day_BCSD_rcp45_r1i1p1_bcc-csm1-1_2045.nc\n",
      "Intentando de nuevo... Iteración 14\r"
     ]
    },
    {
     "name": "stderr",
     "output_type": "stream",
     "text": [
      " 42%|██████████████████████████████████▌                                               | 40/95 [03:38<04:28,  4.89s/it]"
     ]
    },
    {
     "name": "stdout",
     "output_type": "stream",
     "text": [
      "No se descarga el modelo: bcc-csm1-1.ncml\n",
      "Descargando pr_day_BCSD_rcp45_r1i1p1_bcc-csm1-1_2046.nc\n",
      "Intentando de nuevo... Iteración 14\r"
     ]
    },
    {
     "name": "stderr",
     "output_type": "stream",
     "text": [
      " 43%|███████████████████████████████████▍                                              | 41/95 [03:43<04:16,  4.75s/it]"
     ]
    },
    {
     "name": "stdout",
     "output_type": "stream",
     "text": [
      "No se descarga el modelo: bcc-csm1-1.ncml\n",
      "Descargando pr_day_BCSD_rcp45_r1i1p1_bcc-csm1-1_2047.nc\n",
      "Intentando de nuevo... Iteración 14\r"
     ]
    },
    {
     "name": "stderr",
     "output_type": "stream",
     "text": [
      " 44%|████████████████████████████████████▎                                             | 42/95 [03:47<04:05,  4.62s/it]"
     ]
    },
    {
     "name": "stdout",
     "output_type": "stream",
     "text": [
      "No se descarga el modelo: bcc-csm1-1.ncml\n",
      "Descargando pr_day_BCSD_rcp45_r1i1p1_bcc-csm1-1_2048.nc\n",
      "Intentando de nuevo... Iteración 14\r"
     ]
    },
    {
     "name": "stderr",
     "output_type": "stream",
     "text": [
      " 45%|█████████████████████████████████████                                             | 43/95 [03:52<04:00,  4.62s/it]"
     ]
    },
    {
     "name": "stdout",
     "output_type": "stream",
     "text": [
      "No se descarga el modelo: bcc-csm1-1.ncml\n",
      "Descargando pr_day_BCSD_rcp45_r1i1p1_bcc-csm1-1_2049.nc\n",
      "Intentando de nuevo... Iteración 14\r"
     ]
    },
    {
     "name": "stderr",
     "output_type": "stream",
     "text": [
      " 46%|█████████████████████████████████████▉                                            | 44/95 [03:56<03:52,  4.56s/it]"
     ]
    },
    {
     "name": "stdout",
     "output_type": "stream",
     "text": [
      "No se descarga el modelo: bcc-csm1-1.ncml\n",
      "Descargando pr_day_BCSD_rcp45_r1i1p1_bcc-csm1-1_2050.nc\n",
      "Intentando de nuevo... Iteración 14\r"
     ]
    },
    {
     "name": "stderr",
     "output_type": "stream",
     "text": [
      " 47%|██████████████████████████████████████▊                                           | 45/95 [04:01<03:46,  4.54s/it]"
     ]
    },
    {
     "name": "stdout",
     "output_type": "stream",
     "text": [
      "No se descarga el modelo: bcc-csm1-1.ncml\n",
      "Descargando pr_day_BCSD_rcp45_r1i1p1_bcc-csm1-1_2051.nc\n",
      "Intentando de nuevo... Iteración  4\r"
     ]
    }
   ],
   "source": [
    "for rcp in ['rcp45', 'rcp85']:\n",
    "    for var in ['pr','tasmax','tasmin']:\n",
    "        for model in models:\n",
    "            download_GCM_thredds(rcp, var, model, extent, path)\n",
    "            print()"
   ]
  },
  {
   "cell_type": "code",
   "execution_count": null,
   "metadata": {
    "scrolled": true
   },
   "outputs": [],
   "source": [
    "for rcp in ['rcp45','rcp85']:\n",
    "    for var in ['pr','tasmax','tasmin']:\n",
    "        Variable=var\n",
    "        for mod in Modelos:\n",
    "            fecha_inicio='2006-01-01'\n",
    "            fecha_final='2006-12-31'\n",
    "            for i in tqdm.tqdm(range(0, 95)):\n",
    "                datetime_object_ini = datetime.strptime(fecha_inicio, '%Y-%m-%d')\n",
    "                datetime_object_fin = datetime.strptime(fecha_final, '%Y-%m-%d')\n",
    "                #  https://dataserver.nccs.nasa.gov/thredds/catalog/bypass/NEX-GDDP/bcsd/rcp45/r1i1p1/pr/catalog.html?dataset=bypass/NEX-GDDP/bcsd/rcp45/r1i1p1/pr/inmcm4.ncml\n",
    "                url0 = 'https://dataserver.nccs.nasa.gov/thredds/catalog/bypass/NEX-GDDP/bcsd/'+rcp+'/r1i1p1/'+Variable+'/'+mod+'?var='+Variable+'&north='+str(YY_lim[1])+'&west='+str(XX_lim[0])+'&east='+str(XX_lim[1])+'&south='+str(YY_lim[0])+'&horizStride=1&time_start='+fecha_inicio+'T12%3A00%3A00Z&time_end='+fecha_final+'T12%3A00%3A00Z&timeStride=1&addLatLon=true'\n",
    "                if os.path.exists(path_output+rcp+'/'+var+'/'+Variable+'_day_BCSD_'+rcp+'_r1i1p1_'+mod[:-5]+'_'+str(datetime_object_ini.year)+'.nc')==True:\n",
    "                    fecha_inicio=str(datetime_object_ini + relativedelta(years=+1))[:-9]\n",
    "                    fecha_final=str(datetime_object_fin + relativedelta(years=+1))[:-9]\n",
    "                    continue\n",
    "                    \n",
    "                else:\n",
    "                    print('Descargando '+Variable+'_day_BCSD_'+rcp+'_r1i1p1_'+mod[:-5]+'_'+str(datetime_object_ini.year)+'.nc')\n",
    "                    nnn=0\n",
    "                    not_downloaded = True\n",
    "                    while not_downloaded:\n",
    "                        try:\n",
    "                            urllib.request.urlretrieve(url0, path_output+rcp+'/'+var+'/'+Variable+'_day_BCSD_'+rcp+'_r1i1p1_'+mod[:-5]+'_'+str(datetime_object_ini.year)+'.nc')\n",
    "                            fecha_inicio=str(datetime_object_ini + relativedelta(years=+1))[:-9]\n",
    "                            fecha_final=str(datetime_object_fin + relativedelta(years=+1))[:-9]\n",
    "                            not_downloaded = False\n",
    "                        except:\n",
    "                            print(\"Try again...\")\n",
    "                            nnn=nnn+1\n",
    "                            if nnn>15:\n",
    "                                print('No se descarga el modelo: '+mod)\n",
    "                                fecha_inicio=str(datetime_object_ini + relativedelta(years=+1))[:-9]\n",
    "                                fecha_final=str(datetime_object_fin + relativedelta(years=+1))[:-9]\n",
    "                                break"
   ]
  }
 ],
 "metadata": {
  "kernelspec": {
   "display_name": "Python 3",
   "language": "python",
   "name": "python3"
  },
  "language_info": {
   "codemirror_mode": {
    "name": "ipython",
    "version": 3
   },
   "file_extension": ".py",
   "mimetype": "text/x-python",
   "name": "python",
   "nbconvert_exporter": "python",
   "pygments_lexer": "ipython3",
   "version": "3.7.3"
  },
  "varInspector": {
   "cols": {
    "lenName": 16,
    "lenType": 16,
    "lenVar": 40
   },
   "kernels_config": {
    "python": {
     "delete_cmd_postfix": "",
     "delete_cmd_prefix": "del ",
     "library": "var_list.py",
     "varRefreshCmd": "print(var_dic_list())"
    },
    "r": {
     "delete_cmd_postfix": ") ",
     "delete_cmd_prefix": "rm(",
     "library": "var_list.r",
     "varRefreshCmd": "cat(var_dic_list()) "
    }
   },
   "types_to_exclude": [
    "module",
    "function",
    "builtin_function_or_method",
    "instance",
    "_Feature"
   ],
   "window_display": false
  }
 },
 "nbformat": 4,
 "nbformat_minor": 4
}
