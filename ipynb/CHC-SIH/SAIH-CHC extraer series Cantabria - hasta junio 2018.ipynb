{
 "cells": [
  {
   "cell_type": "markdown",
   "metadata": {},
   "source": [
    "_Autor:_    __Jesús Casado__ <br> _Revisión:_ __20/06/2019__ <br>\n",
    "\n",
    "\n",
    "__Descripción__:<br>\n",
    "Se extraen los datos del SAIH Cantábrico para las estaciones fuera de Cantabria. Los datos extraídos se tratan para unificar los formatos antes y después de junio de 2015 y se exportan en una serie única para cada estación.\n",
    "\n",
    "__Cosas a corregir__ <br>\n",
    "\n",
    "\n",
    "__Índice__<br>"
   ]
  },
  {
   "cell_type": "code",
   "execution_count": null,
   "metadata": {},
   "outputs": [],
   "source": [
    "import numpy as np\n",
    "import pandas as pd\n",
    "import matplotlib.pyplot as plt\n",
    "plt.style.use('seaborn-dark')\n",
    "%matplotlib inline\n",
    "import os\n",
    "from datetime import datetime, timedelta"
   ]
  },
  {
   "cell_type": "code",
   "execution_count": null,
   "metadata": {},
   "outputs": [],
   "source": [
    "%run funciones_seriesCHC.ipynb"
   ]
  },
  {
   "cell_type": "markdown",
   "metadata": {},
   "source": [
    "### Estaciones de Cantabria"
   ]
  },
  {
   "cell_type": "code",
   "execution_count": null,
   "metadata": {},
   "outputs": [],
   "source": [
    "# rutas de los datos originales y donde exportar los datos tratados\n",
    "rutaOrig = 'F:/Series/CHC/SAI/originales/Cantabria/'\n",
    "rutaExp = 'F:/Series/CHC/SAI/tratadas/'"
   ]
  },
  {
   "cell_type": "code",
   "execution_count": null,
   "metadata": {},
   "outputs": [],
   "source": [
    "# estaciones disponibles hasta junio de 2015\n",
    "rutaOrig1 = rutaOrig + 'Hasta junio de 2015/'\n",
    "stns = [file[:4] for file in os.listdir(rutaOrig1)]\n",
    "# estaciones disponibles desde junio de 2015\n",
    "rutaOrig2 = rutaOrig + 'Desde julio de 2015/'\n",
    "for file in os.listdir(rutaOrig2):\n",
    "    if file[:4] not in stns:\n",
    "        stns.append(file[:4])\n",
    "stns.sort()\n",
    "\n",
    "print('nº de estaciones:', len(stns))"
   ]
  },
  {
   "cell_type": "code",
   "execution_count": null,
   "metadata": {},
   "outputs": [],
   "source": [
    "# Extraer, tratar y exportar las series estación a estación\n",
    "for i, stn in enumerate(stns[:2]):\n",
    "    print('estación ', str(stn), '\\t(', i+1, ' de ', len(stns), ')', sep='')\n",
    "    try:\n",
    "        SAIH_CHC_2018(stn, rutaOrig, freq='1D', export_orig=True, rutaexp=rutaExp)\n",
    "    except:\n",
    "        print('ERROR en estación', stn)\n",
    "        print()\n",
    "        continue\n",
    "    print()"
   ]
  },
  {
   "cell_type": "code",
   "execution_count": null,
   "metadata": {},
   "outputs": [],
   "source": []
  }
 ],
 "metadata": {
  "kernelspec": {
   "display_name": "Python 3",
   "language": "python",
   "name": "python3"
  },
  "language_info": {
   "codemirror_mode": {
    "name": "ipython",
    "version": 3
   },
   "file_extension": ".py",
   "mimetype": "text/x-python",
   "name": "python",
   "nbconvert_exporter": "python",
   "pygments_lexer": "ipython3",
   "version": "3.6.3"
  }
 },
 "nbformat": 4,
 "nbformat_minor": 2
}
