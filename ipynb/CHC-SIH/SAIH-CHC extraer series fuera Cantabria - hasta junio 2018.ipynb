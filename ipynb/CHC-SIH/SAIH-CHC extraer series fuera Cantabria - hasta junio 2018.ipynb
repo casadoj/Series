{
 "cells": [
  {
   "cell_type": "markdown",
   "metadata": {},
   "source": [
    "_Autor:_    __Jesús Casado__ <br> _Revisión:_ __28/01/2019__ <br>\n",
    "\n",
    "\n",
    "__Descripción__:<br>\n",
    "Se extraen los datos del SAIH Cantábrico para las estaciones fuera de Cantabria. Los datos extraídos se tratan para unificar los formatos antes y después de junio de 2015 y se exportan en una serie única para cada estación.\n",
    "\n",
    "__Cosas a corregir__ <br>\n",
    "\n",
    "\n",
    "__Índice__<br>\n",
    "\n",
    "__[1. Funciones](#1.-Funciones)__<br>\n",
    "[Mualem_vanGenuchten](#Mualem_vanGenuchten)<br>"
   ]
  },
  {
   "cell_type": "code",
   "execution_count": 1,
   "metadata": {},
   "outputs": [],
   "source": [
    "import numpy as np\n",
    "import pandas as pd\n",
    "import matplotlib.pyplot as plt\n",
    "plt.style.use('seaborn-dark')\n",
    "%matplotlib inline\n",
    "from simpledbf import Dbf5\n",
    "import os\n",
    "from datetime import datetime, timedelta"
   ]
  },
  {
   "cell_type": "code",
   "execution_count": 2,
   "metadata": {},
   "outputs": [],
   "source": [
    "%run funciones_seriesCHC.ipynb"
   ]
  },
  {
   "cell_type": "markdown",
   "metadata": {},
   "source": [
    "### Estaciones fuera de Cantabria"
   ]
  },
  {
   "cell_type": "code",
   "execution_count": 3,
   "metadata": {},
   "outputs": [],
   "source": [
    "# rutas de los datos originales y donde exportar los datos tratados\n",
    "rutaOrig = 'F:/OneDrive - Universidad de Cantabria/Series/CHC/SAI/originales/noCantabria/'\n",
    "rutaExp = 'F:/OneDrive - Universidad de Cantabria/Series/CHC/SAI/tratadas/'"
   ]
  },
  {
   "cell_type": "markdown",
   "metadata": {},
   "source": [
    "__Crear carpetas antes de 2015__"
   ]
  },
  {
   "cell_type": "code",
   "execution_count": 4,
   "metadata": {},
   "outputs": [],
   "source": [
    "ruta1 = rutaOrig + 'Hasta junio de 2015/'\n",
    "os.chdir(ruta1)\n",
    "\n",
    "# encontrar archivos csv\n",
    "files = []\n",
    "for file in os.listdir(ruta1):\n",
    "    if file[-3:] == 'csv':\n",
    "        files.append(file)\n",
    "\n",
    "# Crear carpeta de cada estación y mover archivos a la carpeta correspondiente\n",
    "stns1 = []\n",
    "for file in files:\n",
    "    stn = file[:4]\n",
    "    if stn not in stns1:\n",
    "        stns1.append(stn)\n",
    "        if not os.path.exists(stn):\n",
    "            os.makedirs(stn)\n",
    "    os.rename(ruta1 + file, ruta1 + '/' + stn + '/' + file)"
   ]
  },
  {
   "cell_type": "markdown",
   "metadata": {},
   "source": [
    "__Crear carpetas desde 2015__"
   ]
  },
  {
   "cell_type": "code",
   "execution_count": 5,
   "metadata": {},
   "outputs": [],
   "source": [
    "ruta2 = rutaOrig + 'Desde julio de 2015/'\n",
    "os.chdir(ruta2)\n",
    "\n",
    "# encontrar archivos csv\n",
    "files = []\n",
    "for file in os.listdir(ruta2):\n",
    "    if file[-3:] == 'csv':\n",
    "        files.append(file)\n",
    "\n",
    "# Crear carpeta de cada estación y mover archivos a la carpeta correspondiente\n",
    "stns2 = []\n",
    "for file in files:\n",
    "    stn = file[8:12]\n",
    "    if stn not in stns2:\n",
    "        stns2.append(stn)\n",
    "        if not os.path.exists(stn):\n",
    "            os.makedirs(stn)\n",
    "    os.rename(ruta2 + file, ruta2 + '/' + stn + '/' + file)"
   ]
  },
  {
   "cell_type": "code",
   "execution_count": 6,
   "metadata": {},
   "outputs": [
    {
     "name": "stdout",
     "output_type": "stream",
     "text": [
      "nº de estaciones: 55\n"
     ]
    }
   ],
   "source": [
    "# unir estaciones de los dos periodos\n",
    "stns1 = os.listdir(ruta1)\n",
    "stns2 = os.listdir(ruta2)\n",
    "stns = list(set(stns1 + stns2))\n",
    "stns.sort()\n",
    "\n",
    "print('nº de estaciones:', len(stns))"
   ]
  },
  {
   "cell_type": "code",
   "execution_count": 7,
   "metadata": {
    "scrolled": false
   },
   "outputs": [
    {
     "name": "stdout",
     "output_type": "stream",
     "text": [
      "estación A047\t(1 de 55)\n",
      "nº de días de las serie:\t 3896\n",
      "variables:\t ['caudal_m³/s', 'nivel_m', 'precipitacion_mm', 'temperatura_ºC']\n",
      "\n"
     ]
    }
   ],
   "source": [
    "# Extraer, tratar y exportar las series estación a estación\n",
    "for i, stn in enumerate(stns[:1]):\n",
    "    print('estación ', str(stn), '\\t(', i+1, ' de ', len(stns), ')', sep='')\n",
    "    try:\n",
    "        SAIH_CHC_2018(stn, rutaOrig, freq='1D', export_orig=True, rutaexp=rutaExp)\n",
    "    except:\n",
    "        print('ERROR en estación', stn)\n",
    "        print()\n",
    "        continue\n",
    "    print()"
   ]
  },
  {
   "cell_type": "code",
   "execution_count": 8,
   "metadata": {},
   "outputs": [],
   "source": [
    "redondeo = {'precipitacion_mm': 1, 'caudal_m³/s': 2, 'nivel_m': 2,\n",
    "            'temperatura_ºC': 1, 'amonio_mg/l': 2, 'conductividad_μS/cm': 0,\n",
    "            'oxigeno_mg/l': 1, 'pH': 1, 'temperaturaAgua_ºC': 1,\n",
    "            'turbidez_NTU': 0}"
   ]
  },
  {
   "cell_type": "code",
   "execution_count": 9,
   "metadata": {},
   "outputs": [],
   "source": [
    "aux = pd.read_csv(rutaExp + '5min/' + 'A047.csv', encoding='latin1', parse_dates=True,\n",
    "            index_col=0)"
   ]
  },
  {
   "cell_type": "code",
   "execution_count": 18,
   "metadata": {},
   "outputs": [
    {
     "data": {
      "text/plain": [
       "(11863, 4)"
      ]
     },
     "execution_count": 18,
     "metadata": {},
     "output_type": "execute_result"
    }
   ],
   "source": [
    "aux[(aux['temperatura_ºC'] > 50) | (aux['temperatura_ºC'] < -50)].shape"
   ]
  },
  {
   "cell_type": "code",
   "execution_count": 21,
   "metadata": {},
   "outputs": [
    {
     "data": {
      "text/html": [
       "<div>\n",
       "<style>\n",
       "    .dataframe thead tr:only-child th {\n",
       "        text-align: right;\n",
       "    }\n",
       "\n",
       "    .dataframe thead th {\n",
       "        text-align: left;\n",
       "    }\n",
       "\n",
       "    .dataframe tbody tr th {\n",
       "        vertical-align: top;\n",
       "    }\n",
       "</style>\n",
       "<table border=\"1\" class=\"dataframe\">\n",
       "  <thead>\n",
       "    <tr style=\"text-align: right;\">\n",
       "      <th></th>\n",
       "      <th>caudal_m³/s</th>\n",
       "      <th>nivel_m</th>\n",
       "      <th>precipitacion_mm</th>\n",
       "      <th>temperatura_ºC</th>\n",
       "    </tr>\n",
       "    <tr>\n",
       "      <th>Fecha</th>\n",
       "      <th></th>\n",
       "      <th></th>\n",
       "      <th></th>\n",
       "      <th></th>\n",
       "    </tr>\n",
       "  </thead>\n",
       "  <tbody>\n",
       "  </tbody>\n",
       "</table>\n",
       "</div>"
      ],
      "text/plain": [
       "Empty DataFrame\n",
       "Columns: [caudal_m³/s, nivel_m, precipitacion_mm, temperatura_ºC]\n",
       "Index: []"
      ]
     },
     "execution_count": 21,
     "metadata": {},
     "output_type": "execute_result"
    }
   ],
   "source": [
    "aux[(aux['precipitacion_mm'] < 0)]"
   ]
  },
  {
   "cell_type": "code",
   "execution_count": 23,
   "metadata": {},
   "outputs": [
    {
     "data": {
      "text/html": [
       "<div>\n",
       "<style>\n",
       "    .dataframe thead tr:only-child th {\n",
       "        text-align: right;\n",
       "    }\n",
       "\n",
       "    .dataframe thead th {\n",
       "        text-align: left;\n",
       "    }\n",
       "\n",
       "    .dataframe tbody tr th {\n",
       "        vertical-align: top;\n",
       "    }\n",
       "</style>\n",
       "<table border=\"1\" class=\"dataframe\">\n",
       "  <thead>\n",
       "    <tr style=\"text-align: right;\">\n",
       "      <th></th>\n",
       "      <th>caudal_m³/s</th>\n",
       "      <th>nivel_m</th>\n",
       "      <th>precipitacion_mm</th>\n",
       "      <th>temperatura_ºC</th>\n",
       "    </tr>\n",
       "    <tr>\n",
       "      <th>Fecha</th>\n",
       "      <th></th>\n",
       "      <th></th>\n",
       "      <th></th>\n",
       "      <th></th>\n",
       "    </tr>\n",
       "  </thead>\n",
       "  <tbody>\n",
       "  </tbody>\n",
       "</table>\n",
       "</div>"
      ],
      "text/plain": [
       "Empty DataFrame\n",
       "Columns: [caudal_m³/s, nivel_m, precipitacion_mm, temperatura_ºC]\n",
       "Index: []"
      ]
     },
     "execution_count": 23,
     "metadata": {},
     "output_type": "execute_result"
    }
   ],
   "source": [
    "aux[(aux['caudal_m³/s'] < 0)]"
   ]
  },
  {
   "cell_type": "code",
   "execution_count": 27,
   "metadata": {},
   "outputs": [
    {
     "data": {
      "text/html": [
       "<div>\n",
       "<style>\n",
       "    .dataframe thead tr:only-child th {\n",
       "        text-align: right;\n",
       "    }\n",
       "\n",
       "    .dataframe thead th {\n",
       "        text-align: left;\n",
       "    }\n",
       "\n",
       "    .dataframe tbody tr th {\n",
       "        vertical-align: top;\n",
       "    }\n",
       "</style>\n",
       "<table border=\"1\" class=\"dataframe\">\n",
       "  <thead>\n",
       "    <tr style=\"text-align: right;\">\n",
       "      <th></th>\n",
       "      <th>caudal_m³/s</th>\n",
       "      <th>nivel_m</th>\n",
       "      <th>precipitacion_mm</th>\n",
       "      <th>temperatura_ºC</th>\n",
       "    </tr>\n",
       "    <tr>\n",
       "      <th>Fecha</th>\n",
       "      <th></th>\n",
       "      <th></th>\n",
       "      <th></th>\n",
       "      <th></th>\n",
       "    </tr>\n",
       "  </thead>\n",
       "  <tbody>\n",
       "    <tr>\n",
       "      <th>2008-01-30 12:45:00</th>\n",
       "      <td>0.0</td>\n",
       "      <td>7000.00</td>\n",
       "      <td>94.00</td>\n",
       "      <td>70000.0</td>\n",
       "    </tr>\n",
       "    <tr>\n",
       "      <th>2008-01-30 12:50:00</th>\n",
       "      <td>0.0</td>\n",
       "      <td>7000.00</td>\n",
       "      <td>94.00</td>\n",
       "      <td>70000.0</td>\n",
       "    </tr>\n",
       "    <tr>\n",
       "      <th>2015-05-19 17:10:00</th>\n",
       "      <td>0.0</td>\n",
       "      <td>12.00</td>\n",
       "      <td>0.00</td>\n",
       "      <td>-30.0</td>\n",
       "    </tr>\n",
       "    <tr>\n",
       "      <th>2015-05-19 17:15:00</th>\n",
       "      <td>0.0</td>\n",
       "      <td>12.00</td>\n",
       "      <td>0.00</td>\n",
       "      <td>-30.0</td>\n",
       "    </tr>\n",
       "    <tr>\n",
       "      <th>2015-05-19 17:20:00</th>\n",
       "      <td>0.0</td>\n",
       "      <td>12.00</td>\n",
       "      <td>0.00</td>\n",
       "      <td>-30.0</td>\n",
       "    </tr>\n",
       "    <tr>\n",
       "      <th>2015-05-19 17:25:00</th>\n",
       "      <td>0.0</td>\n",
       "      <td>12.00</td>\n",
       "      <td>0.00</td>\n",
       "      <td>-30.0</td>\n",
       "    </tr>\n",
       "    <tr>\n",
       "      <th>2015-05-19 17:30:00</th>\n",
       "      <td>0.0</td>\n",
       "      <td>12.00</td>\n",
       "      <td>0.00</td>\n",
       "      <td>-30.0</td>\n",
       "    </tr>\n",
       "    <tr>\n",
       "      <th>2015-05-19 17:35:00</th>\n",
       "      <td>0.0</td>\n",
       "      <td>12.00</td>\n",
       "      <td>0.00</td>\n",
       "      <td>-30.0</td>\n",
       "    </tr>\n",
       "    <tr>\n",
       "      <th>2015-05-19 17:40:00</th>\n",
       "      <td>0.0</td>\n",
       "      <td>12.00</td>\n",
       "      <td>0.00</td>\n",
       "      <td>-30.0</td>\n",
       "    </tr>\n",
       "    <tr>\n",
       "      <th>2015-05-19 17:45:00</th>\n",
       "      <td>0.0</td>\n",
       "      <td>12.00</td>\n",
       "      <td>0.00</td>\n",
       "      <td>-30.0</td>\n",
       "    </tr>\n",
       "    <tr>\n",
       "      <th>2015-05-19 18:00:00</th>\n",
       "      <td>0.0</td>\n",
       "      <td>17.82</td>\n",
       "      <td>0.01</td>\n",
       "      <td>-30.0</td>\n",
       "    </tr>\n",
       "    <tr>\n",
       "      <th>2015-05-19 18:10:00</th>\n",
       "      <td>0.0</td>\n",
       "      <td>12.32</td>\n",
       "      <td>0.00</td>\n",
       "      <td>-30.0</td>\n",
       "    </tr>\n",
       "  </tbody>\n",
       "</table>\n",
       "</div>"
      ],
      "text/plain": [
       "                     caudal_m³/s  nivel_m  precipitacion_mm  temperatura_ºC\n",
       "Fecha                                                                      \n",
       "2008-01-30 12:45:00          0.0  7000.00             94.00         70000.0\n",
       "2008-01-30 12:50:00          0.0  7000.00             94.00         70000.0\n",
       "2015-05-19 17:10:00          0.0    12.00              0.00           -30.0\n",
       "2015-05-19 17:15:00          0.0    12.00              0.00           -30.0\n",
       "2015-05-19 17:20:00          0.0    12.00              0.00           -30.0\n",
       "2015-05-19 17:25:00          0.0    12.00              0.00           -30.0\n",
       "2015-05-19 17:30:00          0.0    12.00              0.00           -30.0\n",
       "2015-05-19 17:35:00          0.0    12.00              0.00           -30.0\n",
       "2015-05-19 17:40:00          0.0    12.00              0.00           -30.0\n",
       "2015-05-19 17:45:00          0.0    12.00              0.00           -30.0\n",
       "2015-05-19 18:00:00          0.0    17.82              0.01           -30.0\n",
       "2015-05-19 18:10:00          0.0    12.32              0.00           -30.0"
      ]
     },
     "execution_count": 27,
     "metadata": {},
     "output_type": "execute_result"
    }
   ],
   "source": [
    "aux[(aux['nivel_m'] > 10)]"
   ]
  },
  {
   "cell_type": "code",
   "execution_count": null,
   "metadata": {},
   "outputs": [],
   "source": []
  }
 ],
 "metadata": {
  "kernelspec": {
   "display_name": "Python 3",
   "language": "python",
   "name": "python3"
  },
  "language_info": {
   "codemirror_mode": {
    "name": "ipython",
    "version": 3
   },
   "file_extension": ".py",
   "mimetype": "text/x-python",
   "name": "python",
   "nbconvert_exporter": "python",
   "pygments_lexer": "ipython3",
   "version": "3.6.3"
  }
 },
 "nbformat": 4,
 "nbformat_minor": 2
}
