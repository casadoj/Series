{
 "cells": [
  {
   "cell_type": "markdown",
   "metadata": {},
   "source": [
    "_Autor:_    __Salavador Navas__ <br> _Revisión:_ __27/02/2020__ <br>\n",
    "\n",
    "\n",
    "__Descripción__:<br>\n",
    "Funciones para extraer datos de ERA5 a través de Copernicus.\n",
    "\n",
    "__Cosas a corregir__ <br>"
   ]
  },
  {
   "cell_type": "code",
   "execution_count": 15,
   "metadata": {},
   "outputs": [],
   "source": [
    "from datetime import datetime, timedelta\n",
    "import cdsapi\n",
    "import pandas as pd\n",
    "import tqdm\n",
    "import os"
   ]
  },
  {
   "cell_type": "code",
   "execution_count": 5,
   "metadata": {},
   "outputs": [],
   "source": [
    "def download_ERA5_copernicus(date, extension, variable, path_output):\n",
    "    \"\"\"\n",
    "    Parametros:\n",
    "    -----------\n",
    "    date:        string. Formato '%Y-%m-%d %H:%M:%S'\n",
    "    ext# convertir fecha en 'datetime'\n",
    "    d = datetime.strptime(date, '%Y-%m-%d %H:%M:%S')\n",
    "   \n",
    "    # definir el nombre del archivo de salida\n",
    "    if variable == 'total_precipitation':\n",
    "        file_name = 'Precipitacion_{0}_{1:0=2d}_{2:0=2d}.nc'.format(d.year, d.month, d.day)\n",
    "    elif variable == '2m_temperature':\n",
    "        file_name = 'Temperatura_{0}_{1:0=2d}_{2:0=2d}.nc'.format(d.year, d.month, d.day)\n",
    "    else:\n",
    "        return print('ERROR. Variable incorrecta')ension:   string. Format '00.00/00.00/00.00/00.00' W/S/E/N\n",
    "    variable:    string. 'total_precipitation' o '2m_temperature'\n",
    "    path_output: string. Ruta donde guardar las descargas\n",
    "    \n",
    "    Salida:\n",
    "    -------\n",
    "    Se genera un archivo NetCDF en la ruta especificada en 'path_output'\n",
    "    \"\"\"\n",
    "    \n",
    "    # convertir fecha en 'datetime'\n",
    "    d = datetime.strptime(date, '%Y-%m-%d %H:%M:%S')\n",
    "   \n",
    "    # definir el nombre del archivo de salida\n",
    "    if variable == 'total_precipitation':\n",
    "        file_name = 'Precipitacion_{0}_{1:0=2d}_{2:0=2d}.nc'.format(d.year, d.month, d.day)\n",
    "    elif variable == '2m_temperature':\n",
    "        file_name = 'Temperatura_{0}_{1:0=2d}_{2:0=2d}.nc'.format(d.year, d.month, d.day)\n",
    "    else:\n",
    "        return print('ERROR. Variable incorrecta')\n",
    "    \n",
    "    # descargar los datos, si el archivo no existe\n",
    "    if os.path.exists(path_output + file_name):\n",
    "        return\n",
    "    else:\n",
    "        c = cdsapi.Client()\n",
    "        c.retrieve('reanalysis-era5-land',\n",
    "                   {'format': 'netcdf',\n",
    "                    \"area\": extension,\n",
    "                    'variable': variable,\n",
    "                    'month': \"{0:0=2d}\".format(d.month),\n",
    "                    'day': \"{0:0=2d}\".format(d.day),\n",
    "                    'year': str(d.year),\n",
    "                    'time': ['00:00', '01:00', '02:00',\n",
    "                             '03:00', '04:00', '05:00',\n",
    "                             '06:00', '07:00', '08:00',\n",
    "                             '09:00', '10:00', '11:00',\n",
    "                             '12:00', '13:00', '14:00',\n",
    "                             '15:00', '16:00', '17:00',\n",
    "                             '18:00', '19:00', '20:00',\n",
    "                             '21:00', '22:00', '23:00']},\n",
    "                   path_output + file_name)"
   ]
  },
  {
   "cell_type": "code",
   "execution_count": null,
   "metadata": {},
   "outputs": [],
   "source": [
    "# definir dónde guardar las descargas\n",
    "ruta = '/mnt/e/BID_ASUNCION/Clima/ERA5/'\n",
    "# definir la extensión de la zona de interés\n",
    "extent = '-19.00/-63.00/-29.00/-53.00'\n",
    "\n",
    "# descarga\n",
    "for date in tqdm.tqdm(pd.date_range(start='1981-01-01', end='2020-02-26', freq='D')):\n",
    "    download_ERA5_copernicus(str(date), extent, 'total_precipitation', ruta)\n",
    "    download_ERA5_copernicus(str(date), extent, '2m_temperature', ruta)"
   ]
  },
  {
   "cell_type": "code",
   "execution_count": null,
   "metadata": {},
   "outputs": [],
   "source": []
  }
 ],
 "metadata": {
  "kernelspec": {
   "display_name": "Python 3",
   "language": "python",
   "name": "python3"
  },
  "language_info": {
   "codemirror_mode": {
    "name": "ipython",
    "version": 3
   },
   "file_extension": ".py",
   "mimetype": "text/x-python",
   "name": "python",
   "nbconvert_exporter": "python",
   "pygments_lexer": "ipython3",
   "version": "3.7.3"
  },
  "varInspector": {
   "cols": {
    "lenName": 16,
    "lenType": 16,
    "lenVar": 40
   },
   "kernels_config": {
    "python": {
     "delete_cmd_postfix": "",
     "delete_cmd_prefix": "del ",
     "library": "var_list.py",
     "varRefreshCmd": "print(var_dic_list())"
    },
    "r": {
     "delete_cmd_postfix": ") ",
     "delete_cmd_prefix": "rm(",
     "library": "var_list.r",
     "varRefreshCmd": "cat(var_dic_list()) "
    }
   },
   "types_to_exclude": [
    "module",
    "function",
    "builtin_function_or_method",
    "instance",
    "_Feature"
   ],
   "window_display": false
  }
 },
 "nbformat": 4,
 "nbformat_minor": 4
}
