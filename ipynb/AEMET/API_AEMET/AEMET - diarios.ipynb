{
 "cells": [
  {
   "cell_type": "markdown",
   "metadata": {},
   "source": [
    "# Datos climáticos diarios"
   ]
  },
  {
   "cell_type": "markdown",
   "metadata": {},
   "source": [
    "Se generan las series climáticas diarias de las estaciones principales de la AEMET. Se pueden descargar todas las disponibles o por provincias. La duración de la serie también es definible"
   ]
  },
  {
   "cell_type": "code",
   "execution_count": 1,
   "metadata": {
    "collapsed": true
   },
   "outputs": [],
   "source": [
    "import requests\n",
    "\n",
    "from requests.packages.urllib3.exceptions import InsecureRequestWarning\n",
    "requests.packages.urllib3.disable_warnings(InsecureRequestWarning)\n",
    "\n",
    "import pandas as pd\n",
    "import numpy as np\n",
    "import datetime\n",
    "import time"
   ]
  },
  {
   "cell_type": "code",
   "execution_count": 17,
   "metadata": {
    "collapsed": true
   },
   "outputs": [],
   "source": [
    "# Ruta en la que está guardada la API key\n",
    "ruta_API = \"F:/Series/AEMET/apikey_AEMET.txt\"\n",
    "# Ruta donde se guardarán las series\n",
    "ruta_series = 'F:/Series/AEMET/Clima/Diario/'\n",
    "\n",
    "# Definir el inicio y fin de la serie, y la duración de cada periodo\n",
    "start_date = datetime.datetime(1950, 1, 1, 0, 0, 0)\n",
    "final_date = datetime.datetime(2017, 11, 30, 23, 59, 59)\n",
    "\n",
    "# Definir las estaciones: 'todas' o la lista de con los códigos\n",
    "estaciones = ['5270', '5270B', '5514', '6205X', '6277B', '6293X', '6297', '6302A', '6325O']#, '5047E', '5051X', '5530E', '5582A', '6268X']"
   ]
  },
  {
   "cell_type": "markdown",
   "metadata": {},
   "source": [
    "#### Funciones"
   ]
  },
  {
   "cell_type": "code",
   "execution_count": 3,
   "metadata": {
    "collapsed": true
   },
   "outputs": [],
   "source": [
    "def dms2dd(degrees, minutes, seconds, direction):\n",
    "    \"\"\"It converts a latitude or longitude value given in degrees, minutes, seconds and direction to decimal degrees\n",
    "    \"\"\"\n",
    "    dd = float(degrees) + float(minutes)/60 + float(seconds)/(3600);\n",
    "    if direction == 'W' or direction == 'S':\n",
    "        dd *= -1\n",
    "    return dd"
   ]
  },
  {
   "cell_type": "markdown",
   "metadata": {},
   "source": [
    "## 1. Estaciones"
   ]
  },
  {
   "cell_type": "code",
   "execution_count": 4,
   "metadata": {
    "collapsed": true
   },
   "outputs": [],
   "source": [
    "# Carga la api key \n",
    "api_key = open(ruta_API).read().rstrip()\n",
    "querystring = {\"api_key\": api_key}\n",
    "\n",
    "# Obtenemos información de todas las estaciones disponibles\n",
    "url = \"https://opendata.aemet.es/opendata/api/valores/climatologicos/inventarioestaciones/todasestaciones\""
   ]
  },
  {
   "cell_type": "code",
   "execution_count": 5,
   "metadata": {
    "collapsed": true
   },
   "outputs": [],
   "source": [
    "# Realizamos la request\n",
    "r = requests.get(url, params=querystring, verify=False)"
   ]
  },
  {
   "cell_type": "code",
   "execution_count": 6,
   "metadata": {
    "collapsed": true
   },
   "outputs": [],
   "source": [
    "# Obtenemos el link del que descargaremos los datos\n",
    "data_url = r.json()['datos']\n",
    "r_data = requests.get(data_url, params=querystring, verify=False)"
   ]
  },
  {
   "cell_type": "code",
   "execution_count": 7,
   "metadata": {
    "collapsed": true
   },
   "outputs": [],
   "source": [
    "# Vemos el contenido\n",
    "stations = r_data.json()"
   ]
  },
  {
   "cell_type": "code",
   "execution_count": 8,
   "metadata": {},
   "outputs": [
    {
     "name": "stdout",
     "output_type": "stream",
     "text": [
      "Nº de estaciones disponibles:  291\n"
     ]
    }
   ],
   "source": [
    "# Crea un data frame con las estaciones meteorológicas y sus características\n",
    "n = len(stations)\n",
    "\n",
    "columnas = []\n",
    "for key in stations[0].keys():\n",
    "    columnas.append(key)\n",
    "\n",
    "stn_AEMET = pd.DataFrame(index=np.arange(n), columns=columnas)\n",
    "stn_AEMET = stn_AEMET.loc[:, ['indicativo', 'nombre', 'provincia', 'indsinop',\n",
    "                              'latitud', 'longitud', 'altitud']]\n",
    "\n",
    "i = 0\n",
    "for stn in stations:\n",
    "    stn_AEMET.indicativo[i] = stn['indicativo']\n",
    "    stn_AEMET.nombre[i] = stn['nombre']\n",
    "    stn_AEMET.provincia[i] = stn['provincia']\n",
    "    stn_AEMET.indsinop[i] = stn['indsinop']\n",
    "    stn_AEMET.latitud[i] = dms2dd(stn['latitud'][:2], stn['latitud'][2:4], stn['latitud'][4:6], stn['latitud'][6])\n",
    "    stn_AEMET.longitud[i] = dms2dd(stn['longitud'][:2], stn['longitud'][2:4], stn['longitud'][4:6], stn['longitud'][6])\n",
    "    stn_AEMET.altitud[i] = int(stn['altitud'])\n",
    "    i += 1\n",
    "stn_AEMET.sort_values('indicativo', inplace=True)\n",
    "stn_AEMET.set_index('indicativo', drop=True, inplace=True)\n",
    "\n",
    "print('Nº de estaciones disponibles: ', stn_AEMET.shape[0])"
   ]
  },
  {
   "cell_type": "code",
   "execution_count": 9,
   "metadata": {
    "collapsed": true
   },
   "outputs": [],
   "source": [
    "stn_AEMET.to_csv(ruta_series + 'estaciones_AEMET.csv', sep=',', na_rep='-100', header=True, index=True)"
   ]
  },
  {
   "cell_type": "markdown",
   "metadata": {},
   "source": [
    "## 2. Extraer datos diarios\n",
    "\n",
    "### 2.1 Funciones"
   ]
  },
  {
   "cell_type": "code",
   "execution_count": 11,
   "metadata": {
    "collapsed": true
   },
   "outputs": [],
   "source": [
    "def generate_dates(start_date, final_date, step):\n",
    "    \"\"\"It generates a list of dates beginning in the 'start_date', ending in the 'final_date' and every 'step' number of \n",
    "    dates\"\"\"\n",
    "    \n",
    "    chunks = [start_date]\n",
    "\n",
    "    next_date = start_date + step\n",
    "    while next_date < final_date:\n",
    "        chunks.append(next_date)\n",
    "        next_date += step\n",
    "\n",
    "    chunks.append(final_date)\n",
    "\n",
    "    return chunks"
   ]
  },
  {
   "cell_type": "code",
   "execution_count": 12,
   "metadata": {
    "collapsed": true
   },
   "outputs": [],
   "source": [
    "def extract_data(station, periodos):\n",
    "\n",
    "    raw_data = []\n",
    "\n",
    "    for ii in range(1, len(periodos)):\n",
    "        print()\n",
    "        print(station,\n",
    "              \" - \",\n",
    "              periodos[ii-1].strftime('%Y-%m-%dT%H:%M:%SUTC'),\n",
    "              \" - \",\n",
    "              periodos[ii].strftime('%Y-%m-%dT%H:%M:%SUTC'))\n",
    "\n",
    "        url = (\"https://opendata.aemet.es/opendata/api/valores/climatologicos/diarios/datos/\"\n",
    "               \"fechaini/{start}/fechafin/{end}/estacion/{station}\".format(\n",
    "                   start=periodos[ii-1].strftime('%Y-%m-%dT%H:%M:%SUTC'),\n",
    "                    end=periodos[ii].strftime('%Y-%m-%dT%H:%M:%SUTC'),\n",
    "                    station=station)\n",
    "              )\n",
    "\n",
    "        iterate = True\n",
    "\n",
    "        while iterate:\n",
    "\n",
    "            r = requests.get(url, params=querystring, verify=False)\n",
    "\n",
    "            # Si no me deja hacer la conexión, la repito  \n",
    "            iterate = (r.status_code == requests.codes.too_many_requests)\n",
    "\n",
    "            print(r.json())\n",
    "\n",
    "            # Chequeo si la petición ha ido bien    \n",
    "            if r.status_code == requests.codes.ok:\n",
    "                # Hago la petición para obtener los datos\n",
    "                data_url = r.json()['datos']\n",
    "                r_data = requests.get(data_url, params=querystring, verify=False)\n",
    "\n",
    "                # INCONSISTENCIA DE LA API:\n",
    "                # Cuando no encuentra datos en el rango seleccionado, la API devuelve\n",
    "                # que el status code es 200 (todo ok) y devuelve un json con el error\n",
    "                # cuando encuentra, no hay atributo estado            \n",
    "                try:\n",
    "                    estado = r_data.json()['estado']\n",
    "                except:\n",
    "                    estado = 200\n",
    "\n",
    "\n",
    "                # Si ha ido bien guardo los datos\n",
    "                if estado == requests.codes.ok:\n",
    "                    #print(r_data.json())\n",
    "                    raw_data.extend(r_data.json())\n",
    "                else:\n",
    "                    print(r_data.json()['descripcion'])\n",
    "            else:\n",
    "                print(r.json()['descripcion'])\n",
    "\n",
    "            time.sleep(60/45)\n",
    "            \n",
    "    return raw_data"
   ]
  },
  {
   "cell_type": "code",
   "execution_count": 35,
   "metadata": {
    "collapsed": true
   },
   "outputs": [],
   "source": [
    "def parse_data(raw_data):\n",
    "    \"\"\"Convert from string to floating point number those columns in the data that represent quantitative variables\"\"\"\n",
    "    data = []\n",
    "    for d in raw_data:\n",
    "        d = dict(d)  # Exto copia el parámetro\n",
    "        for param in ['prec', 'presMax', 'presMin', 'racha', 'sol', 'tmax', 'tmed', 'tmin', 'velmedia', 'altitud', 'dir']:\n",
    "            try:\n",
    "                d[param] = float(d[param].replace(',', '.'))\n",
    "            except:\n",
    "                d[param] = None\n",
    "        data.append(d)\n",
    "    \n",
    "    return data"
   ]
  },
  {
   "cell_type": "code",
   "execution_count": 13,
   "metadata": {
    "collapsed": true
   },
   "outputs": [],
   "source": [
    "def serie_df(data):\n",
    "    \"\"\"Create a data frame with the series of daily records of a station given as a list of dictionaries\"\"\"\n",
    "    # Crea un data frame con los datos diarios de una estación\n",
    "    n = len(data)\n",
    "\n",
    "    columnas = []\n",
    "    for key in data[0].keys():\n",
    "        columnas.append(key)\n",
    "\n",
    "    serie = pd.DataFrame(index=np.arange(n), columns=columnas)\n",
    "    serie = serie.loc[:, ['fecha', 'indicativo', 'nombre', 'provincia', 'altitud', 'prec', 'tmed', 'tmin', 'horatmin', 'tmax', \n",
    "                          'horatmax', 'dir', 'velmedia', 'racha', 'horaracha', 'sol', 'presMax', 'horaPresMax', 'presMin',\n",
    "                          'horaPresMin']]\n",
    "\n",
    "    for i in np.arange(len(data)):\n",
    "        keys = list(data[i].keys())\n",
    "        for key in keys:\n",
    "            serie[key][i] = data[i][key]\n",
    "    \n",
    "    serie.fecha = pd.to_datetime(serie.fecha, yearfirst=True)\n",
    "    \n",
    "    return serie"
   ]
  },
  {
   "cell_type": "markdown",
   "metadata": {},
   "source": [
    "### 2.2 Generar series\n",
    "\n",
    "#### Definir fechas"
   ]
  },
  {
   "cell_type": "code",
   "execution_count": 43,
   "metadata": {},
   "outputs": [
    {
     "name": "stdout",
     "output_type": "stream",
     "text": [
      "Nº de periodos en los que se divide el periodo de estudio:  828\n"
     ]
    }
   ],
   "source": [
    "# Definir la duración de cada periodo y calcular los periodos\n",
    "step = datetime.timedelta(days=30)\n",
    "periodos = generate_dates(start_date, final_date, step)\n",
    "print('Nº de periodos en los que se divide el periodo de estudio: ', len(periodos))"
   ]
  },
  {
   "cell_type": "markdown",
   "metadata": {},
   "source": [
    "#### Definir las estaciones"
   ]
  },
  {
   "cell_type": "code",
   "execution_count": 44,
   "metadata": {},
   "outputs": [
    {
     "name": "stdout",
     "output_type": "stream",
     "text": [
      "Nº de estaciones a extraer:  9\n"
     ]
    }
   ],
   "source": [
    "# Definir las estaciones a extraer\n",
    "if estaciones[0] == 'todas':\n",
    "    stn_AEMET_sub = stn_AEMET\n",
    "else:\n",
    "    stn_AEMET_sub = stn_AEMET.loc[estaciones]\n",
    "        \n",
    "print('Nº de estaciones a extraer: ', stn_AEMET_sub.shape[0])"
   ]
  },
  {
   "cell_type": "markdown",
   "metadata": {},
   "source": [
    "#### Extraer, organizar y exportar las series"
   ]
  },
  {
   "cell_type": "code",
   "execution_count": 45,
   "metadata": {
    "scrolled": true
   },
   "outputs": [
    {
     "name": "stdout",
     "output_type": "stream",
     "text": [
      "\n",
      "5270B  -  1950-01-01T00:00:00UTC  -  1950-01-31T00:00:00UTC\n",
      "{'descripcion': 'exito', 'estado': 200, 'datos': 'https://opendata.aemet.es/opendata/sh/90c53989', 'metadatos': 'https://opendata.aemet.es/opendata/sh/b3aa9d28'}\n",
      "No hay datos que satisfagan esos criterios\n",
      "\n",
      "5270B  -  1950-01-31T00:00:00UTC  -  1950-03-02T00:00:00UTC\n",
      "{'descripcion': 'exito', 'estado': 200, 'datos': 'https://opendata.aemet.es/opendata/sh/99e2acf1', 'metadatos': 'https://opendata.aemet.es/opendata/sh/b3aa9d28'}\n",
      "No hay datos que satisfagan esos criterios\n",
      "\n",
      "5270B  -  1950-03-02T00:00:00UTC  -  1950-04-01T00:00:00UTC\n",
      "{'descripcion': 'exito', 'estado': 200, 'datos': 'https://opendata.aemet.es/opendata/sh/0ebeb779', 'metadatos': 'https://opendata.aemet.es/opendata/sh/b3aa9d28'}\n",
      "No hay datos que satisfagan esos criterios\n",
      "\n",
      "5270B  -  1950-04-01T00:00:00UTC  -  1950-05-01T00:00:00UTC\n",
      "{'descripcion': 'exito', 'estado': 200, 'datos': 'https://opendata.aemet.es/opendata/sh/770f2985', 'metadatos': 'https://opendata.aemet.es/opendata/sh/b3aa9d28'}\n",
      "No hay datos que satisfagan esos criterios\n",
      "\n",
      "5270B  -  1950-05-01T00:00:00UTC  -  1950-05-31T00:00:00UTC\n",
      "{'descripcion': 'exito', 'estado': 200, 'datos': 'https://opendata.aemet.es/opendata/sh/dc32d715', 'metadatos': 'https://opendata.aemet.es/opendata/sh/b3aa9d28'}\n",
      "No hay datos que satisfagan esos criterios\n",
      "\n",
      "5270B  -  1950-05-31T00:00:00UTC  -  1950-06-30T00:00:00UTC\n",
      "{'descripcion': 'exito', 'estado': 200, 'datos': 'https://opendata.aemet.es/opendata/sh/b0549635', 'metadatos': 'https://opendata.aemet.es/opendata/sh/b3aa9d28'}\n",
      "No hay datos que satisfagan esos criterios\n",
      "\n",
      "5270B  -  1950-06-30T00:00:00UTC  -  1950-07-30T00:00:00UTC\n",
      "{'descripcion': 'exito', 'estado': 200, 'datos': 'https://opendata.aemet.es/opendata/sh/124fb7df', 'metadatos': 'https://opendata.aemet.es/opendata/sh/b3aa9d28'}\n",
      "No hay datos que satisfagan esos criterios\n",
      "\n",
      "5270B  -  1950-07-30T00:00:00UTC  -  1950-08-29T00:00:00UTC\n",
      "{'descripcion': 'exito', 'estado': 200, 'datos': 'https://opendata.aemet.es/opendata/sh/fcaaec74', 'metadatos': 'https://opendata.aemet.es/opendata/sh/b3aa9d28'}\n",
      "No hay datos que satisfagan esos criterios\n",
      "\n",
      "5270B  -  1950-08-29T00:00:00UTC  -  1950-09-28T00:00:00UTC\n",
      "{'descripcion': 'exito', 'estado': 200, 'datos': 'https://opendata.aemet.es/opendata/sh/4a3619a6', 'metadatos': 'https://opendata.aemet.es/opendata/sh/b3aa9d28'}\n",
      "No hay datos que satisfagan esos criterios\n",
      "\n",
      "5270B  -  1950-09-28T00:00:00UTC  -  1950-10-28T00:00:00UTC\n",
      "{'descripcion': 'exito', 'estado': 200, 'datos': 'https://opendata.aemet.es/opendata/sh/c02dcc3f', 'metadatos': 'https://opendata.aemet.es/opendata/sh/b3aa9d28'}\n",
      "No hay datos que satisfagan esos criterios\n",
      "\n",
      "5270B  -  1950-10-28T00:00:00UTC  -  1950-11-27T00:00:00UTC\n",
      "{'descripcion': 'exito', 'estado': 200, 'datos': 'https://opendata.aemet.es/opendata/sh/20d211ba', 'metadatos': 'https://opendata.aemet.es/opendata/sh/b3aa9d28'}\n",
      "No hay datos que satisfagan esos criterios\n",
      "\n",
      "5270B  -  1950-11-27T00:00:00UTC  -  1950-12-27T00:00:00UTC\n",
      "{'descripcion': 'exito', 'estado': 200, 'datos': 'https://opendata.aemet.es/opendata/sh/94807d11', 'metadatos': 'https://opendata.aemet.es/opendata/sh/b3aa9d28'}\n",
      "No hay datos que satisfagan esos criterios\n",
      "\n",
      "5270B  -  1950-12-27T00:00:00UTC  -  1951-01-26T00:00:00UTC\n",
      "{'descripcion': 'exito', 'estado': 200, 'datos': 'https://opendata.aemet.es/opendata/sh/8a457707', 'metadatos': 'https://opendata.aemet.es/opendata/sh/b3aa9d28'}\n",
      "No hay datos que satisfagan esos criterios\n",
      "\n",
      "5270B  -  1951-01-26T00:00:00UTC  -  1951-02-25T00:00:00UTC\n",
      "{'descripcion': 'exito', 'estado': 200, 'datos': 'https://opendata.aemet.es/opendata/sh/72163884', 'metadatos': 'https://opendata.aemet.es/opendata/sh/b3aa9d28'}\n",
      "No hay datos que satisfagan esos criterios\n",
      "\n",
      "5270B  -  1951-02-25T00:00:00UTC  -  1951-03-27T00:00:00UTC\n",
      "{'descripcion': 'exito', 'estado': 200, 'datos': 'https://opendata.aemet.es/opendata/sh/1bc60da7', 'metadatos': 'https://opendata.aemet.es/opendata/sh/b3aa9d28'}\n",
      "No hay datos que satisfagan esos criterios\n",
      "\n",
      "5270B  -  1951-03-27T00:00:00UTC  -  1951-04-26T00:00:00UTC\n",
      "{'descripcion': 'exito', 'estado': 200, 'datos': 'https://opendata.aemet.es/opendata/sh/4804a5d1', 'metadatos': 'https://opendata.aemet.es/opendata/sh/b3aa9d28'}\n",
      "No hay datos que satisfagan esos criterios\n",
      "\n",
      "5270B  -  1951-04-26T00:00:00UTC  -  1951-05-26T00:00:00UTC\n",
      "{'descripcion': 'exito', 'estado': 200, 'datos': 'https://opendata.aemet.es/opendata/sh/37d048d5', 'metadatos': 'https://opendata.aemet.es/opendata/sh/b3aa9d28'}\n",
      "No hay datos que satisfagan esos criterios\n",
      "\n",
      "5270B  -  1951-05-26T00:00:00UTC  -  1951-06-25T00:00:00UTC\n",
      "{'descripcion': 'exito', 'estado': 200, 'datos': 'https://opendata.aemet.es/opendata/sh/e1416a34', 'metadatos': 'https://opendata.aemet.es/opendata/sh/b3aa9d28'}\n",
      "No hay datos que satisfagan esos criterios\n",
      "\n",
      "5270B  -  1951-06-25T00:00:00UTC  -  1951-07-25T00:00:00UTC\n",
      "{'descripcion': 'exito', 'estado': 200, 'datos': 'https://opendata.aemet.es/opendata/sh/c2b760d0', 'metadatos': 'https://opendata.aemet.es/opendata/sh/b3aa9d28'}\n",
      "No hay datos que satisfagan esos criterios\n",
      "\n",
      "5270B  -  1951-07-25T00:00:00UTC  -  1951-08-24T00:00:00UTC\n",
      "{'descripcion': 'exito', 'estado': 200, 'datos': 'https://opendata.aemet.es/opendata/sh/5617cb9c', 'metadatos': 'https://opendata.aemet.es/opendata/sh/b3aa9d28'}\n",
      "No hay datos que satisfagan esos criterios\n",
      "\n",
      "5270B  -  1951-08-24T00:00:00UTC  -  1951-09-23T00:00:00UTC\n",
      "{'descripcion': 'exito', 'estado': 200, 'datos': 'https://opendata.aemet.es/opendata/sh/c071c3d9', 'metadatos': 'https://opendata.aemet.es/opendata/sh/b3aa9d28'}\n",
      "No hay datos que satisfagan esos criterios\n",
      "\n",
      "5270B  -  1951-09-23T00:00:00UTC  -  1951-10-23T00:00:00UTC\n",
      "{'descripcion': 'exito', 'estado': 200, 'datos': 'https://opendata.aemet.es/opendata/sh/b6656c44', 'metadatos': 'https://opendata.aemet.es/opendata/sh/b3aa9d28'}\n"
     ]
    },
    {
     "ename": "JSONDecodeError",
     "evalue": "Expecting value: line 1 column 1 (char 0)",
     "output_type": "error",
     "traceback": [
      "\u001b[1;31m---------------------------------------------------------------------------\u001b[0m",
      "\u001b[1;31mJSONDecodeError\u001b[0m                           Traceback (most recent call last)",
      "\u001b[1;32m<ipython-input-45-04e4ca625891>\u001b[0m in \u001b[0;36m<module>\u001b[1;34m()\u001b[0m\n\u001b[0;32m      6\u001b[0m \u001b[1;33m\u001b[0m\u001b[0m\n\u001b[0;32m      7\u001b[0m     \u001b[1;31m# Extraer los datos\u001b[0m\u001b[1;33m\u001b[0m\u001b[1;33m\u001b[0m\u001b[0m\n\u001b[1;32m----> 8\u001b[1;33m     \u001b[0mraw_data\u001b[0m \u001b[1;33m=\u001b[0m \u001b[0mextract_data\u001b[0m\u001b[1;33m(\u001b[0m\u001b[0mstn\u001b[0m\u001b[1;33m,\u001b[0m \u001b[0mperiodos\u001b[0m\u001b[1;33m)\u001b[0m\u001b[1;33m\u001b[0m\u001b[0m\n\u001b[0m\u001b[0;32m      9\u001b[0m \u001b[1;33m\u001b[0m\u001b[0m\n\u001b[0;32m     10\u001b[0m     \u001b[1;31m# Convertir los datos en numeros reales\u001b[0m\u001b[1;33m\u001b[0m\u001b[1;33m\u001b[0m\u001b[0m\n",
      "\u001b[1;32m<ipython-input-12-fb522544d5de>\u001b[0m in \u001b[0;36mextract_data\u001b[1;34m(station, periodos)\u001b[0m\n\u001b[0;32m     48\u001b[0m                 \u001b[1;32mif\u001b[0m \u001b[0mestado\u001b[0m \u001b[1;33m==\u001b[0m \u001b[0mrequests\u001b[0m\u001b[1;33m.\u001b[0m\u001b[0mcodes\u001b[0m\u001b[1;33m.\u001b[0m\u001b[0mok\u001b[0m\u001b[1;33m:\u001b[0m\u001b[1;33m\u001b[0m\u001b[0m\n\u001b[0;32m     49\u001b[0m                     \u001b[1;31m#print(r_data.json())\u001b[0m\u001b[1;33m\u001b[0m\u001b[1;33m\u001b[0m\u001b[0m\n\u001b[1;32m---> 50\u001b[1;33m                     \u001b[0mraw_data\u001b[0m\u001b[1;33m.\u001b[0m\u001b[0mextend\u001b[0m\u001b[1;33m(\u001b[0m\u001b[0mr_data\u001b[0m\u001b[1;33m.\u001b[0m\u001b[0mjson\u001b[0m\u001b[1;33m(\u001b[0m\u001b[1;33m)\u001b[0m\u001b[1;33m)\u001b[0m\u001b[1;33m\u001b[0m\u001b[0m\n\u001b[0m\u001b[0;32m     51\u001b[0m                 \u001b[1;32melse\u001b[0m\u001b[1;33m:\u001b[0m\u001b[1;33m\u001b[0m\u001b[0m\n\u001b[0;32m     52\u001b[0m                     \u001b[0mprint\u001b[0m\u001b[1;33m(\u001b[0m\u001b[0mr_data\u001b[0m\u001b[1;33m.\u001b[0m\u001b[0mjson\u001b[0m\u001b[1;33m(\u001b[0m\u001b[1;33m)\u001b[0m\u001b[1;33m[\u001b[0m\u001b[1;34m'descripcion'\u001b[0m\u001b[1;33m]\u001b[0m\u001b[1;33m)\u001b[0m\u001b[1;33m\u001b[0m\u001b[0m\n",
      "\u001b[1;32mC:\\ProgramFiles\\Anaconda3\\lib\\site-packages\\requests\\models.py\u001b[0m in \u001b[0;36mjson\u001b[1;34m(self, **kwargs)\u001b[0m\n\u001b[0;32m    890\u001b[0m                     \u001b[1;31m# used.\u001b[0m\u001b[1;33m\u001b[0m\u001b[1;33m\u001b[0m\u001b[0m\n\u001b[0;32m    891\u001b[0m                     \u001b[1;32mpass\u001b[0m\u001b[1;33m\u001b[0m\u001b[0m\n\u001b[1;32m--> 892\u001b[1;33m         \u001b[1;32mreturn\u001b[0m \u001b[0mcomplexjson\u001b[0m\u001b[1;33m.\u001b[0m\u001b[0mloads\u001b[0m\u001b[1;33m(\u001b[0m\u001b[0mself\u001b[0m\u001b[1;33m.\u001b[0m\u001b[0mtext\u001b[0m\u001b[1;33m,\u001b[0m \u001b[1;33m**\u001b[0m\u001b[0mkwargs\u001b[0m\u001b[1;33m)\u001b[0m\u001b[1;33m\u001b[0m\u001b[0m\n\u001b[0m\u001b[0;32m    893\u001b[0m \u001b[1;33m\u001b[0m\u001b[0m\n\u001b[0;32m    894\u001b[0m     \u001b[1;33m@\u001b[0m\u001b[0mproperty\u001b[0m\u001b[1;33m\u001b[0m\u001b[0m\n",
      "\u001b[1;32mC:\\ProgramFiles\\Anaconda3\\lib\\json\\__init__.py\u001b[0m in \u001b[0;36mloads\u001b[1;34m(s, encoding, cls, object_hook, parse_float, parse_int, parse_constant, object_pairs_hook, **kw)\u001b[0m\n\u001b[0;32m    352\u001b[0m             \u001b[0mparse_int\u001b[0m \u001b[1;32mis\u001b[0m \u001b[1;32mNone\u001b[0m \u001b[1;32mand\u001b[0m \u001b[0mparse_float\u001b[0m \u001b[1;32mis\u001b[0m \u001b[1;32mNone\u001b[0m \u001b[1;32mand\u001b[0m\u001b[1;33m\u001b[0m\u001b[0m\n\u001b[0;32m    353\u001b[0m             parse_constant is None and object_pairs_hook is None and not kw):\n\u001b[1;32m--> 354\u001b[1;33m         \u001b[1;32mreturn\u001b[0m \u001b[0m_default_decoder\u001b[0m\u001b[1;33m.\u001b[0m\u001b[0mdecode\u001b[0m\u001b[1;33m(\u001b[0m\u001b[0ms\u001b[0m\u001b[1;33m)\u001b[0m\u001b[1;33m\u001b[0m\u001b[0m\n\u001b[0m\u001b[0;32m    355\u001b[0m     \u001b[1;32mif\u001b[0m \u001b[0mcls\u001b[0m \u001b[1;32mis\u001b[0m \u001b[1;32mNone\u001b[0m\u001b[1;33m:\u001b[0m\u001b[1;33m\u001b[0m\u001b[0m\n\u001b[0;32m    356\u001b[0m         \u001b[0mcls\u001b[0m \u001b[1;33m=\u001b[0m \u001b[0mJSONDecoder\u001b[0m\u001b[1;33m\u001b[0m\u001b[0m\n",
      "\u001b[1;32mC:\\ProgramFiles\\Anaconda3\\lib\\json\\decoder.py\u001b[0m in \u001b[0;36mdecode\u001b[1;34m(self, s, _w)\u001b[0m\n\u001b[0;32m    337\u001b[0m \u001b[1;33m\u001b[0m\u001b[0m\n\u001b[0;32m    338\u001b[0m         \"\"\"\n\u001b[1;32m--> 339\u001b[1;33m         \u001b[0mobj\u001b[0m\u001b[1;33m,\u001b[0m \u001b[0mend\u001b[0m \u001b[1;33m=\u001b[0m \u001b[0mself\u001b[0m\u001b[1;33m.\u001b[0m\u001b[0mraw_decode\u001b[0m\u001b[1;33m(\u001b[0m\u001b[0ms\u001b[0m\u001b[1;33m,\u001b[0m \u001b[0midx\u001b[0m\u001b[1;33m=\u001b[0m\u001b[0m_w\u001b[0m\u001b[1;33m(\u001b[0m\u001b[0ms\u001b[0m\u001b[1;33m,\u001b[0m \u001b[1;36m0\u001b[0m\u001b[1;33m)\u001b[0m\u001b[1;33m.\u001b[0m\u001b[0mend\u001b[0m\u001b[1;33m(\u001b[0m\u001b[1;33m)\u001b[0m\u001b[1;33m)\u001b[0m\u001b[1;33m\u001b[0m\u001b[0m\n\u001b[0m\u001b[0;32m    340\u001b[0m         \u001b[0mend\u001b[0m \u001b[1;33m=\u001b[0m \u001b[0m_w\u001b[0m\u001b[1;33m(\u001b[0m\u001b[0ms\u001b[0m\u001b[1;33m,\u001b[0m \u001b[0mend\u001b[0m\u001b[1;33m)\u001b[0m\u001b[1;33m.\u001b[0m\u001b[0mend\u001b[0m\u001b[1;33m(\u001b[0m\u001b[1;33m)\u001b[0m\u001b[1;33m\u001b[0m\u001b[0m\n\u001b[0;32m    341\u001b[0m         \u001b[1;32mif\u001b[0m \u001b[0mend\u001b[0m \u001b[1;33m!=\u001b[0m \u001b[0mlen\u001b[0m\u001b[1;33m(\u001b[0m\u001b[0ms\u001b[0m\u001b[1;33m)\u001b[0m\u001b[1;33m:\u001b[0m\u001b[1;33m\u001b[0m\u001b[0m\n",
      "\u001b[1;32mC:\\ProgramFiles\\Anaconda3\\lib\\json\\decoder.py\u001b[0m in \u001b[0;36mraw_decode\u001b[1;34m(self, s, idx)\u001b[0m\n\u001b[0;32m    355\u001b[0m             \u001b[0mobj\u001b[0m\u001b[1;33m,\u001b[0m \u001b[0mend\u001b[0m \u001b[1;33m=\u001b[0m \u001b[0mself\u001b[0m\u001b[1;33m.\u001b[0m\u001b[0mscan_once\u001b[0m\u001b[1;33m(\u001b[0m\u001b[0ms\u001b[0m\u001b[1;33m,\u001b[0m \u001b[0midx\u001b[0m\u001b[1;33m)\u001b[0m\u001b[1;33m\u001b[0m\u001b[0m\n\u001b[0;32m    356\u001b[0m         \u001b[1;32mexcept\u001b[0m \u001b[0mStopIteration\u001b[0m \u001b[1;32mas\u001b[0m \u001b[0merr\u001b[0m\u001b[1;33m:\u001b[0m\u001b[1;33m\u001b[0m\u001b[0m\n\u001b[1;32m--> 357\u001b[1;33m             \u001b[1;32mraise\u001b[0m \u001b[0mJSONDecodeError\u001b[0m\u001b[1;33m(\u001b[0m\u001b[1;34m\"Expecting value\"\u001b[0m\u001b[1;33m,\u001b[0m \u001b[0ms\u001b[0m\u001b[1;33m,\u001b[0m \u001b[0merr\u001b[0m\u001b[1;33m.\u001b[0m\u001b[0mvalue\u001b[0m\u001b[1;33m)\u001b[0m \u001b[1;32mfrom\u001b[0m \u001b[1;32mNone\u001b[0m\u001b[1;33m\u001b[0m\u001b[0m\n\u001b[0m\u001b[0;32m    358\u001b[0m         \u001b[1;32mreturn\u001b[0m \u001b[0mobj\u001b[0m\u001b[1;33m,\u001b[0m \u001b[0mend\u001b[0m\u001b[1;33m\u001b[0m\u001b[0m\n",
      "\u001b[1;31mJSONDecodeError\u001b[0m: Expecting value: line 1 column 1 (char 0)"
     ]
    }
   ],
   "source": [
    "# Extraer, reorganizar y exportar las series de cada una de las estaciones\n",
    "for stn in stn_AEMET_sub.index[1:]:\n",
    "    # Cargar la API key\n",
    "    api_key = open(ruta_API).read().rstrip()\n",
    "    querystring = {\"api_key\": api_key}\n",
    "    \n",
    "    # Extraer los datos\n",
    "    raw_data = extract_data(stn, periodos)\n",
    "    \n",
    "    # Convertir los datos en numeros reales\n",
    "    data = parse_data(raw_data)\n",
    "\n",
    "    # Reorganizar la serie en forma de data frame\n",
    "    serie = serie_df(data)\n",
    "    \n",
    "    # Exportar la serie\n",
    "    serie.to_csv(ruta_series + stn + '_' + stn_AEMET_sub.loc[stn, 'nombre'] + '.csv', index=None, na_rep='NaN')\n",
    "    \n",
    "    del raw_data, data, serie"
   ]
  },
  {
   "cell_type": "code",
   "execution_count": 37,
   "metadata": {},
   "outputs": [],
   "source": [
    "data_url = r.json()['datos']\n",
    "r_data = requests.get(data_url, params=querystring, verify=False)"
   ]
  },
  {
   "cell_type": "code",
   "execution_count": 38,
   "metadata": {},
   "outputs": [
    {
     "data": {
      "text/plain": [
       "<Response [200]>"
      ]
     },
     "execution_count": 38,
     "metadata": {},
     "output_type": "execute_result"
    }
   ],
   "source": [
    "r_data"
   ]
  },
  {
   "cell_type": "code",
   "execution_count": 40,
   "metadata": {},
   "outputs": [
    {
     "data": {
      "text/plain": [
       "{'descripcion': 'datos expirados', 'estado': 404}"
      ]
     },
     "execution_count": 40,
     "metadata": {},
     "output_type": "execute_result"
    }
   ],
   "source": [
    "r_data.json()"
   ]
  },
  {
   "cell_type": "code",
   "execution_count": null,
   "metadata": {
    "collapsed": true
   },
   "outputs": [],
   "source": []
  }
 ],
 "metadata": {
  "kernelspec": {
   "display_name": "Python 3",
   "language": "python",
   "name": "python3"
  },
  "language_info": {
   "codemirror_mode": {
    "name": "ipython",
    "version": 3
   },
   "file_extension": ".py",
   "mimetype": "text/x-python",
   "name": "python",
   "nbconvert_exporter": "python",
   "pygments_lexer": "ipython3",
   "version": "3.6.3"
  }
 },
 "nbformat": 4,
 "nbformat_minor": 2
}
