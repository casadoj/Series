{
 "cells": [
  {
   "cell_type": "markdown",
   "metadata": {},
   "source": [
    "# Introducción\n",
    "\n",
    "Crea las series diarias de temperatura máxima, mínima y media de las estaciones de la AEMET en toda España en el periodo 1950-2015.\n",
    "Los datos provienen de una serie de archivos en las que se dividen por zonas del país y periodos de varios años"
   ]
  },
  {
   "cell_type": "code",
   "execution_count": 57,
   "metadata": {
    "collapsed": true
   },
   "outputs": [],
   "source": [
    "import pandas as pd\n",
    "import matplotlib.pyplot as plt\n",
    "%matplotlib inline\n",
    "#from mpl_toolkits.basemap import Basemap, cm\n",
    "import numpy as np\n",
    "import glob\n",
    "import sys\n",
    "import tqdm\n",
    "from dateutil import parser\n",
    "import datetime\n",
    "from itertools import chain\n",
    "import csv"
   ]
  },
  {
   "cell_type": "code",
   "execution_count": 4,
   "metadata": {
    "collapsed": true
   },
   "outputs": [],
   "source": [
    "# Ruta de los datos y carpetas\n",
    "ruta_series = 'F:/Series/AEMET/2016_pet080_UNICAN/data/'\n",
    "folders = ['Ind_0001_3015', 'Ind_3018E_6250', 'Ind_6251_9812E', 'Ind_9813_C939U']\n",
    "ruta_exportar = 'F:/Series/AEMET/2016_pet080_UNICAN/data/'\n",
    "\n",
    "# Define el periodo de estudio\n",
    "time = pd.date_range(start='1950-01-01', end='2015-12-31', freq='D')"
   ]
  },
  {
   "cell_type": "markdown",
   "metadata": {},
   "source": [
    "### Extraer las estaciones con datos de precipitación\n",
    "\n",
    "Se extraen las estaciones con alguna medición y sus características (código, nombre, coordenadas, altitud, provincia).\n",
    "\n",
    "__Lista de archivos__"
   ]
  },
  {
   "cell_type": "code",
   "execution_count": 78,
   "metadata": {},
   "outputs": [
    {
     "name": "stdout",
     "output_type": "stream",
     "text": [
      "Nº de archivos: 61\n"
     ]
    }
   ],
   "source": [
    "files = []\n",
    "for folder in folders:\n",
    "    # Genera la serie de rutas de los archivos\n",
    "    f = glob.glob(ruta_series + folder + '/Datos-Pd*')\n",
    "    f = np.sort(f)\n",
    "    files.append(f)\n",
    "    del f\n",
    "# Convertir la lista a una dimensión\n",
    "files = list(chain.from_iterable(files))\n",
    "\n",
    "print('Nº de archivos:', len(files))"
   ]
  },
  {
   "cell_type": "code",
   "execution_count": 79,
   "metadata": {},
   "outputs": [
    {
     "name": "stderr",
     "output_type": "stream",
     "text": [
      "100%|██████████████████████████████████████████████████████████████████████████████████| 61/61 [00:45<00:00,  1.35it/s]\n"
     ]
    },
    {
     "name": "stdout",
     "output_type": "stream",
     "text": [
      "Nº de estaciones: 3381\n"
     ]
    }
   ],
   "source": [
    "# Extraer características de las estaciones\n",
    "estaciones = pd.DataFrame(columns=['INDICATIVO', 'NOMBRE', 'ALTITUD', 'C_X', 'C_Y', 'NOM_PROV', 'LONGITUD', 'LATITUD'])\n",
    "estaciones.set_index('INDICATIVO', drop=True, inplace=True)\n",
    "\n",
    "# Buscar estaciones y sus características en todos los archivos\n",
    "for file in tqdm.tqdm(files):\n",
    "    aux = pd.read_csv(file, sep=';', encoding='latin-1', usecols=[0, 4, 5, 6, 7, 8, 9 , 10], index_col=0,\n",
    "                      dtype={'INDICATIVO': str, 'NOM_PROV': str, 'LONGITUD': str})\n",
    "    for stn in aux.index.unique():\n",
    "        if stn not in estaciones.index:\n",
    "            estaciones = pd.concat((estaciones, pd.DataFrame(aux.loc[stn,:].iloc[0]).T), axis=0, join='outer')\n",
    "            \n",
    "estaciones.index.name = 'INDICATIVO'\n",
    "estaciones_pcp = estaciones\n",
    "#estaciones_pcp['Precipitacion'] = int(1)\n",
    "del estaciones\n",
    "\n",
    "print('Nº de estaciones:', estaciones_pcp.shape[0])"
   ]
  },
  {
   "cell_type": "markdown",
   "metadata": {
    "collapsed": true
   },
   "source": [
    "### Extraer las estaciones con datos de precipitación\n",
    "\n",
    "Se extraen las estaciones con alguna medición y sus características (código, nombre, coordenadas, altitud, provincia).\n",
    "\n",
    "__Lista de archivos__"
   ]
  },
  {
   "cell_type": "code",
   "execution_count": 80,
   "metadata": {},
   "outputs": [
    {
     "name": "stdout",
     "output_type": "stream",
     "text": [
      "Nº de archivos: 25\n"
     ]
    }
   ],
   "source": [
    "files = []\n",
    "for folder in folders:\n",
    "    # Genera la serie de rutas de los archivos\n",
    "    f = glob.glob(ruta_series + folder + '/Datos-Td*')\n",
    "    f = np.sort(f)\n",
    "    files.append(f)\n",
    "    del f\n",
    "# Convertir la lista a una dimensión\n",
    "files = list(chain.from_iterable(files))\n",
    "\n",
    "print('Nº de archivos:', len(files))"
   ]
  },
  {
   "cell_type": "code",
   "execution_count": 81,
   "metadata": {},
   "outputs": [
    {
     "name": "stderr",
     "output_type": "stream",
     "text": [
      "100%|██████████████████████████████████████████████████████████████████████████████████| 25/25 [00:18<00:00,  1.34it/s]\n"
     ]
    },
    {
     "name": "stdout",
     "output_type": "stream",
     "text": [
      "Nº de estaciones: 1627\n"
     ]
    }
   ],
   "source": [
    "# Extraer características de las estaciones\n",
    "estaciones = pd.DataFrame(columns=['INDICATIVO', 'NOMBRE', 'ALTITUD', 'C_X', 'C_Y', 'NOM_PROV', 'LONGITUD', 'LATITUD'])\n",
    "estaciones.set_index('INDICATIVO', drop=True, inplace=True)\n",
    "\n",
    "# Buscar estaciones y sus características en todos los archivos\n",
    "for file in tqdm.tqdm(files):\n",
    "    aux = pd.read_csv(file, sep=';', encoding='latin-1', usecols=[0, 4, 5, 6, 7, 8, 9 , 10], index_col=0,\n",
    "                      dtype={'INDICATIVO': str, 'NOM_PROV': str, 'LONGITUD': str})\n",
    "    for stn in aux.index.unique():\n",
    "        if stn not in estaciones.index:\n",
    "            estaciones = pd.concat((estaciones, pd.DataFrame(aux.loc[stn,:].iloc[0]).T), axis=0, join='outer')\n",
    "    del aux\n",
    "    \n",
    "estaciones.index.name = 'INDICATIVO'\n",
    "estaciones_tmp = estaciones\n",
    "#estaciones_tmp['Temperatura'] = int(1)\n",
    "del estaciones\n",
    "\n",
    "print('Nº de estaciones:', estaciones_tmp.shape[0])"
   ]
  },
  {
   "cell_type": "markdown",
   "metadata": {},
   "source": [
    "### Unir las estaciones"
   ]
  },
  {
   "cell_type": "code",
   "execution_count": 101,
   "metadata": {},
   "outputs": [
    {
     "name": "stdout",
     "output_type": "stream",
     "text": [
      "Nº total de estaciones: 3386\n"
     ]
    },
    {
     "data": {
      "text/html": [
       "<div>\n",
       "<style>\n",
       "    .dataframe thead tr:only-child th {\n",
       "        text-align: right;\n",
       "    }\n",
       "\n",
       "    .dataframe thead th {\n",
       "        text-align: left;\n",
       "    }\n",
       "\n",
       "    .dataframe tbody tr th {\n",
       "        vertical-align: top;\n",
       "    }\n",
       "</style>\n",
       "<table border=\"1\" class=\"dataframe\">\n",
       "  <thead>\n",
       "    <tr style=\"text-align: right;\">\n",
       "      <th></th>\n",
       "      <th>NOMBRE</th>\n",
       "      <th>PROVINCIA</th>\n",
       "      <th>ALTITUD</th>\n",
       "      <th>COORD_X</th>\n",
       "      <th>COORD_Y</th>\n",
       "      <th>VAR_OBS</th>\n",
       "      <th>DATUM</th>\n",
       "    </tr>\n",
       "    <tr>\n",
       "      <th>INDICATIVO</th>\n",
       "      <th></th>\n",
       "      <th></th>\n",
       "      <th></th>\n",
       "      <th></th>\n",
       "      <th></th>\n",
       "      <th></th>\n",
       "      <th></th>\n",
       "    </tr>\n",
       "  </thead>\n",
       "  <tbody>\n",
       "    <tr>\n",
       "      <th>0001</th>\n",
       "      <td>EL PERELLO</td>\n",
       "      <td>TARRAGONA</td>\n",
       "      <td>148</td>\n",
       "      <td>812828</td>\n",
       "      <td>4531428</td>\n",
       "      <td>PdTd</td>\n",
       "      <td>ETRS89</td>\n",
       "    </tr>\n",
       "    <tr>\n",
       "      <th>0002</th>\n",
       "      <td>L'AMETLLA DE MAR</td>\n",
       "      <td>TARRAGONA</td>\n",
       "      <td>22</td>\n",
       "      <td>820261</td>\n",
       "      <td>4532998</td>\n",
       "      <td>Pd</td>\n",
       "      <td>ETRS89</td>\n",
       "    </tr>\n",
       "    <tr>\n",
       "      <th>0002I</th>\n",
       "      <td>VANDELLÓS</td>\n",
       "      <td>TARRAGONA</td>\n",
       "      <td>32</td>\n",
       "      <td>825831</td>\n",
       "      <td>4541326</td>\n",
       "      <td>PdTd</td>\n",
       "      <td>ETRS89</td>\n",
       "    </tr>\n",
       "    <tr>\n",
       "      <th>0008</th>\n",
       "      <td>MONTBRIO DEL CAMP</td>\n",
       "      <td>TARRAGONA</td>\n",
       "      <td>120</td>\n",
       "      <td>836154</td>\n",
       "      <td>4559827</td>\n",
       "      <td>PdTd</td>\n",
       "      <td>ETRS89</td>\n",
       "    </tr>\n",
       "    <tr>\n",
       "      <th>0009</th>\n",
       "      <td>ALFORJA (HOSPITAL)</td>\n",
       "      <td>TARRAGONA</td>\n",
       "      <td>363</td>\n",
       "      <td>833372</td>\n",
       "      <td>4569638</td>\n",
       "      <td>PdTd</td>\n",
       "      <td>ETRS89</td>\n",
       "    </tr>\n",
       "  </tbody>\n",
       "</table>\n",
       "</div>"
      ],
      "text/plain": [
       "                        NOMBRE  PROVINCIA ALTITUD COORD_X  COORD_Y VAR_OBS  \\\n",
       "INDICATIVO                                                                   \n",
       " 0001               EL PERELLO  TARRAGONA     148  812828  4531428    PdTd   \n",
       " 0002         L'AMETLLA DE MAR  TARRAGONA      22  820261  4532998      Pd   \n",
       " 0002I               VANDELLÓS  TARRAGONA      32  825831  4541326    PdTd   \n",
       " 0008        MONTBRIO DEL CAMP  TARRAGONA     120  836154  4559827    PdTd   \n",
       " 0009       ALFORJA (HOSPITAL)  TARRAGONA     363  833372  4569638    PdTd   \n",
       "\n",
       "             DATUM  \n",
       "INDICATIVO          \n",
       " 0001       ETRS89  \n",
       " 0002       ETRS89  \n",
       " 0002I      ETRS89  \n",
       " 0008       ETRS89  \n",
       " 0009       ETRS89  "
      ]
     },
     "execution_count": 101,
     "metadata": {},
     "output_type": "execute_result"
    }
   ],
   "source": [
    "estaciones = pd.concat((estaciones_pcp, estaciones_tmp), axis=0, join='outer').drop_duplicates()\n",
    "estaciones.sort_index(axis=0, ascending=True, inplace=True)\n",
    "\n",
    "estaciones = estaciones[['NOMBRE', 'NOM_PROV', 'ALTITUD', 'C_X', 'C_Y']]\n",
    "estaciones.columns = ['NOMBRE', 'PROVINCIA', 'ALTITUD', 'COORD_X', 'COORD_Y']\n",
    "estaciones['VAR_OBS'] = ''\n",
    "estaciones.loc[estaciones_pcp.index, 'VAR_OBS'] = estaciones.loc[estaciones_pcp.index, 'VAR_OBS'] + 'Pd'\n",
    "estaciones.loc[estaciones_tmp.index, 'VAR_OBS'] = estaciones.loc[estaciones_tmp.index, 'VAR_OBS'] + 'Td'\n",
    "estaciones['DATUM'] = 'ETRS89'\n",
    "\n",
    "#estaciones['PRECIPITACION'], estaciones['TEMPERATURA'] = 0, 0\n",
    "#estaciones.loc[estaciones_pcp.index, 'PRECIPITACION'] = 1\n",
    "#estaciones.loc[estaciones_tmp.index, 'TEMPERATURA'] = 1\n",
    "\n",
    "estaciones.index = ' ' + estaciones.index\n",
    "estaciones.index.name = 'INDICATIVO'\n",
    "\n",
    "# Exportar la tabla de estaciones\n",
    "estaciones.to_csv(ruta_exportar + 'Estaciones_METEO.txt')\n",
    "\n",
    "print('Nº total de estaciones:', estaciones.shape[0])\n",
    "estaciones.head()"
   ]
  },
  {
   "cell_type": "code",
   "execution_count": null,
   "metadata": {
    "collapsed": true
   },
   "outputs": [],
   "source": []
  }
 ],
 "metadata": {
  "kernelspec": {
   "display_name": "Python 3",
   "language": "python",
   "name": "python3"
  },
  "language_info": {
   "codemirror_mode": {
    "name": "ipython",
    "version": 3
   },
   "file_extension": ".py",
   "mimetype": "text/x-python",
   "name": "python",
   "nbconvert_exporter": "python",
   "pygments_lexer": "ipython3",
   "version": "3.6.3"
  }
 },
 "nbformat": 4,
 "nbformat_minor": 1
}
